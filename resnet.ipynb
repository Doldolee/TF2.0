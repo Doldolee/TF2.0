{
  "nbformat": 4,
  "nbformat_minor": 0,
  "metadata": {
    "kernelspec": {
      "language": "python",
      "display_name": "Python 3",
      "name": "python3"
    },
    "language_info": {
      "pygments_lexer": "ipython3",
      "nbconvert_exporter": "python",
      "version": "3.6.4",
      "file_extension": ".py",
      "codemirror_mode": {
        "name": "ipython",
        "version": 3
      },
      "name": "python",
      "mimetype": "text/x-python"
    },
    "colab": {
      "name": "resnet.ipynb",
      "provenance": [],
      "include_colab_link": true
    }
  },
  "cells": [
    {
      "cell_type": "markdown",
      "metadata": {
        "id": "view-in-github",
        "colab_type": "text"
      },
      "source": [
        "<a href=\"https://colab.research.google.com/github/dolDolSee/TF2.0/blob/main/resnet.ipynb\" target=\"_parent\"><img src=\"https://colab.research.google.com/assets/colab-badge.svg\" alt=\"Open In Colab\"/></a>"
      ]
    },
    {
      "cell_type": "code",
      "metadata": {
        "_uuid": "8f2839f25d086af736a60e9eeb907d3b93b6e0e5",
        "_cell_guid": "b1076dfc-b9ad-4769-8c92-a6c4dae69d19",
        "execution": {
          "iopub.status.busy": "2021-12-04T10:30:55.702305Z",
          "iopub.execute_input": "2021-12-04T10:30:55.702721Z",
          "iopub.status.idle": "2021-12-04T10:30:55.711492Z",
          "shell.execute_reply.started": "2021-12-04T10:30:55.702676Z",
          "shell.execute_reply": "2021-12-04T10:30:55.708751Z"
        },
        "trusted": true,
        "id": "EQHeZ1QOKKdC"
      },
      "source": [
        "# This Python 3 environment comes with many helpful analytics libraries installed\n",
        "# It is defined by the kaggle/python Docker image: https://github.com/kaggle/docker-python\n",
        "# For example, here's several helpful packages to load\n",
        "\n",
        "import numpy as np # linear algebra\n",
        "import pandas as pd # data processing, CSV file I/O (e.g. pd.read_csv)\n",
        "\n",
        "# Input data files are available in the read-only \"../input/\" directory\n",
        "# For example, running this (by clicking run or pressing Shift+Enter) will list all files under the input directory\n",
        "\n",
        "import os\n",
        "for dirname, _, filenames in os.walk('/kaggle/input'):\n",
        "    for filename in filenames:\n",
        "        print(os.path.join(dirname, filename))\n",
        "\n",
        "# You can write up to 20GB to the current directory (/kaggle/working/) that gets preserved as output when you create a version using \"Save & Run All\" \n",
        "# You can also write temporary files to /kaggle/temp/, but they won't be saved outside of the current session"
      ],
      "execution_count": null,
      "outputs": []
    },
    {
      "cell_type": "code",
      "metadata": {
        "execution": {
          "iopub.status.busy": "2021-12-04T10:35:23.121725Z",
          "iopub.execute_input": "2021-12-04T10:35:23.122061Z",
          "iopub.status.idle": "2021-12-04T10:35:23.133440Z",
          "shell.execute_reply.started": "2021-12-04T10:35:23.122021Z",
          "shell.execute_reply": "2021-12-04T10:35:23.132386Z"
        },
        "trusted": true,
        "id": "PXBHCetnKKdJ"
      },
      "source": [
        "import tensorflow as tf\n",
        "\n",
        "def identity_block(input_tensor, middle_kernel_size, filters, stage, block):\n",
        "    filter1, filter2, filter3 = filters\n",
        "    conv_name_base = 'res' + str(stage) + block + '_branch'\n",
        "    bn_name_base = 'bn' + str(stage) + block + '_branch'\n",
        "    \n",
        "    x = tf.keras.layers.Conv2D(filters=filter1, kernel_size=(1,1), kernel_initializer=\"he_normal\", name=conv_name_base+\"2a\")(input_tensor)\n",
        "    x = tf.keras.layers.BatchNormalization(axis=-1, name=bn_name_base+\"2a\")(x)\n",
        "    x = tf.keras.layers.Activation(\"relu\")(x)\n",
        "    \n",
        "    x = tf.keras.layers.Conv2D(filters=filter2, kernel_size=(3,3),padding=\"same\", kernel_initializer=\"he_normal\", name=conv_name_base+\"2b\")(x)\n",
        "    x = tf.keras.layers.BatchNormalization(axis=-1, name=bn_name_base+\"2b\")(x)\n",
        "    x = tf.keras.layers.Activation(\"relu\")(x)\n",
        "    \n",
        "    x = tf.keras.layers.Conv2D(filters=filter3, kernel_size=(1,1), kernel_initializer=\"he_normal\", name=conv_name_base+\"2c\")(x)\n",
        "    x = tf.keras.layers.BatchNormalization(axis=-1, name=bn_name_base+\"2c\")(x)\n",
        "    \n",
        "    x = tf.keras.layers.Add()([input_tensor, x])\n",
        "    x = tf.keras.layers.Activation(\"relu\")(x)\n",
        "    \n",
        "    return x\n",
        "    \n",
        "    \n",
        "    \n",
        "    "
      ],
      "execution_count": null,
      "outputs": []
    },
    {
      "cell_type": "code",
      "metadata": {
        "execution": {
          "iopub.status.busy": "2021-12-04T10:35:23.230517Z",
          "iopub.execute_input": "2021-12-04T10:35:23.230974Z",
          "iopub.status.idle": "2021-12-04T10:35:23.322427Z",
          "shell.execute_reply.started": "2021-12-04T10:35:23.230925Z",
          "shell.execute_reply": "2021-12-04T10:35:23.321515Z"
        },
        "trusted": true,
        "id": "Qii1Tya-KKdK"
      },
      "source": [
        "input_tensor = tf.keras.layers.Input(shape=(56,56,256), name = \"test_input\")\n",
        "filters=[64,64,256]\n",
        "kernel_size=(3,3)\n",
        "stage=2\n",
        "block='a'\n",
        "\n",
        "output = identity_block(input_tensor, kernel_size, filters, stage, block)\n",
        "identity_layers=tf.keras.models.Model(inputs=input_tensor, outputs=output)\n",
        "identity_layers.summary()"
      ],
      "execution_count": null,
      "outputs": []
    },
    {
      "cell_type": "code",
      "metadata": {
        "execution": {
          "iopub.status.busy": "2021-12-04T10:36:55.447844Z",
          "iopub.execute_input": "2021-12-04T10:36:55.448149Z",
          "iopub.status.idle": "2021-12-04T10:36:55.673298Z",
          "shell.execute_reply.started": "2021-12-04T10:36:55.448114Z",
          "shell.execute_reply": "2021-12-04T10:36:55.672318Z"
        },
        "trusted": true,
        "id": "Pgx5ZSm7KKdK"
      },
      "source": [
        "input_tensor = tf.keras.layers.Input(shape=(56, 56, 256), name='test_input')\n",
        "x = identity_block(input_tensor, middle_kernel_size=3, filters=[64, 64, 256], stage=2, block='a')\n",
        "x = identity_block(x, middle_kernel_size=3, filters=[64, 64, 256], stage=2, block='b')\n",
        "output = identity_block(x, middle_kernel_size=3, filters=[64, 64, 256], stage=2, block='c')\n",
        "identity_layers = tf.keras.models.Model(inputs=input_tensor, outputs=output)\n",
        "identity_layers.summary()"
      ],
      "execution_count": null,
      "outputs": []
    },
    {
      "cell_type": "code",
      "metadata": {
        "execution": {
          "iopub.status.busy": "2021-12-04T10:45:11.388977Z",
          "iopub.execute_input": "2021-12-04T10:45:11.389251Z",
          "iopub.status.idle": "2021-12-04T10:45:11.404095Z",
          "shell.execute_reply.started": "2021-12-04T10:45:11.389224Z",
          "shell.execute_reply": "2021-12-04T10:45:11.403082Z"
        },
        "trusted": true,
        "id": "wrKvOuguKKdL"
      },
      "source": [
        "import tensorflow as tf\n",
        "\n",
        "def conv_block(input_tensor, middle_kernel_size, filters, stage, block, strides=(2,2)):\n",
        "    filter1, filter2, filter3 = filters\n",
        "    conv_name_base = 'res' + str(stage) + block + '_branch'\n",
        "    bn_name_base = 'bn' + str(stage) + block + '_branch'\n",
        "    \n",
        "    x = tf.keras.layers.Conv2D(filters=filter1, kernel_size=(1,1),strides=strides, kernel_initializer=\"he_normal\", name=conv_name_base+\"2a\")(input_tensor)\n",
        "    x = tf.keras.layers.BatchNormalization(axis=-1, name=bn_name_base+\"2a\")(x)\n",
        "    x = tf.keras.layers.Activation(\"relu\")(x)\n",
        "    \n",
        "    x = tf.keras.layers.Conv2D(filters=filter2, kernel_size=(3,3),padding=\"same\", kernel_initializer=\"he_normal\", name=conv_name_base+\"2b\")(x)\n",
        "    x = tf.keras.layers.BatchNormalization(axis=-1, name=bn_name_base+\"2b\")(x)\n",
        "    x = tf.keras.layers.Activation(\"relu\")(x)\n",
        "    \n",
        "    x = tf.keras.layers.Conv2D(filters=filter3, kernel_size=(1,1), kernel_initializer=\"he_normal\", name=conv_name_base+\"2c\")(x)\n",
        "    x = tf.keras.layers.BatchNormalization(axis=-1, name=bn_name_base+\"2c\")(x)\n",
        "    \n",
        "    shortcut = tf.keras.layers.Conv2D(filter3, (1, 1), strides=strides, kernel_initializer='he_normal', name=conv_name_base+'1')(input_tensor)\n",
        "    shortcut = tf.keras.layers.BatchNormalization(axis=3, name=bn_name_base+'1')(shortcut)\n",
        "    x = tf.keras.layers.Add()([shortcut, x])\n",
        "    x = tf.keras.layers.Activation(\"relu\")(x)\n",
        "    \n",
        "    return x\n",
        "    \n",
        "    "
      ],
      "execution_count": null,
      "outputs": []
    },
    {
      "cell_type": "code",
      "metadata": {
        "execution": {
          "iopub.status.busy": "2021-12-04T10:45:11.851538Z",
          "iopub.execute_input": "2021-12-04T10:45:11.852027Z",
          "iopub.status.idle": "2021-12-04T10:45:12.092362Z",
          "shell.execute_reply.started": "2021-12-04T10:45:11.851992Z",
          "shell.execute_reply": "2021-12-04T10:45:12.090960Z"
        },
        "trusted": true,
        "id": "F5cg_mCUKKdM"
      },
      "source": [
        "input_tensor = tf.keras.layers.Input(shape=(56, 56, 256), name='test_input')\n",
        "# conv_block() 호출 시 strides를 2로 설정하여 입력 feature map의 크기를 절반으로 줄임. strides=1이면 크기를 그대로 유지\n",
        "x = conv_block(input_tensor, middle_kernel_size=3, filters=[64, 64, 256], strides=2, stage=2, block='a')\n",
        "x = identity_block(x, middle_kernel_size=3, filters=[64, 64, 256], stage=2, block='b')\n",
        "output = identity_block(x, middle_kernel_size=3, filters=[64, 64, 256], stage=2, block='c')\n",
        "identity_layers =tf.keras.models.Model(inputs=input_tensor, outputs=output)\n",
        "identity_layers.summary()"
      ],
      "execution_count": null,
      "outputs": []
    },
    {
      "cell_type": "code",
      "metadata": {
        "execution": {
          "iopub.status.busy": "2021-12-04T10:48:20.392766Z",
          "iopub.execute_input": "2021-12-04T10:48:20.393061Z",
          "iopub.status.idle": "2021-12-04T10:48:20.447527Z",
          "shell.execute_reply.started": "2021-12-04T10:48:20.393033Z",
          "shell.execute_reply": "2021-12-04T10:48:20.446334Z"
        },
        "trusted": true,
        "id": "x2nU_kMNKKdN"
      },
      "source": [
        "from tensorflow.keras.layers import ZeroPadding2D, MaxPooling2D\n",
        "from tensorflow.keras.layers import Input, BatchNormalization, Activation, Conv2D\n",
        "from tensorflow.keras.models import Model\n",
        "\n",
        "def do_first_conv(input_tensor):\n",
        "    # 7x7 Conv 연산 수행하여 feature map 생성하되 input_tensor 크기(image 크기)의 절반으로 생성.  filter 개수는 64개 \n",
        "    # 224x224 를 input을 7x7 conv, strides=2로 112x112 출력하기 위해 Zero padding 적용. \n",
        "    x = ZeroPadding2D(padding=(3, 3), name='conv1_pad')(input_tensor)\n",
        "    x = Conv2D(64, (7, 7), strides=(2, 2), padding='valid', kernel_initializer='he_normal', name='conv')(x)\n",
        "    x = BatchNormalization(axis=3, name='bn_conv1')(x)\n",
        "    x = Activation('relu')(x)\n",
        "    # 다시 feature map 크기를 MaxPooling으로 절반으로 만듬. 56x56으로 출력하기 위해 zero padding 적용. \n",
        "    x = ZeroPadding2D(padding=(1, 1), name='pool1_pad')(x)\n",
        "    x = MaxPooling2D((3, 3), strides=(2, 2))(x)\n",
        "    \n",
        "    return x\n",
        "\n",
        "input_tensor = Input(shape=(224, 224, 3))\n",
        "output = do_first_conv(input_tensor)\n",
        "model = Model(inputs=input_tensor, outputs=output)\n",
        "model.summary()"
      ],
      "execution_count": null,
      "outputs": []
    },
    {
      "cell_type": "code",
      "metadata": {
        "execution": {
          "iopub.status.busy": "2021-12-04T10:49:23.221687Z",
          "iopub.execute_input": "2021-12-04T10:49:23.221994Z",
          "iopub.status.idle": "2021-12-04T10:49:23.243725Z",
          "shell.execute_reply.started": "2021-12-04T10:49:23.221962Z",
          "shell.execute_reply": "2021-12-04T10:49:23.242933Z"
        },
        "trusted": true,
        "id": "giQF_k2cKKdO"
      },
      "source": [
        "from tensorflow.keras.models import Model\n",
        "from tensorflow.keras.layers import Input, Dense , Conv2D , Dropout , Flatten , Activation, MaxPooling2D , GlobalAveragePooling2D\n",
        "from tensorflow.keras.optimizers import Adam , RMSprop \n",
        "from tensorflow.keras.layers import BatchNormalization\n",
        "from tensorflow.keras.callbacks import ReduceLROnPlateau , EarlyStopping , ModelCheckpoint , LearningRateScheduler\n",
        "\n",
        "def create_resnet(in_shape=(224, 224, 3), n_classes=10):\n",
        "    input_tensor = Input(shape=in_shape)\n",
        "    \n",
        "    #첫번째 7x7 Conv와 Max Polling 적용.  \n",
        "    x = do_first_conv(input_tensor)\n",
        "    \n",
        "    # stage 2의 conv_block과 identity block 생성. stage2의 첫번째 conv_block은 strides를 1로 하여 크기를 줄이지 않음. \n",
        "    x = conv_block(x, 3, [64, 64, 256], stage=2, block='a', strides=(1, 1))\n",
        "    x = identity_block(x, 3, [64, 64, 256], stage=2, block='b')\n",
        "    x = identity_block(x, 3, [64, 64, 256], stage=2, block='c')\n",
        "    \n",
        "    # stage 3의 conv_block과 identity block 생성. stage3의 첫번째 conv_block은 strides를 2(default)로 하여 크기를 줄임 \n",
        "    x = conv_block(x, 3, [128, 128, 512], stage=3, block='a')\n",
        "    x = identity_block(x, 3, [128, 128, 512], stage=3, block='b')\n",
        "    x = identity_block(x, 3, [128, 128, 512], stage=3, block='c')\n",
        "    x = identity_block(x, 3, [128, 128, 512], stage=3, block='d')\n",
        "\n",
        "    # stage 4의 conv_block과 identity block 생성. stage4의 첫번째 conv_block은 strides를 2(default)로 하여 크기를 줄임\n",
        "    x = conv_block(x, 3, [256, 256, 1024], stage=4, block='a')\n",
        "    x = identity_block(x, 3, [256, 256, 1024], stage=4, block='b')\n",
        "    x = identity_block(x, 3, [256, 256, 1024], stage=4, block='c')\n",
        "    x = identity_block(x, 3, [256, 256, 1024], stage=4, block='d')\n",
        "    x = identity_block(x, 3, [256, 256, 1024], stage=4, block='e')\n",
        "    x = identity_block(x, 3, [256, 256, 1024], stage=4, block='f')\n",
        "\n",
        "    # stage 5의 conv_block과 identity block 생성. stage5의 첫번째 conv_block은 strides를 2(default)로 하여 크기를 줄임\n",
        "    x = conv_block(x, 3, [512, 512, 2048], stage=5, block='a')\n",
        "    x = identity_block(x, 3, [512, 512, 2048], stage=5, block='b')\n",
        "    x = identity_block(x, 3, [512, 512, 2048], stage=5, block='c')\n",
        "    \n",
        "    # classification dense layer와 연결 전 GlobalAveragePooling 수행 \n",
        "    x = GlobalAveragePooling2D(name='avg_pool')(x)\n",
        "    x = Dropout(rate=0.5)(x)\n",
        "    x = Dense(200, activation='relu', name='fc_01')(x)\n",
        "    x = Dropout(rate=0.5)(x)\n",
        "    output = Dense(n_classes, activation='softmax', name='fc_final')(x)\n",
        "    \n",
        "    model = Model(inputs=input_tensor, outputs=output, name='resnet50')\n",
        "    model.summary()\n",
        "    \n",
        "    return model"
      ],
      "execution_count": null,
      "outputs": []
    },
    {
      "cell_type": "code",
      "metadata": {
        "execution": {
          "iopub.status.busy": "2021-12-04T10:49:31.589046Z",
          "iopub.execute_input": "2021-12-04T10:49:31.589486Z",
          "iopub.status.idle": "2021-12-04T10:49:31.593747Z",
          "shell.execute_reply.started": "2021-12-04T10:49:31.589448Z",
          "shell.execute_reply": "2021-12-04T10:49:31.593041Z"
        },
        "trusted": true,
        "id": "2T7sLz34KKdO"
      },
      "source": [
        "IMAGE_SIZE = 128\n",
        "BATCH_SIZE = 64"
      ],
      "execution_count": null,
      "outputs": []
    },
    {
      "cell_type": "code",
      "metadata": {
        "execution": {
          "iopub.status.busy": "2021-12-04T10:50:29.981149Z",
          "iopub.execute_input": "2021-12-04T10:50:29.981420Z",
          "iopub.status.idle": "2021-12-04T10:50:30.001932Z",
          "shell.execute_reply.started": "2021-12-04T10:50:29.981391Z",
          "shell.execute_reply": "2021-12-04T10:50:30.001264Z"
        },
        "trusted": true,
        "id": "QCxL-LMwKKdQ"
      },
      "source": [
        "import random as python_random\n",
        "from tensorflow.keras.utils import to_categorical\n",
        "from sklearn.model_selection import train_test_split\n",
        "from tensorflow.keras.datasets import cifar10\n",
        "from tensorflow.keras.utils import Sequence\n",
        "import cv2\n",
        "import sklearn\n",
        "\n",
        "def zero_one_scaler(image):\n",
        "    return image/255.0\n",
        "\n",
        "def get_preprocessed_ohe(images, labels, pre_func=None):\n",
        "    # preprocessing 함수가 입력되면 이를 이용하여 image array를 scaling 적용.\n",
        "    if pre_func is not None:\n",
        "        images = pre_func(images)\n",
        "    # OHE 적용    \n",
        "    oh_labels = to_categorical(labels)\n",
        "    return images, oh_labels\n",
        "\n",
        "# 학습/검증/테스트 데이터 세트에 전처리 및 OHE 적용한 뒤 반환 \n",
        "def get_train_valid_test_set(train_images, train_labels, test_images, test_labels, valid_size=0.15, random_state=2021):\n",
        "    # 학습 및 테스트 데이터 세트를  0 ~ 1사이값 float32로 변경 및 OHE 적용. \n",
        "    train_images, train_oh_labels = get_preprocessed_ohe(train_images, train_labels)\n",
        "    test_images, test_oh_labels = get_preprocessed_ohe(test_images, test_labels)\n",
        "    \n",
        "    # 학습 데이터를 검증 데이터 세트로 다시 분리\n",
        "    tr_images, val_images, tr_oh_labels, val_oh_labels = train_test_split(train_images, train_oh_labels, test_size=valid_size, random_state=random_state)\n",
        "    \n",
        "    return (tr_images, tr_oh_labels), (val_images, val_oh_labels), (test_images, test_oh_labels )\n",
        "\n",
        "from tensorflow.keras.utils import Sequence\n",
        "import cv2\n",
        "import sklearn\n",
        "\n",
        "# 입력 인자 images_array labels는 모두 numpy array로 들어옴. \n",
        "# 인자로 입력되는 images_array는 전체 32x32 image array임. \n",
        "class CIFAR_Dataset(Sequence):\n",
        "    def __init__(self, images_array, labels, batch_size=BATCH_SIZE, augmentor=None, shuffle=False, pre_func=None):\n",
        "        '''\n",
        "        파라미터 설명\n",
        "        images_array: 원본 32x32 만큼의 image 배열값. \n",
        "        labels: 해당 image의 label들\n",
        "        batch_size: __getitem__(self, index) 호출 시 마다 가져올 데이터 batch 건수\n",
        "        augmentor: albumentations 객체\n",
        "        shuffle: 학습 데이터의 경우 epoch 종료시마다 데이터를 섞을지 여부\n",
        "        '''\n",
        "        # 객체 생성 인자로 들어온 값을 객체 내부 변수로 할당. \n",
        "        # 인자로 입력되는 images_array는 전체 32x32 image array임.\n",
        "        self.images_array = images_array\n",
        "        self.labels = labels\n",
        "        self.batch_size = batch_size\n",
        "        self.augmentor = augmentor\n",
        "        self.pre_func = pre_func\n",
        "        # train data의 경우 \n",
        "        self.shuffle = shuffle\n",
        "        if self.shuffle:\n",
        "            # 객체 생성시에 한번 데이터를 섞음. \n",
        "            #self.on_epoch_end()\n",
        "            pass\n",
        "    \n",
        "    # Sequence를 상속받은 Dataset은 batch_size 단위로 입력된 데이터를 처리함. \n",
        "    # __len__()은 전체 데이터 건수가 주어졌을 때 batch_size단위로 몇번 데이터를 반환하는지 나타남\n",
        "    def __len__(self):\n",
        "        # batch_size단위로 데이터를 몇번 가져와야하는지 계산하기 위해 전체 데이터 건수를 batch_size로 나누되, 정수로 정확히 나눠지지 않을 경우 1회를 더한다. \n",
        "        return int(np.ceil(len(self.labels) / self.batch_size))\n",
        "    \n",
        "    # batch_size 단위로 image_array, label_array 데이터를 가져와서 변환한 뒤 다시 반환함\n",
        "    # 인자로 몇번째 batch 인지를 나타내는 index를 입력하면 해당 순서에 해당하는 batch_size 만큼의 데이타를 가공하여 반환\n",
        "    # batch_size 갯수만큼 변환된 image_array와 label_array 반환. \n",
        "    def __getitem__(self, index):\n",
        "        # index는 몇번째 batch인지를 나타냄. \n",
        "        # batch_size만큼 순차적으로 데이터를 가져오려면 array에서 index*self.batch_size:(index+1)*self.batch_size 만큼의 연속 데이터를 가져오면 됨\n",
        "        # 32x32 image array를 self.batch_size만큼 가져옴. \n",
        "        images_fetch = self.images_array[index*self.batch_size:(index+1)*self.batch_size]\n",
        "        if self.labels is not None:\n",
        "            label_batch = self.labels[index*self.batch_size:(index+1)*self.batch_size]\n",
        "        \n",
        "        # 만일 객체 생성 인자로 albumentation으로 만든 augmentor가 주어진다면 아래와 같이 augmentor를 이용하여 image 변환\n",
        "        # albumentations은 개별 image만 변환할 수 있으므로 batch_size만큼 할당된 image_name_batch를 한 건씩 iteration하면서 변환 수행. \n",
        "        # 변환된 image 배열값을 담을 image_batch 선언. image_batch 배열은 float32 로 설정. \n",
        "        image_batch = np.zeros((images_fetch.shape[0], IMAGE_SIZE, IMAGE_SIZE, 3), dtype='float32')\n",
        "        \n",
        "        # batch_size에 담긴 건수만큼 iteration 하면서 opencv image load -> image augmentation 변환(augmentor가 not None일 경우)-> image_batch에 담음. \n",
        "        for image_index in range(images_fetch.shape[0]):\n",
        "            #image = cv2.cvtColor(cv2.imread(image_name_batch[image_index]), cv2.COLOR_BGR2RGB)\n",
        "            # 원본 image를 IMAGE_SIZE x IMAGE_SIZE 크기로 변환\n",
        "            image = cv2.resize(images_fetch[image_index], (IMAGE_SIZE, IMAGE_SIZE))\n",
        "            # 만약 augmentor가 주어졌다면 이를 적용. \n",
        "            if self.augmentor is not None:\n",
        "                image = self.augmentor(image=image)['image']\n",
        "                \n",
        "            # 만약 scaling 함수가 입력되었다면 이를 적용하여 scaling 수행. \n",
        "            if self.pre_func is not None:\n",
        "                image = self.pre_func(image)\n",
        "            \n",
        "            # image_batch에 순차적으로 변환된 image를 담음.               \n",
        "            image_batch[image_index] = image\n",
        "        \n",
        "        return image_batch, label_batch\n",
        "    \n",
        "    # epoch가 한번 수행이 완료 될 때마다 모델의 fit()에서 호출됨. \n",
        "    def on_epoch_end(self):\n",
        "        if(self.shuffle):\n",
        "            #print('epoch end')\n",
        "            # 원본 image배열과 label를 쌍을 맞춰서 섞어준다. scikt learn의 utils.shuffle에서 해당 기능 제공\n",
        "            self.images_array, self.labels = sklearn.utils.shuffle(self.images_array, self.labels)\n",
        "        else:\n",
        "            pass"
      ],
      "execution_count": null,
      "outputs": []
    },
    {
      "cell_type": "code",
      "metadata": {
        "execution": {
          "iopub.status.busy": "2021-12-04T10:50:34.668742Z",
          "iopub.execute_input": "2021-12-04T10:50:34.669252Z",
          "iopub.status.idle": "2021-12-04T10:50:48.894034Z",
          "shell.execute_reply.started": "2021-12-04T10:50:34.669203Z",
          "shell.execute_reply": "2021-12-04T10:50:48.892977Z"
        },
        "trusted": true,
        "id": "p2C8doIcKKdQ"
      },
      "source": [
        "# CIFAR10 데이터 재 로딩 및 OHE 전처리 적용하여 학습/검증/데이터 세트 생성. \n",
        "(train_images, train_labels), (test_images, test_labels) = cifar10.load_data()\n",
        "print(train_images.shape, train_labels.shape, test_images.shape, test_labels.shape)\n",
        "\n",
        "(tr_images, tr_oh_labels), (val_images, val_oh_labels), (test_images, test_oh_labels) = \\\n",
        "    get_train_valid_test_set(train_images, train_labels, test_images, test_labels, valid_size=0.2, random_state=2021)\n",
        "print(tr_images.shape, tr_oh_labels.shape, val_images.shape, val_oh_labels.shape, test_images.shape, test_oh_labels.shape)"
      ],
      "execution_count": null,
      "outputs": []
    },
    {
      "cell_type": "code",
      "metadata": {
        "execution": {
          "iopub.status.busy": "2021-12-04T10:50:48.895968Z",
          "iopub.execute_input": "2021-12-04T10:50:48.896297Z",
          "iopub.status.idle": "2021-12-04T10:50:49.012464Z",
          "shell.execute_reply.started": "2021-12-04T10:50:48.896254Z",
          "shell.execute_reply": "2021-12-04T10:50:49.011483Z"
        },
        "trusted": true,
        "id": "HRDiY21AKKdR"
      },
      "source": [
        "from tensorflow.keras.applications.resnet50 import preprocess_input as resnet_preprocess\n",
        "\n",
        "tr_ds = CIFAR_Dataset(tr_images, tr_oh_labels, batch_size=BATCH_SIZE, augmentor=None, shuffle=True, pre_func=resnet_preprocess)\n",
        "val_ds = CIFAR_Dataset(val_images, val_oh_labels, batch_size=BATCH_SIZE, augmentor=None, shuffle=False, pre_func=resnet_preprocess)\n",
        "\n",
        "print(next(iter(tr_ds))[0].shape, next(iter(val_ds))[0].shape)\n",
        "print(next(iter(tr_ds))[1].shape, next(iter(val_ds))[1].shape)\n",
        "# 채널별 값 - [103.939, 116.779, 123.68]\n",
        "print(next(iter(tr_ds))[0][0])"
      ],
      "execution_count": null,
      "outputs": []
    },
    {
      "cell_type": "code",
      "metadata": {
        "execution": {
          "iopub.status.busy": "2021-12-04T10:50:49.014054Z",
          "iopub.execute_input": "2021-12-04T10:50:49.014492Z",
          "iopub.status.idle": "2021-12-04T11:10:01.116671Z",
          "shell.execute_reply.started": "2021-12-04T10:50:49.014443Z",
          "shell.execute_reply": "2021-12-04T11:10:01.114708Z"
        },
        "collapsed": true,
        "jupyter": {
          "outputs_hidden": true
        },
        "trusted": true,
        "id": "qYZ3RILCKKdR"
      },
      "source": [
        "resnet_model = create_resnet(in_shape=(128, 128, 3), n_classes=10)\n",
        "\n",
        "resnet_model.compile(optimizer=Adam(lr=0.001), loss='categorical_crossentropy', metrics=['accuracy'])\n",
        "\n",
        "# 5번 iteration내에 validation loss가 향상되지 않으면 learning rate을 기존 learning rate * 0.2로 줄임.  \n",
        "rlr_cb = ReduceLROnPlateau(monitor='val_loss', factor=0.2, patience=3, mode='min', verbose=1)\n",
        "ely_cb = EarlyStopping(monitor='val_loss', patience=10, mode='min', verbose=1)\n",
        "\n",
        "history = resnet_model.fit(tr_ds, epochs=30, \n",
        "                    #steps_per_epoch=int(np.ceil(tr_images.shape[0]/BATCH_SIZE)),\n",
        "                    validation_data=val_ds, \n",
        "                    #validation_steps=int(np.ceil(val_images.shape[0]/BATCH_SIZE)), \n",
        "                    callbacks=[rlr_cb, ely_cb]\n",
        "                   )"
      ],
      "execution_count": null,
      "outputs": []
    },
    {
      "cell_type": "code",
      "metadata": {
        "id": "OJpYjSKbKKdS"
      },
      "source": [
        "input_tensor = tf.keras.layers.Input(shape=(128,128,3))\n",
        "base_model = tf.keras.applications.ResNet50(include_top=False, weights=None, input_tensor=input_tensor)\n",
        "bm_output = base_model.output\n",
        "x = tf.keras.GlobalAveragePooling2D(name=\"avg_pool\")(bm_output)\n",
        "x = tf.keras.layers.Dropout(0.5)(x)\n",
        "x = tf.keras.layers.Dense(200, activation='relu', name='fc_01')(x)\n",
        "x = rf.keras.layers.Dropout(rate=0.5)(x)\n",
        "output = tf.keras.layers.Dense(10, activation='softmax', name='fc_final')(x)\n",
        "\n",
        "pr_model = tf.keras.models.Model(inputs=input_tensor, outputs=output, name='resnet50')\n",
        "pr_model.summary()"
      ],
      "execution_count": null,
      "outputs": []
    }
  ]
}