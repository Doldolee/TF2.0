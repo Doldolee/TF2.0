{
  "nbformat": 4,
  "nbformat_minor": 0,
  "metadata": {
    "kernelspec": {
      "language": "python",
      "display_name": "Python 3",
      "name": "python3"
    },
    "language_info": {
      "name": "python",
      "version": "3.7.10",
      "mimetype": "text/x-python",
      "codemirror_mode": {
        "name": "ipython",
        "version": 3
      },
      "pygments_lexer": "ipython3",
      "nbconvert_exporter": "python",
      "file_extension": ".py"
    },
    "colab": {
      "name": "albumentations.ipynb",
      "provenance": [],
      "include_colab_link": true
    }
  },
  "cells": [
    {
      "cell_type": "markdown",
      "metadata": {
        "id": "view-in-github",
        "colab_type": "text"
      },
      "source": [
        "<a href=\"https://colab.research.google.com/github/dolDolSee/TF2.0/blob/main/albumentations.ipynb\" target=\"_parent\"><img src=\"https://colab.research.google.com/assets/colab-badge.svg\" alt=\"Open In Colab\"/></a>"
      ]
    },
    {
      "cell_type": "code",
      "metadata": {
        "_uuid": "8f2839f25d086af736a60e9eeb907d3b93b6e0e5",
        "_cell_guid": "b1076dfc-b9ad-4769-8c92-a6c4dae69d19",
        "execution": {
          "iopub.status.busy": "2021-11-25T14:28:58.021854Z",
          "iopub.execute_input": "2021-11-25T14:28:58.022919Z",
          "iopub.status.idle": "2021-11-25T14:28:58.033360Z",
          "shell.execute_reply.started": "2021-11-25T14:28:58.022868Z",
          "shell.execute_reply": "2021-11-25T14:28:58.032300Z"
        },
        "trusted": true,
        "id": "1kyLoD95r6uo"
      },
      "source": [
        "# This Python 3 environment comes with many helpful analytics libraries installed\n",
        "# It is defined by the kaggle/python Docker image: https://github.com/kaggle/docker-python\n",
        "# For example, here's several helpful packages to load\n",
        "\n",
        "import numpy as np # linear algebra\n",
        "import pandas as pd # data processing, CSV file I/O (e.g. pd.read_csv)\n",
        "\n",
        "# Input data files are available in the read-only \"../input/\" directory\n",
        "# For example, running this (by clicking run or pressing Shift+Enter) will list all files under the input directory\n",
        "\n",
        "import os\n",
        "for dirname, _, filenames in os.walk('/kaggle/input'):\n",
        "    for filename in filenames:\n",
        "        print(os.path.join(dirname, filename))\n",
        "\n",
        "# You can write up to 20GB to the current directory (/kaggle/working/) that gets preserved as output when you create a version using \"Save & Run All\" \n",
        "# You can also write temporary files to /kaggle/temp/, but they won't be saved outside of the current session"
      ],
      "execution_count": null,
      "outputs": []
    },
    {
      "cell_type": "code",
      "metadata": {
        "execution": {
          "iopub.status.busy": "2021-11-25T14:28:58.127309Z",
          "iopub.execute_input": "2021-11-25T14:28:58.127755Z",
          "iopub.status.idle": "2021-11-25T14:28:59.912570Z",
          "shell.execute_reply.started": "2021-11-25T14:28:58.127696Z",
          "shell.execute_reply": "2021-11-25T14:28:59.911534Z"
        },
        "trusted": true,
        "id": "d_HXnmB_r6uv"
      },
      "source": [
        "!wget https://www.sciencenews.org/wp-content/uploads/2020/03/033120_HT_covid-cat_feat-1028x579.jpg\n",
        "!ls -lia"
      ],
      "execution_count": null,
      "outputs": []
    },
    {
      "cell_type": "code",
      "metadata": {
        "execution": {
          "iopub.status.busy": "2021-11-25T14:28:59.915192Z",
          "iopub.execute_input": "2021-11-25T14:28:59.915561Z",
          "iopub.status.idle": "2021-11-25T14:29:00.319921Z",
          "shell.execute_reply.started": "2021-11-25T14:28:59.915510Z",
          "shell.execute_reply": "2021-11-25T14:29:00.318864Z"
        },
        "trusted": true,
        "id": "J6_o8_s4r6uw"
      },
      "source": [
        "import cv2\n",
        "import matplotlib.pyplot as plt\n",
        "\n",
        "org_image = cv2.cvtColor(cv2.imread('033120_HT_covid-cat_feat-1028x579.jpg'),cv2.COLOR_BGR2RGB)\n",
        "def show_image(image):\n",
        "    plt.figure(figsize=(8,8))\n",
        "    plt.imshow(image)\n",
        "    plt.axis('off')\n",
        "show_image(org_image)\n"
      ],
      "execution_count": null,
      "outputs": []
    },
    {
      "cell_type": "code",
      "metadata": {
        "execution": {
          "iopub.status.busy": "2021-11-25T14:29:04.807877Z",
          "iopub.execute_input": "2021-11-25T14:29:04.808645Z",
          "iopub.status.idle": "2021-11-25T14:29:05.112739Z",
          "shell.execute_reply.started": "2021-11-25T14:29:04.808602Z",
          "shell.execute_reply": "2021-11-25T14:29:05.111949Z"
        },
        "trusted": true,
        "id": "0AgsrYaar6ux"
      },
      "source": [
        "import albumentations as A\n",
        "\n",
        "augmentor = A.HorizontalFlip(p=0.5)\n",
        "#딕셔너리 형태로 들어옴\n",
        "aug_image = augmentor(image=org_image)['image']\n",
        "show_image(aug_image)"
      ],
      "execution_count": null,
      "outputs": []
    },
    {
      "cell_type": "code",
      "metadata": {
        "execution": {
          "iopub.status.busy": "2021-11-25T14:33:05.689352Z",
          "iopub.execute_input": "2021-11-25T14:33:05.690276Z",
          "iopub.status.idle": "2021-11-25T14:33:06.874779Z",
          "shell.execute_reply.started": "2021-11-25T14:33:05.690224Z",
          "shell.execute_reply": "2021-11-25T14:33:06.873880Z"
        },
        "trusted": true,
        "id": "Oh8edQt8r6ux"
      },
      "source": [
        "def show_images(images, labels, ncols=4, title=None):\n",
        "    figure, axs = plt.subplots(figsize=(22, 4), nrows=1, ncols=ncols)\n",
        "    for i in range(ncols):\n",
        "        axs[i].imshow(images[i])\n",
        "        axs[i].set_title(labels[i])\n",
        "\n",
        "# augmentor로 입력된 albumentations augmentation을 반복 수행\n",
        "def repeat_aug(count=4, org_image=None, label=None, augmentor=None):\n",
        "    image_list = [org_image]\n",
        "    label_list = ['original']\n",
        "    \n",
        "    for i in range(count):\n",
        "        aug_image = augmentor(image=org_image)['image']\n",
        "        image_list.append(aug_image)\n",
        "        label_list.append(label)\n",
        "              \n",
        "    show_images(image_list, label_list, ncols=count+1)\n",
        "    \n",
        "# 90도 범위안에서 돌아가면서 빈 영역은 검은색으로 채우겠다.\n",
        "augmentor = A.Rotate(limit=90, p=1, border_mode=cv2.BORDER_CONSTANT)\n",
        "#aug_image = augmentor(image=org_image)['image']\n",
        "\n",
        "repeat_aug(count=4, org_image=org_image, label='Rotate', augmentor=augmentor)"
      ],
      "execution_count": null,
      "outputs": []
    },
    {
      "cell_type": "code",
      "metadata": {
        "execution": {
          "iopub.status.busy": "2021-11-25T14:33:19.436344Z",
          "iopub.execute_input": "2021-11-25T14:33:19.436662Z",
          "iopub.status.idle": "2021-11-25T14:33:20.537172Z",
          "shell.execute_reply.started": "2021-11-25T14:33:19.436621Z",
          "shell.execute_reply": "2021-11-25T14:33:20.536588Z"
        },
        "trusted": true,
        "id": "48OgqQRYr6uy"
      },
      "source": [
        "import albumentations as A\n",
        "\n",
        "augmentor = A.HorizontalFlip(p=0.5)\n",
        "aug_image = augmentor(image=org_image)['image']\n",
        "\n",
        "repeat_aug(count=4, org_image=org_image, label='HorizontalFlip', augmentor=augmentor)"
      ],
      "execution_count": null,
      "outputs": []
    },
    {
      "cell_type": "code",
      "metadata": {
        "execution": {
          "iopub.status.busy": "2021-11-25T14:33:30.464939Z",
          "iopub.execute_input": "2021-11-25T14:33:30.465865Z",
          "iopub.status.idle": "2021-11-25T14:33:31.763534Z",
          "shell.execute_reply.started": "2021-11-25T14:33:30.465803Z",
          "shell.execute_reply": "2021-11-25T14:33:31.762739Z"
        },
        "trusted": true,
        "id": "O2p8F9Jor6uz"
      },
      "source": [
        "import albumentations as A\n",
        "\n",
        "augmentor = A.VerticalFlip(p=0.5)\n",
        "repeat_aug(count=4, org_image=org_image, label='VerticalFlip', augmentor=augmentor)"
      ],
      "execution_count": null,
      "outputs": []
    },
    {
      "cell_type": "code",
      "metadata": {
        "execution": {
          "iopub.status.busy": "2021-11-25T14:35:12.442763Z",
          "iopub.execute_input": "2021-11-25T14:35:12.443070Z",
          "iopub.status.idle": "2021-11-25T14:35:13.617541Z",
          "shell.execute_reply.started": "2021-11-25T14:35:12.443038Z",
          "shell.execute_reply": "2021-11-25T14:35:13.616695Z"
        },
        "trusted": true,
        "id": "apnpicWEr6u0"
      },
      "source": [
        "augmentor = A.Rotate(limit=90, p=1, border_mode = cv2.BORDER_REFLECT)\n",
        "repeat_aug(count=4, org_image=org_image, label=\"Rotate\",augmentor=augmentor)"
      ],
      "execution_count": null,
      "outputs": []
    },
    {
      "cell_type": "code",
      "metadata": {
        "execution": {
          "iopub.status.busy": "2021-11-25T14:35:25.743563Z",
          "iopub.execute_input": "2021-11-25T14:35:25.743899Z",
          "iopub.status.idle": "2021-11-25T14:35:26.927340Z",
          "shell.execute_reply.started": "2021-11-25T14:35:25.743861Z",
          "shell.execute_reply": "2021-11-25T14:35:26.926132Z"
        },
        "trusted": true,
        "id": "HgB4ew3cr6u0"
      },
      "source": [
        "augmentor = A.RandomRotate90(p=1)\n",
        "repeat_aug(count=4, org_image=org_image, label='RandomRotate90', augmentor=augmentor)"
      ],
      "execution_count": null,
      "outputs": []
    },
    {
      "cell_type": "code",
      "metadata": {
        "execution": {
          "iopub.status.busy": "2021-11-25T14:38:00.719509Z",
          "iopub.execute_input": "2021-11-25T14:38:00.719842Z",
          "iopub.status.idle": "2021-11-25T14:38:01.786652Z",
          "shell.execute_reply.started": "2021-11-25T14:38:00.719808Z",
          "shell.execute_reply": "2021-11-25T14:38:01.785783Z"
        },
        "trusted": true,
        "id": "Ptci0030r6u1"
      },
      "source": [
        "augmentor = A.ShiftScaleRotate(shift_limit=0, scale_limit=(0.5,1.0),rotate_limit=0,p=1)\n",
        "repeat_aug(count=3, org_image=org_image, label='only_scale', augmentor=augmentor)"
      ],
      "execution_count": null,
      "outputs": []
    },
    {
      "cell_type": "code",
      "metadata": {
        "execution": {
          "iopub.status.busy": "2021-11-25T14:39:12.250881Z",
          "iopub.execute_input": "2021-11-25T14:39:12.251186Z",
          "iopub.status.idle": "2021-11-25T14:39:13.277557Z",
          "shell.execute_reply.started": "2021-11-25T14:39:12.251152Z",
          "shell.execute_reply": "2021-11-25T14:39:13.276700Z"
        },
        "trusted": true,
        "id": "X0UOnDxqr6u2"
      },
      "source": [
        "# 이동 후 남게 되는 border를 검은색으로 fill\n",
        "augmentor = A.ShiftScaleRotate (shift_limit=(0.2, 0.1), scale_limit=0, \n",
        "                                rotate_limit=0, border_mode=cv2.BORDER_CONSTANT, p=1)\n",
        "repeat_aug(count=3, org_image=org_image, label='only_shift_fillblack', augmentor=augmentor)\n"
      ],
      "execution_count": null,
      "outputs": []
    },
    {
      "cell_type": "code",
      "metadata": {
        "execution": {
          "iopub.status.busy": "2021-11-25T14:39:28.508301Z",
          "iopub.execute_input": "2021-11-25T14:39:28.508570Z",
          "iopub.status.idle": "2021-11-25T14:39:29.735908Z",
          "shell.execute_reply.started": "2021-11-25T14:39:28.508541Z",
          "shell.execute_reply": "2021-11-25T14:39:29.735278Z"
        },
        "trusted": true,
        "id": "5pj52TrYr6u2"
      },
      "source": [
        "# 이동 후 남게 되는 Border를 Near 영역이미지로 복사\n",
        "augmentor = A.ShiftScaleRotate (shift_limit=(0.2, 0.1), scale_limit=0, \n",
        "                                rotate_limit=0, p=1)\n",
        "repeat_aug(count=3, org_image=org_image, label='only_shift_fillcopy', augmentor=augmentor)"
      ],
      "execution_count": null,
      "outputs": []
    },
    {
      "cell_type": "code",
      "metadata": {
        "execution": {
          "iopub.status.busy": "2021-11-25T14:39:39.841459Z",
          "iopub.execute_input": "2021-11-25T14:39:39.841929Z",
          "iopub.status.idle": "2021-11-25T14:39:41.076046Z",
          "shell.execute_reply.started": "2021-11-25T14:39:39.841892Z",
          "shell.execute_reply": "2021-11-25T14:39:41.075148Z"
        },
        "trusted": true,
        "id": "bq5eZquEr6u3"
      },
      "source": [
        "# Shift, Scale, Rotate를 한꺼번에 적용. \n",
        "augmentor = A.ShiftScaleRotate (p=1)\n",
        "repeat_aug(count=4, org_image=org_image, label='ShiftScaleRotate', augmentor=augmentor)"
      ],
      "execution_count": null,
      "outputs": []
    },
    {
      "cell_type": "code",
      "metadata": {
        "execution": {
          "iopub.status.busy": "2021-11-25T14:43:38.521293Z",
          "iopub.execute_input": "2021-11-25T14:43:38.521590Z",
          "iopub.status.idle": "2021-11-25T14:43:41.245488Z",
          "shell.execute_reply.started": "2021-11-25T14:43:38.521561Z",
          "shell.execute_reply": "2021-11-25T14:43:41.244677Z"
        },
        "trusted": true,
        "id": "tH1marHRr6u3"
      },
      "source": [
        "augmentor = A.Compose([\n",
        "    A.VerticalFlip(p=0.5),\n",
        "    A.HorizontalFlip(p=0.5)\n",
        "])\n",
        "repeat_aug(count=6, org_image=org_image, label='Composite', augmentor=augmentor)\n",
        "repeat_aug(count=6, org_image=org_image, label='Composite', augmentor=augmentor)"
      ],
      "execution_count": null,
      "outputs": []
    },
    {
      "cell_type": "code",
      "metadata": {
        "execution": {
          "iopub.status.busy": "2021-11-25T14:45:58.082615Z",
          "iopub.execute_input": "2021-11-25T14:45:58.083469Z",
          "iopub.status.idle": "2021-11-25T14:46:00.341168Z",
          "shell.execute_reply.started": "2021-11-25T14:45:58.083428Z",
          "shell.execute_reply": "2021-11-25T14:46:00.340375Z"
        },
        "trusted": true,
        "id": "aTyREutPr6u4"
      },
      "source": [
        "# Crop은 원본 이미지의 특정 영역을 잘라낸 후, 원본 사이즈로 다시 Resize하지 않으므로 유의 필요. \n",
        "augmentor = A.Crop(x_min=100, y_min=100, x_max=500, y_max=500, p=1)\n",
        "aug_image = augmentor(image=org_image)['image']\n",
        "print('crop image size:', aug_image.shape)\n",
        "repeat_aug(count=4, org_image=org_image, label='Crop', augmentor=augmentor)\n",
        "\n",
        "# Crop 적용 후 반드시 아래와 같이 resize 해야 함.(augmentation이후 opencv resize()등을 적용해도 무관)\n",
        "augmentor = A.Compose([\n",
        "    A.Crop(x_min=100, y_min=100, x_max=500, y_max=500, p=1),\n",
        "    A.Resize(578, 1028)\n",
        "])\n",
        "aug_image = augmentor(image=org_image)['image']\n",
        "print('crop and resize image size:', aug_image.shape)\n",
        "repeat_aug(count=4, org_image=org_image, label='Crop', augmentor=augmentor)\n"
      ],
      "execution_count": null,
      "outputs": []
    },
    {
      "cell_type": "code",
      "metadata": {
        "execution": {
          "iopub.status.busy": "2021-11-25T14:46:35.949521Z",
          "iopub.execute_input": "2021-11-25T14:46:35.949837Z",
          "iopub.status.idle": "2021-11-25T14:46:37.987673Z",
          "shell.execute_reply.started": "2021-11-25T14:46:35.949806Z",
          "shell.execute_reply": "2021-11-25T14:46:37.986950Z"
        },
        "trusted": true,
        "id": "QHMHZP4xr6u4"
      },
      "source": [
        "# CenterCrop은 원본 이미지의 중심을 기준으로 입력된 height, width 값 만큼의 영역을 Crop 한 뒤 원본 이미지 사이즈로 Resize하지 않음. \n",
        "augmentor = A.CenterCrop(height=300, width=500, p=1)\n",
        "aug_image = augmentor(image=org_image)['image']\n",
        "\n",
        "repeat_aug(count=4, org_image=org_image, label='CenterCrop', augmentor=augmentor)\n",
        "print('centercrop image size:', aug_image.shape)\n",
        "\n",
        "# CenterCrop 후에는 반드시 아래와 같이 resize 해야 함.(augmentation이후 opencv resize()등을 적용해도 무관)\n",
        "augmentor = A.Compose([\n",
        "    A.CenterCrop(height=300, width=500, p=1),\n",
        "    A.Resize(578, 1028)\n",
        "])\n",
        "aug_image = augmentor(image=org_image)['image']\n",
        "print('centercrop and resize image size:', aug_image.shape)\n",
        "repeat_aug(count=4, org_image=org_image, label='CenterCrop_resize', augmentor=augmentor)"
      ],
      "execution_count": null,
      "outputs": []
    },
    {
      "cell_type": "code",
      "metadata": {
        "execution": {
          "iopub.status.busy": "2021-11-25T14:46:45.654349Z",
          "iopub.execute_input": "2021-11-25T14:46:45.654615Z",
          "iopub.status.idle": "2021-11-25T14:46:47.774152Z",
          "shell.execute_reply.started": "2021-11-25T14:46:45.654587Z",
          "shell.execute_reply": "2021-11-25T14:46:47.773214Z"
        },
        "trusted": true,
        "id": "hd6sDYHrr6u4"
      },
      "source": [
        "# RandomCrop은 height, width 값 만큼의 영역을 Random하게 Crop 한 뒤 원본 이미지 사이즈로 Resize하지 않음. \n",
        "augmentor = A.RandomCrop(height=400, width=800, p=1)\n",
        "aug_image = augmentor(image=org_image)['image']\n",
        "\n",
        "repeat_aug(count=4, org_image=org_image, label='random_crop', augmentor=augmentor)\n",
        "print('centercrop image size:', aug_image.shape)\n",
        "\n",
        "# RandomCrop 후에는 반드시 아래와 같이 resize 해야 함.(augmentation이후 opencv resize()등을 적용해도 무관)\n",
        "augmentor = A.Compose([\n",
        "    A.RandomCrop(height=400, width=800, p=1),\n",
        "    A.Resize(578, 1028)\n",
        "])\n",
        "aug_image = augmentor(image=org_image)['image']\n",
        "print('centercrop and resize image size:', aug_image.shape)\n",
        "repeat_aug(count=4, org_image=org_image, label='random_crop', augmentor=augmentor)"
      ],
      "execution_count": null,
      "outputs": []
    },
    {
      "cell_type": "code",
      "metadata": {
        "execution": {
          "iopub.status.busy": "2021-11-25T15:00:58.762901Z",
          "iopub.execute_input": "2021-11-25T15:00:58.763210Z",
          "iopub.status.idle": "2021-11-25T15:01:02.388975Z",
          "shell.execute_reply.started": "2021-11-25T15:00:58.763179Z",
          "shell.execute_reply": "2021-11-25T15:01:02.388359Z"
        },
        "trusted": true,
        "id": "xgtMz7CTr6u5"
      },
      "source": [
        "augmentor = A.RandomBrightnessContrast(brightness_limit=(-0.2, 0.2), contrast_limit=(-0.2, 0.2), p=1)\n",
        "repeat_aug(count=4, org_image=org_image, label='bright_contrast', augmentor=augmentor)\n",
        "\n",
        "augmentor = A.RandomBrightnessContrast(brightness_limit=(0, 0.2), contrast_limit=(0, 0.2), p=1)\n",
        "repeat_aug(count=4, org_image=org_image, label='bright_contrast', augmentor=augmentor)\n",
        "\n",
        "# 밝기는 고정하고 대비만 변경. \n",
        "augmentor = A.RandomBrightnessContrast(brightness_limit=0, contrast_limit=(0, 0.2), p=1)\n",
        "repeat_aug(count=4, org_image=org_image, label='bright_contrast', augmentor=augmentor)"
      ],
      "execution_count": null,
      "outputs": []
    },
    {
      "cell_type": "code",
      "metadata": {
        "execution": {
          "iopub.status.busy": "2021-11-25T15:03:12.399910Z",
          "iopub.execute_input": "2021-11-25T15:03:12.400235Z",
          "iopub.status.idle": "2021-11-25T15:03:13.576889Z",
          "shell.execute_reply.started": "2021-11-25T15:03:12.400202Z",
          "shell.execute_reply": "2021-11-25T15:03:13.575969Z"
        },
        "trusted": true,
        "id": "7uyUvBdhr6u5"
      },
      "source": [
        "import albumentations as A\n",
        "\n",
        "augmentor = A.HueSaturationValue(p=1)\n",
        "repeat_aug(count=4, org_image=org_image, label='HueSaturationValue', augmentor=augmentor)\n",
        "\n"
      ],
      "execution_count": null,
      "outputs": []
    },
    {
      "cell_type": "code",
      "metadata": {
        "execution": {
          "iopub.status.busy": "2021-11-25T15:03:17.451930Z",
          "iopub.execute_input": "2021-11-25T15:03:17.452231Z",
          "iopub.status.idle": "2021-11-25T15:03:18.558132Z",
          "shell.execute_reply.started": "2021-11-25T15:03:17.452197Z",
          "shell.execute_reply": "2021-11-25T15:03:18.557491Z"
        },
        "trusted": true,
        "id": "C4ZlC7g6r6u5"
      },
      "source": [
        "augmentor = A.RGBShift(p=1)\n",
        "repeat_aug(count=4, org_image=org_image, label='RGBShift', augmentor=augmentor)"
      ],
      "execution_count": null,
      "outputs": []
    },
    {
      "cell_type": "code",
      "metadata": {
        "execution": {
          "iopub.status.busy": "2021-11-25T15:03:22.351206Z",
          "iopub.execute_input": "2021-11-25T15:03:22.351606Z",
          "iopub.status.idle": "2021-11-25T15:03:23.491471Z",
          "shell.execute_reply.started": "2021-11-25T15:03:22.351576Z",
          "shell.execute_reply": "2021-11-25T15:03:23.490542Z"
        },
        "trusted": true,
        "id": "QDCezPnbr6u5"
      },
      "source": [
        "augmentor = A.ChannelShuffle(p=1)\n",
        "repeat_aug(count=4, org_image=org_image, label='RGBShift', augmentor=augmentor)"
      ],
      "execution_count": null,
      "outputs": []
    },
    {
      "cell_type": "code",
      "metadata": {
        "execution": {
          "iopub.status.busy": "2021-11-25T15:03:29.042180Z",
          "iopub.execute_input": "2021-11-25T15:03:29.042462Z",
          "iopub.status.idle": "2021-11-25T15:03:32.637694Z",
          "shell.execute_reply.started": "2021-11-25T15:03:29.042433Z",
          "shell.execute_reply": "2021-11-25T15:03:32.637126Z"
        },
        "trusted": true,
        "id": "4p1nT9Enr6u6"
      },
      "source": [
        "augmentor_hsv = A.HueSaturationValue(p=1)\n",
        "augmentor_rgb = A.RGBShift(p=1)\n",
        "augmentor_channel = A.ChannelShuffle(p=1)\n",
        "repeat_aug(count=4, org_image=org_image, label='HSV', augmentor=augmentor_hsv)\n",
        "repeat_aug(count=4, org_image=org_image, label='RGBShift', augmentor=augmentor_rgb)\n",
        "repeat_aug(count=4, org_image=org_image, label='ChannelShuffle', augmentor=augmentor_channel)"
      ],
      "execution_count": null,
      "outputs": []
    },
    {
      "cell_type": "code",
      "metadata": {
        "execution": {
          "iopub.status.busy": "2021-11-25T15:04:27.305299Z",
          "iopub.execute_input": "2021-11-25T15:04:27.305587Z",
          "iopub.status.idle": "2021-11-25T15:04:28.513697Z",
          "shell.execute_reply.started": "2021-11-25T15:04:27.305557Z",
          "shell.execute_reply": "2021-11-25T15:04:28.512807Z"
        },
        "trusted": true,
        "id": "JpOoIgmNr6u6"
      },
      "source": [
        "augmentor_hsv = A.ColorJitter(p=1)\n",
        "repeat_aug(count=4, org_image=org_image, label='ColorJitter', augmentor=augmentor_hsv)"
      ],
      "execution_count": null,
      "outputs": []
    },
    {
      "cell_type": "code",
      "metadata": {
        "execution": {
          "iopub.status.busy": "2021-11-25T15:05:04.290810Z",
          "iopub.execute_input": "2021-11-25T15:05:04.291346Z",
          "iopub.status.idle": "2021-11-25T15:05:05.413127Z",
          "shell.execute_reply.started": "2021-11-25T15:05:04.291297Z",
          "shell.execute_reply": "2021-11-25T15:05:05.412115Z"
        },
        "trusted": true,
        "id": "a9pNwfihr6u6"
      },
      "source": [
        "augmentor = A.GaussNoise(p=1, var_limit=(100, 200))\n",
        "repeat_aug(count=2, org_image=org_image, label='GaussNoise', augmentor=augmentor)"
      ],
      "execution_count": null,
      "outputs": []
    },
    {
      "cell_type": "code",
      "metadata": {
        "execution": {
          "iopub.status.busy": "2021-11-25T15:06:08.031764Z",
          "iopub.execute_input": "2021-11-25T15:06:08.032056Z",
          "iopub.status.idle": "2021-11-25T15:06:09.638675Z",
          "shell.execute_reply.started": "2021-11-25T15:06:08.032027Z",
          "shell.execute_reply": "2021-11-25T15:06:09.637847Z"
        },
        "trusted": true,
        "id": "DlUQ1nJ7r6u7"
      },
      "source": [
        "augmentor = A.Cutout(p=1)\n",
        "repeat_aug(count=2, org_image=org_image, label='Cutout', augmentor=augmentor)\n",
        "\n",
        "augmentor = A.CoarseDropout(p=1, max_holes=26)\n",
        "repeat_aug(count=2, org_image=org_image, label='CoarseDropout', augmentor=augmentor)"
      ],
      "execution_count": null,
      "outputs": []
    },
    {
      "cell_type": "code",
      "metadata": {
        "execution": {
          "iopub.status.busy": "2021-11-25T15:06:18.005845Z",
          "iopub.execute_input": "2021-11-25T15:06:18.006125Z",
          "iopub.status.idle": "2021-11-25T15:06:19.065597Z",
          "shell.execute_reply.started": "2021-11-25T15:06:18.006097Z",
          "shell.execute_reply": "2021-11-25T15:06:19.064296Z"
        },
        "trusted": true,
        "id": "F8dh7Z1qr6u7"
      },
      "source": [
        "augmentor_hsv = A.CLAHE(p=1, clip_limit=4)\n",
        "repeat_aug(count=2, org_image=org_image, label='CLAHE', augmentor=augmentor_hsv)"
      ],
      "execution_count": null,
      "outputs": []
    },
    {
      "cell_type": "code",
      "metadata": {
        "execution": {
          "iopub.status.busy": "2021-11-25T15:07:52.832638Z",
          "iopub.execute_input": "2021-11-25T15:07:52.832977Z",
          "iopub.status.idle": "2021-11-25T15:07:55.275745Z",
          "shell.execute_reply.started": "2021-11-25T15:07:52.832943Z",
          "shell.execute_reply": "2021-11-25T15:07:55.274861Z"
        },
        "trusted": true,
        "id": "Dvv2T9ZJr6u7"
      },
      "source": [
        "augmentor = A.Blur(p=1, blur_limit=(7, 10))\n",
        "repeat_aug(count=4, org_image=org_image, label='Blur', augmentor=augmentor)\n",
        "\n",
        "# GaussianBlur의 blur_limit 즉 kernel size는 홀수가 되어야 함. 따라서 blur_limit=(3, 8)과 같이 짝수를 입력하면 안됨. \n",
        "augmentor = A.GaussianBlur(p=1, blur_limit=(11, 15))\n",
        "repeat_aug(count=4, org_image=org_image, label='GaussBlur', augmentor=augmentor)"
      ],
      "execution_count": null,
      "outputs": []
    },
    {
      "cell_type": "code",
      "metadata": {
        "execution": {
          "iopub.status.busy": "2021-11-25T15:08:05.683461Z",
          "iopub.execute_input": "2021-11-25T15:08:05.683749Z",
          "iopub.status.idle": "2021-11-25T15:08:08.301505Z",
          "shell.execute_reply.started": "2021-11-25T15:08:05.683706Z",
          "shell.execute_reply": "2021-11-25T15:08:08.300914Z"
        },
        "trusted": true,
        "id": "GwBEn_6_r6u7"
      },
      "source": [
        "augmentor = A.RandomRain(p=1)\n",
        "repeat_aug(count=2, org_image=org_image, label='Rain', augmentor=augmentor)\n",
        "\n",
        "augmentor = A.RandomShadow(p=1)\n",
        "repeat_aug(count=2, org_image=org_image, label='Shadow', augmentor=augmentor)\n",
        "\n",
        "augmentor = A.RandomSnow(p=1)\n",
        "repeat_aug(count=2, org_image=org_image, label='Snow', augmentor=augmentor)"
      ],
      "execution_count": null,
      "outputs": []
    },
    {
      "cell_type": "code",
      "metadata": {
        "execution": {
          "iopub.status.busy": "2021-11-25T15:09:47.340404Z",
          "iopub.execute_input": "2021-11-25T15:09:47.340708Z",
          "iopub.status.idle": "2021-11-25T15:09:48.471579Z",
          "shell.execute_reply.started": "2021-11-25T15:09:47.340677Z",
          "shell.execute_reply": "2021-11-25T15:09:48.470652Z"
        },
        "trusted": true,
        "id": "vP8qLr8rr6u7"
      },
      "source": [
        "augmentor = A.Compose([\n",
        "    A.CenterCrop(height=300, width=800),\n",
        "    A.HorizontalFlip(p=0.5),\n",
        "    A.RandomBrightnessContrast(p=0.5),\n",
        "    A.Resize(579,1024,p=1)],p=0.5)\n",
        "repeat_aug(count=4, org_image=org_image, label='Composite', augmentor=augmentor)"
      ],
      "execution_count": null,
      "outputs": []
    },
    {
      "cell_type": "code",
      "metadata": {
        "execution": {
          "iopub.status.busy": "2021-11-25T15:10:21.767765Z",
          "iopub.execute_input": "2021-11-25T15:10:21.768037Z",
          "iopub.status.idle": "2021-11-25T15:10:23.099698Z",
          "shell.execute_reply.started": "2021-11-25T15:10:21.768010Z",
          "shell.execute_reply": "2021-11-25T15:10:23.098732Z"
        },
        "trusted": true,
        "id": "GR4vpNCsr6u7"
      },
      "source": [
        "# OneOf() 내에서 VerticalFlip, HorizontalFlip, RandomBrightnessContrast를 각각을 p=1 로 부여했지만 연속해서 Augmentation이 적용 되지 않고, 개별 변환만 적용됨\n",
        "augmentor = A.OneOf([\n",
        "    A.VerticalFlip(p=1),\n",
        "    A.HorizontalFlip(p=1),\n",
        "    A.Rotate(limit=(45, 90), p=1, border_mode=cv2.BORDER_CONSTANT)\n",
        "    ], p=1)\n",
        "repeat_aug(count=4, org_image=org_image, label='OneOf', augmentor=augmentor)"
      ],
      "execution_count": null,
      "outputs": []
    },
    {
      "cell_type": "code",
      "metadata": {
        "execution": {
          "iopub.status.busy": "2021-11-25T15:10:35.826538Z",
          "iopub.execute_input": "2021-11-25T15:10:35.826888Z",
          "iopub.status.idle": "2021-11-25T15:10:38.380877Z",
          "shell.execute_reply.started": "2021-11-25T15:10:35.826853Z",
          "shell.execute_reply": "2021-11-25T15:10:38.380000Z"
        },
        "trusted": true,
        "id": "Oo5eexpQr6u8"
      },
      "source": [
        "augmentor = A.Compose([\n",
        "    A.HorizontalFlip(p=0.5),\n",
        "    A.ShiftScaleRotate(p=0.5),\n",
        "    A.OneOf([\n",
        "        A.CLAHE(p=0.3),\n",
        "        A.Blur(blur_limit=(10, 15), p=0.3)\n",
        "    ], p=0.5)\n",
        "])\n",
        "repeat_aug(count=4, org_image=org_image, label='OneOf', augmentor=augmentor)\n",
        "repeat_aug(count=4, org_image=org_image, label='OneOf', augmentor=augmentor)"
      ],
      "execution_count": null,
      "outputs": []
    },
    {
      "cell_type": "code",
      "metadata": {
        "id": "RuU0Lzrzr6u8"
      },
      "source": [
        ""
      ],
      "execution_count": null,
      "outputs": []
    }
  ]
}