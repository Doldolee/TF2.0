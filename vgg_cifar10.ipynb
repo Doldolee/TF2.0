{
  "nbformat": 4,
  "nbformat_minor": 0,
  "metadata": {
    "kernelspec": {
      "language": "python",
      "display_name": "Python 3",
      "name": "python3"
    },
    "language_info": {
      "name": "python",
      "version": "3.7.12",
      "mimetype": "text/x-python",
      "codemirror_mode": {
        "name": "ipython",
        "version": 3
      },
      "pygments_lexer": "ipython3",
      "nbconvert_exporter": "python",
      "file_extension": ".py"
    },
    "colab": {
      "name": "vgg-cifar10.ipynb",
      "provenance": [],
      "include_colab_link": true
    }
  },
  "cells": [
    {
      "cell_type": "markdown",
      "metadata": {
        "id": "view-in-github",
        "colab_type": "text"
      },
      "source": [
        "<a href=\"https://colab.research.google.com/github/dolDolSee/TF2.0/blob/main/vgg_cifar10.ipynb\" target=\"_parent\"><img src=\"https://colab.research.google.com/assets/colab-badge.svg\" alt=\"Open In Colab\"/></a>"
      ]
    },
    {
      "cell_type": "code",
      "metadata": {
        "_uuid": "8f2839f25d086af736a60e9eeb907d3b93b6e0e5",
        "_cell_guid": "b1076dfc-b9ad-4769-8c92-a6c4dae69d19",
        "execution": {
          "iopub.status.busy": "2021-12-04T07:22:59.165009Z",
          "iopub.execute_input": "2021-12-04T07:22:59.165293Z",
          "iopub.status.idle": "2021-12-04T07:22:59.170997Z",
          "shell.execute_reply.started": "2021-12-04T07:22:59.165240Z",
          "shell.execute_reply": "2021-12-04T07:22:59.170305Z"
        },
        "trusted": true,
        "id": "Q4pNaIk5lfVW"
      },
      "source": [
        "# This Python 3 environment comes with many helpful analytics libraries installed\n",
        "# It is defined by the kaggle/python Docker image: https://github.com/kaggle/docker-python\n",
        "# For example, here's several helpful packages to load\n",
        "\n",
        "import numpy as np # linear algebra\n",
        "import pandas as pd # data processing, CSV file I/O (e.g. pd.read_csv)\n",
        "\n",
        "# Input data files are available in the read-only \"../input/\" directory\n",
        "# For example, running this (by clicking run or pressing Shift+Enter) will list all files under the input directory\n",
        "\n",
        "import os\n",
        "for dirname, _, filenames in os.walk('/kaggle/input'):\n",
        "    for filename in filenames:\n",
        "        print(os.path.join(dirname, filename))\n",
        "\n",
        "# You can write up to 20GB to the current directory (/kaggle/working/) that gets preserved as output when you create a version using \"Save & Run All\" \n",
        "# You can also write temporary files to /kaggle/temp/, but they won't be saved outside of the current session"
      ],
      "execution_count": null,
      "outputs": []
    },
    {
      "cell_type": "code",
      "metadata": {
        "execution": {
          "iopub.status.busy": "2021-12-04T07:30:09.353077Z",
          "iopub.execute_input": "2021-12-04T07:30:09.353346Z",
          "iopub.status.idle": "2021-12-04T07:30:16.336722Z",
          "shell.execute_reply.started": "2021-12-04T07:30:09.353316Z",
          "shell.execute_reply": "2021-12-04T07:30:16.336020Z"
        },
        "trusted": true,
        "id": "xXlImQoolfVg"
      },
      "source": [
        "from tensorflow.keras.applications.vgg16 import VGG16\n",
        "from tensorflow.keras.layers import Input\n",
        "from tensorflow.keras.models import Model\n",
        "\n",
        "input_tensor = Input(shape=(224,224,3))\n",
        "base_model = VGG16(input_tensor=input_tensor, include_top=True, weights=\"imagenet\")\n",
        "model = Model(inputs=input_tensor, outputs=base_model.output)\n",
        "model.summary()"
      ],
      "execution_count": null,
      "outputs": []
    },
    {
      "cell_type": "code",
      "metadata": {
        "execution": {
          "iopub.status.busy": "2021-12-04T07:53:59.541173Z",
          "iopub.execute_input": "2021-12-04T07:53:59.541601Z",
          "iopub.status.idle": "2021-12-04T07:53:59.588100Z",
          "shell.execute_reply.started": "2021-12-04T07:53:59.541564Z",
          "shell.execute_reply": "2021-12-04T07:53:59.587459Z"
        },
        "trusted": true,
        "id": "V9IphXhKlfVh"
      },
      "source": [
        "import tensorflow as tf\n",
        "\n",
        "class VGGnet(tf.keras.Model):\n",
        "    def __init__(self, n_classes=10):\n",
        "        super(VGGnet, self).__init__()\n",
        "        \n",
        "        self.conv_b1_layer1 = tf.keras.layers.Conv2D(64, (3,3), activation='relu', padding=\"same\", name=\"block1_conv1\")\n",
        "        self.conv_b1_layer2 = tf.keras.layers.Conv2D(64, (3,3), activation='relu', padding=\"same\", name=\"block1_conv2\")\n",
        "        self.b1_MaxPooling = tf.keras.layers.MaxPooling2D((2,2), strides=(2,2), name=\"block1_pool\")\n",
        "        \n",
        "        self.conv_b2_layer1 = tf.keras.layers.Conv2D(128, (3,3), activation='relu', padding=\"same\", name=\"block2_conv1\")\n",
        "        self.conv_b2_layer2 = tf.keras.layers.Conv2D(128, (3,3), activation='relu', padding=\"same\", name=\"block2_conv2\")\n",
        "        self.b2_MaxPooling = tf.keras.layers.MaxPooling2D((2,2), strides=(2,2), name=\"block2_pool\")\n",
        "        \n",
        "        self.conv_b3_layer1 = tf.keras.layers.Conv2D(256, (3,3), activation='relu', padding=\"same\", name=\"block3_conv1\")\n",
        "        self.conv_b3_layer2 = tf.keras.layers.Conv2D(256, (3,3), activation='relu', padding=\"same\", name=\"block3_conv2\")\n",
        "        self.conv_b3_layer3 = tf.keras.layers.Conv2D(256, (3,3), activation='relu', padding=\"same\", name=\"block3_conv3\")\n",
        "        self.b3_MaxPooling = tf.keras.layers.MaxPooling2D((2,2), strides=(2,2), name=\"block3_pool\")\n",
        "        \n",
        "        self.conv_b4_layer1 = tf.keras.layers.Conv2D(512, (3,3), activation='relu', padding=\"same\", name=\"block4_conv1\")\n",
        "        self.conv_b4_layer2 = tf.keras.layers.Conv2D(512, (3,3), activation='relu', padding=\"same\", name=\"block4_conv2\")\n",
        "        self.conv_b4_layer3 = tf.keras.layers.Conv2D(512, (3,3), activation='relu', padding=\"same\", name=\"block4_conv3\")\n",
        "        self.b4_MaxPooling = tf.keras.layers.MaxPooling2D((2,2), strides=(2,2), name=\"block4_pool\")\n",
        "        \n",
        "        self.conv_b5_layer1 = tf.keras.layers.Conv2D(512, (3,3), activation='relu', padding=\"same\", name=\"block5_conv1\")\n",
        "        self.conv_b5_layer2 = tf.keras.layers.Conv2D(512, (3,3), activation='relu', padding=\"same\", name=\"block5_conv2\")\n",
        "        self.conv_b5_layer3 = tf.keras.layers.Conv2D(512, (3,3), activation='relu', padding=\"same\", name=\"block5_conv3\")\n",
        "        self.b5_MaxPooling = tf.keras.layers.MaxPooling2D((2,2), strides=(2,2), name=\"block5_pool\")\n",
        "        \n",
        "        self.Gpooling = tf.keras.layers.GlobalAveragePooling2D()\n",
        "        self.Dropout1 = tf.keras.layers.Dropout(0.5)\n",
        "        self.Dense = tf.keras.layers.Dense(120, activation=\"relu\")\n",
        "        self.Dropout2 = tf.keras.layers.Dropout(0.5)\n",
        "        self.output_layer = tf.keras.layers.Dense(n_classes, activation=\"softmax\")\n",
        "        \n",
        "        \n",
        "        \n",
        "    def call(self, x):\n",
        "        input = tf.reshape(x, [-1,128,128,3])\n",
        "        x = self.conv_b1_layer1(input)\n",
        "        x = self.conv_b1_layer2(x)\n",
        "        x = self.b1_MaxPooling(x)\n",
        "        x = self.conv_b2_layer1(x)\n",
        "        x = self.conv_b2_layer2(x)\n",
        "        x = self.b2_MaxPooling(x)\n",
        "        x = self.conv_b3_layer1(x)\n",
        "        x = self.conv_b3_layer2(x)\n",
        "        x = self.conv_b3_layer3(x)\n",
        "        x = self.b3_MaxPooling(x)\n",
        "        x = self.conv_b4_layer1(x)\n",
        "        x = self.conv_b4_layer2(x)\n",
        "        x = self.conv_b4_layer3(x)\n",
        "        x = self.b4_MaxPooling(x)\n",
        "        x = self.conv_b5_layer1(x)\n",
        "        x = self.conv_b5_layer2(x)\n",
        "        x = self.conv_b5_layer3(x)\n",
        "        x = self.b5_MaxPooling(x)\n",
        "        x = self.Gpooling(x)\n",
        "        x = self.Dropout1(x)\n",
        "        x = self.Dense(x)\n",
        "        x = self.Dropout2(x)\n",
        "        x = self.output_layer(x)\n",
        "        return x\n",
        "    \n",
        "model = VGGnet()\n",
        "        \n",
        "        \n",
        "        \n",
        "        "
      ],
      "execution_count": null,
      "outputs": []
    },
    {
      "cell_type": "code",
      "metadata": {
        "execution": {
          "iopub.status.busy": "2021-12-04T07:53:59.723179Z",
          "iopub.execute_input": "2021-12-04T07:53:59.723568Z",
          "iopub.status.idle": "2021-12-04T07:53:59.726764Z",
          "shell.execute_reply.started": "2021-12-04T07:53:59.723537Z",
          "shell.execute_reply": "2021-12-04T07:53:59.726076Z"
        },
        "trusted": true,
        "id": "Mu8SvnbIlfVk"
      },
      "source": [
        "IMAGE_SIZE = 128\n",
        "BATCH_SIZE = 64"
      ],
      "execution_count": null,
      "outputs": []
    },
    {
      "cell_type": "code",
      "metadata": {
        "execution": {
          "iopub.status.busy": "2021-12-04T07:53:59.902206Z",
          "iopub.execute_input": "2021-12-04T07:53:59.902704Z",
          "iopub.status.idle": "2021-12-04T07:53:59.920178Z",
          "shell.execute_reply.started": "2021-12-04T07:53:59.902665Z",
          "shell.execute_reply": "2021-12-04T07:53:59.919370Z"
        },
        "trusted": true,
        "id": "hW1zONdSlfVl"
      },
      "source": [
        "import tensorflow as tf\n",
        "import numpy as np\n",
        "import pandas as pd\n",
        "\n",
        "import random as python_random\n",
        "from tensorflow.keras.utils import to_categorical\n",
        "from sklearn.model_selection import train_test_split\n",
        "from tensorflow.keras.datasets import cifar10\n",
        "from tensorflow.keras.utils import Sequence\n",
        "import cv2\n",
        "import sklearn\n",
        "\n",
        "def zero_one_scaler(image):\n",
        "    return image/255.0\n",
        "\n",
        "def get_preprocessed_ohe(images, labels, pre_func=None):\n",
        "    # preprocessing 함수가 입력되면 이를 이용하여 image array를 scaling 적용.\n",
        "    if pre_func is not None:\n",
        "        images = pre_func(images)\n",
        "    # OHE 적용    \n",
        "    oh_labels = to_categorical(labels)\n",
        "    return images, oh_labels\n",
        "\n",
        "# 학습/검증/테스트 데이터 세트에 전처리 및 OHE 적용한 뒤 반환 \n",
        "def get_train_valid_test_set(train_images, train_labels, test_images, test_labels, valid_size=0.15, random_state=2021):\n",
        "    # 학습 및 테스트 데이터 세트를  0 ~ 1사이값 float32로 변경 및 OHE 적용. \n",
        "    train_images, train_oh_labels = get_preprocessed_ohe(train_images, train_labels)\n",
        "    test_images, test_oh_labels = get_preprocessed_ohe(test_images, test_labels)\n",
        "    \n",
        "    # 학습 데이터를 검증 데이터 세트로 다시 분리\n",
        "    tr_images, val_images, tr_oh_labels, val_oh_labels = train_test_split(train_images, train_oh_labels, test_size=valid_size, random_state=random_state)\n",
        "    \n",
        "    return (tr_images, tr_oh_labels), (val_images, val_oh_labels), (test_images, test_oh_labels )\n",
        "\n",
        "from tensorflow.keras.utils import Sequence\n",
        "import cv2\n",
        "import sklearn\n",
        "\n",
        "# 입력 인자 images_array labels는 모두 numpy array로 들어옴. \n",
        "# 인자로 입력되는 images_array는 전체 32x32 image array임. \n",
        "class CIFAR_Dataset(Sequence):\n",
        "    def __init__(self, images_array, labels, batch_size=BATCH_SIZE, augmentor=None, shuffle=False, pre_func=None):\n",
        "        '''\n",
        "        파라미터 설명\n",
        "        images_array: 원본 32x32 만큼의 image 배열값. \n",
        "        labels: 해당 image의 label들\n",
        "        batch_size: __getitem__(self, index) 호출 시 마다 가져올 데이터 batch 건수\n",
        "        augmentor: albumentations 객체\n",
        "        shuffle: 학습 데이터의 경우 epoch 종료시마다 데이터를 섞을지 여부\n",
        "        '''\n",
        "        # 객체 생성 인자로 들어온 값을 객체 내부 변수로 할당. \n",
        "        # 인자로 입력되는 images_array는 전체 32x32 image array임.\n",
        "        self.images_array = images_array\n",
        "        self.labels = labels\n",
        "        self.batch_size = batch_size\n",
        "        self.augmentor = augmentor\n",
        "        self.pre_func = pre_func\n",
        "        # train data의 경우 \n",
        "        self.shuffle = shuffle\n",
        "        if self.shuffle:\n",
        "            # 객체 생성시에 한번 데이터를 섞음. \n",
        "            #self.on_epoch_end()\n",
        "            pass\n",
        "    \n",
        "    # Sequence를 상속받은 Dataset은 batch_size 단위로 입력된 데이터를 처리함. \n",
        "    # __len__()은 전체 데이터 건수가 주어졌을 때 batch_size단위로 몇번 데이터를 반환하는지 나타남\n",
        "    def __len__(self):\n",
        "        # batch_size단위로 데이터를 몇번 가져와야하는지 계산하기 위해 전체 데이터 건수를 batch_size로 나누되, 정수로 정확히 나눠지지 않을 경우 1회를 더한다. \n",
        "        return int(np.ceil(len(self.labels) / self.batch_size))\n",
        "    \n",
        "    # batch_size 단위로 image_array, label_array 데이터를 가져와서 변환한 뒤 다시 반환함\n",
        "    # 인자로 몇번째 batch 인지를 나타내는 index를 입력하면 해당 순서에 해당하는 batch_size 만큼의 데이타를 가공하여 반환\n",
        "    # batch_size 갯수만큼 변환된 image_array와 label_array 반환. \n",
        "    def __getitem__(self, index):\n",
        "        # index는 몇번째 batch인지를 나타냄. \n",
        "        # batch_size만큼 순차적으로 데이터를 가져오려면 array에서 index*self.batch_size:(index+1)*self.batch_size 만큼의 연속 데이터를 가져오면 됨\n",
        "        # 32x32 image array를 self.batch_size만큼 가져옴. \n",
        "        images_fetch = self.images_array[index*self.batch_size:(index+1)*self.batch_size]\n",
        "        if self.labels is not None:\n",
        "            label_batch = self.labels[index*self.batch_size:(index+1)*self.batch_size]\n",
        "        \n",
        "        # 만일 객체 생성 인자로 albumentation으로 만든 augmentor가 주어진다면 아래와 같이 augmentor를 이용하여 image 변환\n",
        "        # albumentations은 개별 image만 변환할 수 있으므로 batch_size만큼 할당된 image_name_batch를 한 건씩 iteration하면서 변환 수행. \n",
        "        # 변환된 image 배열값을 담을 image_batch 선언. image_batch 배열은 float32 로 설정. \n",
        "        image_batch = np.zeros((images_fetch.shape[0], IMAGE_SIZE, IMAGE_SIZE, 3), dtype='float32')\n",
        "        \n",
        "        # batch_size에 담긴 건수만큼 iteration 하면서 opencv image load -> image augmentation 변환(augmentor가 not None일 경우)-> image_batch에 담음. \n",
        "        for image_index in range(images_fetch.shape[0]):\n",
        "            #image = cv2.cvtColor(cv2.imread(image_name_batch[image_index]), cv2.COLOR_BGR2RGB)\n",
        "            # 원본 image를 IMAGE_SIZE x IMAGE_SIZE 크기로 변환\n",
        "            image = cv2.resize(images_fetch[image_index], (IMAGE_SIZE, IMAGE_SIZE))\n",
        "            # 만약 augmentor가 주어졌다면 이를 적용. \n",
        "            if self.augmentor is not None:\n",
        "                image = self.augmentor(image=image)['image']\n",
        "                \n",
        "            # 만약 scaling 함수가 입력되었다면 이를 적용하여 scaling 수행. \n",
        "            if self.pre_func is not None:\n",
        "                image = self.pre_func(image)\n",
        "            \n",
        "            # image_batch에 순차적으로 변환된 image를 담음.               \n",
        "            image_batch[image_index] = image\n",
        "        \n",
        "        return image_batch, label_batch\n",
        "    \n",
        "    # epoch가 한번 수행이 완료 될 때마다 모델의 fit()에서 호출됨. \n",
        "    def on_epoch_end(self):\n",
        "        if(self.shuffle):\n",
        "            #print('epoch end')\n",
        "            # 원본 image배열과 label를 쌍을 맞춰서 섞어준다. scikt learn의 utils.shuffle에서 해당 기능 제공\n",
        "            self.images_array, self.labels = sklearn.utils.shuffle(self.images_array, self.labels)\n",
        "        else:\n",
        "            pass"
      ],
      "execution_count": null,
      "outputs": []
    },
    {
      "cell_type": "code",
      "metadata": {
        "execution": {
          "iopub.status.busy": "2021-12-04T07:54:00.053471Z",
          "iopub.execute_input": "2021-12-04T07:54:00.055211Z",
          "iopub.status.idle": "2021-12-04T07:54:00.732759Z",
          "shell.execute_reply.started": "2021-12-04T07:54:00.055180Z",
          "shell.execute_reply": "2021-12-04T07:54:00.731930Z"
        },
        "trusted": true,
        "id": "NGIqID-5lfVn"
      },
      "source": [
        "(train_images, train_labels), (test_images, test_labels) = cifar10.load_data()\n",
        "print(train_images.shape, train_labels.shape, test_images.shape, test_labels.shape)\n",
        "\n",
        "(tr_images, tr_oh_labels), (val_images, val_oh_labels), (test_images, test_oh_labels) = \\\n",
        "    get_train_valid_test_set(train_images, train_labels, test_images, test_labels, valid_size=0.2, random_state=2021)\n",
        "print(tr_images.shape, tr_oh_labels.shape, val_images.shape, val_oh_labels.shape, test_images.shape, test_oh_labels.shape)"
      ],
      "execution_count": null,
      "outputs": []
    },
    {
      "cell_type": "code",
      "metadata": {
        "execution": {
          "iopub.status.busy": "2021-12-04T07:54:00.734239Z",
          "iopub.execute_input": "2021-12-04T07:54:00.734696Z",
          "iopub.status.idle": "2021-12-04T07:54:00.816427Z",
          "shell.execute_reply.started": "2021-12-04T07:54:00.734648Z",
          "shell.execute_reply": "2021-12-04T07:54:00.815550Z"
        },
        "trusted": true,
        "id": "9gwMTRRPlfVn"
      },
      "source": [
        "from tensorflow.keras.applications.vgg16 import preprocess_input as vgg_preprocess\n",
        "\n",
        "tr_ds = CIFAR_Dataset(tr_images, tr_oh_labels, batch_size=BATCH_SIZE, augmentor=None, shuffle=True, pre_func=vgg_preprocess)\n",
        "val_ds = CIFAR_Dataset(val_images, val_oh_labels, batch_size=BATCH_SIZE, augmentor=None, shuffle=False, pre_func=vgg_preprocess)\n",
        "\n",
        "print(next(iter(tr_ds))[0].shape, next(iter(val_ds))[0].shape)\n",
        "print(next(iter(tr_ds))[1].shape, next(iter(val_ds))[1].shape)\n",
        "# 채널별 값 - mean = [103.939, 116.779, 123.68]\n",
        "print(next(iter(tr_ds))[0][0])"
      ],
      "execution_count": null,
      "outputs": []
    },
    {
      "cell_type": "code",
      "metadata": {
        "execution": {
          "iopub.status.busy": "2021-12-04T07:54:00.817846Z",
          "iopub.execute_input": "2021-12-04T07:54:00.818295Z",
          "iopub.status.idle": "2021-12-04T08:09:56.852261Z",
          "shell.execute_reply.started": "2021-12-04T07:54:00.818239Z",
          "shell.execute_reply": "2021-12-04T08:09:56.851458Z"
        },
        "trusted": true,
        "id": "QUMywpDTlfVp"
      },
      "source": [
        "from tensorflow.keras.callbacks import ReduceLROnPlateau, EarlyStopping\n",
        "model.compile(optimizer = tf.keras.optimizers.Adam(lr=0.0001), loss=\"categorical_crossentropy\", metrics=['accuracy'])\n",
        "rlr_cb = ReduceLROnPlateau(monitor='val_loss', factor=0.2, patience=5, mode='min', verbose=1)\n",
        "ely_cb = EarlyStopping(monitor='val_loss', patience=10, mode='min', verbose=1)\n",
        "history = model.fit(tr_ds, epochs=10, validation_data=val_ds, callbacks=[rlr_cb, ely_cb])"
      ],
      "execution_count": null,
      "outputs": []
    },
    {
      "cell_type": "code",
      "metadata": {
        "id": "7LTR0P99lfVq"
      },
      "source": [
        ""
      ],
      "execution_count": null,
      "outputs": []
    },
    {
      "cell_type": "code",
      "metadata": {
        "id": "tidgRRDMlfVq"
      },
      "source": [
        ""
      ],
      "execution_count": null,
      "outputs": []
    }
  ]
}