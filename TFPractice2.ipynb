{
  "nbformat": 4,
  "nbformat_minor": 0,
  "metadata": {
    "colab": {
      "name": "TFPractice2.ipynb",
      "provenance": [],
      "authorship_tag": "ABX9TyNqFjDo82pupCuJWeICMJxr",
      "include_colab_link": true
    },
    "kernelspec": {
      "name": "python3",
      "display_name": "Python 3"
    },
    "language_info": {
      "name": "python"
    }
  },
  "cells": [
    {
      "cell_type": "markdown",
      "metadata": {
        "id": "view-in-github",
        "colab_type": "text"
      },
      "source": [
        "<a href=\"https://colab.research.google.com/github/dolDolSee/TF2.0/blob/main/TFPractice2.ipynb\" target=\"_parent\"><img src=\"https://colab.research.google.com/assets/colab-badge.svg\" alt=\"Open In Colab\"/></a>"
      ]
    },
    {
      "cell_type": "code",
      "metadata": {
        "colab": {
          "base_uri": "https://localhost:8080/"
        },
        "id": "CG34KhyCv4F8",
        "outputId": "5a9579e6-09de-4016-f9e7-2a7802c1c98c"
      },
      "source": [
        "import tensorflow as tf\n",
        "import numpy as np\n",
        "import matplotlib.pyplot as plt\n",
        "\n",
        "(x_train, y_train), (x_test, y_test) = tf.keras.datasets.mnist.load_data()\n",
        "x_train, x_test = x_train.astype(\"float32\"), x_test.astype(\"float32\")\n",
        "x_train,x_test = x_train.reshape([-1,784]), x_test.reshape([-1,784])\n",
        "x_train, x_test = x_train/255., x_test/255."
      ],
      "execution_count": 1,
      "outputs": [
        {
          "output_type": "stream",
          "name": "stdout",
          "text": [
            "Downloading data from https://storage.googleapis.com/tensorflow/tf-keras-datasets/mnist.npz\n",
            "11493376/11490434 [==============================] - 0s 0us/step\n",
            "11501568/11490434 [==============================] - 0s 0us/step\n"
          ]
        }
      ]
    },
    {
      "cell_type": "code",
      "metadata": {
        "id": "j-yY9yKTBAfD",
        "colab": {
          "base_uri": "https://localhost:8080/"
        },
        "outputId": "17457676-3640-47ee-b68e-6d52777af363"
      },
      "source": [
        "learning_rate = 0.02\n",
        "training_epochs = 50\n",
        "batch_size = 256\n",
        "display_step = 1\n",
        "examples_to_show = 10\n",
        "input_size = 784\n",
        "hidden1_size = 256\n",
        "hidden2_size = 128\n",
        "\n",
        "#비지도학습이기 때문에 y데이터는 묶어주지 않음.\n",
        "train_data = tf.data.Dataset.from_tensor_slices(x_train)\n",
        "train_data = train_data.shuffle(60000).batch(batch_size)\n",
        "\n",
        "def random_normal_initializer_with_stddev_v1():\n",
        "  return tf.keras.initializers.RandomNormal(mean=0.0, stddev=1.0, seed=None)\n",
        "\n",
        "class AutoEncoder(tf.keras.Model):\n",
        "  def __init__(self):\n",
        "    super(AutoEncoder, self).__init__()\n",
        "    self.hidden_layer_1 = tf.keras.layers.Dense(hidden1_size,\n",
        "                                                activation=\"sigmoid\",\n",
        "                                                kernel_initializer = random_normal_initializer_with_stddev_v1(),\n",
        "                                                bias_initializer = random_normal_initializer_with_stddev_v1())\n",
        "    self.hidden_layer_2 = tf.keras.layers.Dense(hidden2_size,\n",
        "                                                 activation=\"sigmoid\",\n",
        "                                                 kernel_initializer = random_normal_initializer_with_stddev_v1(),\n",
        "                                                 bias_initializer=random_normal_initializer_with_stddev_v1())\n",
        "    #decoding\n",
        "    self.hidden_layer_3 = tf.keras.layers.Dense(hidden1_size,\n",
        "                                                 activation=\"sigmoid\",\n",
        "                                                kernel_initializer = random_normal_initializer_with_stddev_v1(),\n",
        "                                                bias_initializer = random_normal_initializer_with_stddev_v1()\n",
        "                                                 )\n",
        "    self.output_layer = tf.keras.layers.Dense(input_size,\n",
        "                                                 activation=\"sigmoid\",\n",
        "                                                kernel_initializer = random_normal_initializer_with_stddev_v1(),\n",
        "                                                bias_initializer = random_normal_initializer_with_stddev_v1())\n",
        "  def call(self, x):\n",
        "    H1_output = self.hidden_layer_1(x)\n",
        "    H2_output = self.hidden_layer_2(H1_output)\n",
        "    H3_output = self.hidden_layer_3(H2_output)\n",
        "    reconstructed_x = self.output_layer(H3_output)\n",
        "    return reconstructed_x\n",
        "\n",
        "@tf.function\n",
        "def mse_loss(y_pred, y_true):\n",
        "  #autoencoder는 자기자신이 정답이기 때문에 input x값이 정답으로 쓰임.\n",
        "  return tf.reduce_mean(tf.pow(y_true-y_pred,2))\n",
        "\n",
        "optimizer = tf.optimizers.RMSprop(learning_rate)\n",
        "\n",
        "@tf.function\n",
        "def train_step(model, x):\n",
        "  y_true = x\n",
        "  with tf.GradientTape() as tape:\n",
        "    y_pred = model(x)\n",
        "    loss = mse_loss(y_pred, y_true)\n",
        "    gradients = tape.gradient(loss, model.trainable_variables)\n",
        "    optimizer.apply_gradients(zip(gradients, model.trainable_variables))\n",
        "\n",
        "AutoEncodermodel = AutoEncoder()\n",
        "\n",
        "for epoch in range(training_epochs):\n",
        "  for batch_x in train_data:\n",
        "    _, current_loss = train_step(AutoEncodermodel, batch_x), mse_loss(AutoEncodermodel(batch_x), batch_x)\n",
        "  if epoch % display_step ==0:\n",
        "    print(\"반복(Epoch): %d, 손실함수(Loss):%f\" % ((epoch+1), current_loss))\n"
      ],
      "execution_count": 8,
      "outputs": [
        {
          "output_type": "stream",
          "name": "stdout",
          "text": [
            "반복(Epoch): 1, 손실함수(Loss):0.059783\n",
            "반복(Epoch): 2, 손실함수(Loss):0.052657\n",
            "반복(Epoch): 3, 손실함수(Loss):0.044145\n",
            "반복(Epoch): 4, 손실함수(Loss):0.042305\n",
            "반복(Epoch): 5, 손실함수(Loss):0.039264\n",
            "반복(Epoch): 6, 손실함수(Loss):0.037796\n",
            "반복(Epoch): 7, 손실함수(Loss):0.036886\n",
            "반복(Epoch): 8, 손실함수(Loss):0.033664\n",
            "반복(Epoch): 9, 손실함수(Loss):0.032793\n",
            "반복(Epoch): 10, 손실함수(Loss):0.038032\n",
            "반복(Epoch): 11, 손실함수(Loss):0.034777\n",
            "반복(Epoch): 12, 손실함수(Loss):0.031568\n",
            "반복(Epoch): 13, 손실함수(Loss):0.032581\n",
            "반복(Epoch): 14, 손실함수(Loss):0.030912\n",
            "반복(Epoch): 15, 손실함수(Loss):0.029501\n",
            "반복(Epoch): 16, 손실함수(Loss):0.030939\n",
            "반복(Epoch): 17, 손실함수(Loss):0.029298\n",
            "반복(Epoch): 18, 손실함수(Loss):0.031637\n",
            "반복(Epoch): 19, 손실함수(Loss):0.030132\n",
            "반복(Epoch): 20, 손실함수(Loss):0.029538\n",
            "반복(Epoch): 21, 손실함수(Loss):0.029178\n",
            "반복(Epoch): 22, 손실함수(Loss):0.028434\n",
            "반복(Epoch): 23, 손실함수(Loss):0.025688\n",
            "반복(Epoch): 24, 손실함수(Loss):0.025839\n",
            "반복(Epoch): 25, 손실함수(Loss):0.026385\n",
            "반복(Epoch): 26, 손실함수(Loss):0.026806\n",
            "반복(Epoch): 27, 손실함수(Loss):0.025039\n",
            "반복(Epoch): 28, 손실함수(Loss):0.027120\n",
            "반복(Epoch): 29, 손실함수(Loss):0.025060\n",
            "반복(Epoch): 30, 손실함수(Loss):0.026985\n",
            "반복(Epoch): 31, 손실함수(Loss):0.026627\n",
            "반복(Epoch): 32, 손실함수(Loss):0.022386\n",
            "반복(Epoch): 33, 손실함수(Loss):0.025972\n",
            "반복(Epoch): 34, 손실함수(Loss):0.022947\n",
            "반복(Epoch): 35, 손실함수(Loss):0.023249\n",
            "반복(Epoch): 36, 손실함수(Loss):0.025684\n",
            "반복(Epoch): 37, 손실함수(Loss):0.024521\n",
            "반복(Epoch): 38, 손실함수(Loss):0.023669\n",
            "반복(Epoch): 39, 손실함수(Loss):0.025992\n",
            "반복(Epoch): 40, 손실함수(Loss):0.023132\n",
            "반복(Epoch): 41, 손실함수(Loss):0.024870\n",
            "반복(Epoch): 42, 손실함수(Loss):0.022452\n",
            "반복(Epoch): 43, 손실함수(Loss):0.023162\n",
            "반복(Epoch): 44, 손실함수(Loss):0.021103\n",
            "반복(Epoch): 45, 손실함수(Loss):0.023242\n",
            "반복(Epoch): 46, 손실함수(Loss):0.023846\n",
            "반복(Epoch): 47, 손실함수(Loss):0.021674\n",
            "반복(Epoch): 48, 손실함수(Loss):0.023989\n",
            "반복(Epoch): 49, 손실함수(Loss):0.023364\n",
            "반복(Epoch): 50, 손실함수(Loss):0.025588\n"
          ]
        }
      ]
    },
    {
      "cell_type": "code",
      "metadata": {
        "id": "bDuedB73LDCc"
      },
      "source": [
        ""
      ],
      "execution_count": null,
      "outputs": []
    }
  ]
}