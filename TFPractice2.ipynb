{
  "nbformat": 4,
  "nbformat_minor": 0,
  "metadata": {
    "colab": {
      "name": "TFPractice2.ipynb",
      "provenance": [],
      "authorship_tag": "ABX9TyOzPTi0kM9QGmNCm9xMFkII",
      "include_colab_link": true
    },
    "kernelspec": {
      "name": "python3",
      "display_name": "Python 3"
    },
    "language_info": {
      "name": "python"
    }
  },
  "cells": [
    {
      "cell_type": "markdown",
      "metadata": {
        "id": "view-in-github",
        "colab_type": "text"
      },
      "source": [
        "<a href=\"https://colab.research.google.com/github/dolDolSee/TF2.0/blob/main/TFPractice2.ipynb\" target=\"_parent\"><img src=\"https://colab.research.google.com/assets/colab-badge.svg\" alt=\"Open In Colab\"/></a>"
      ]
    },
    {
      "cell_type": "code",
      "metadata": {
        "colab": {
          "base_uri": "https://localhost:8080/"
        },
        "id": "CG34KhyCv4F8",
        "outputId": "3ce988bd-8b0c-400f-d7e5-e84681a7b03e"
      },
      "source": [
        "import tensorflow as tf\n",
        "import numpy as np\n",
        "import matplotlib.pyplot as plt\n",
        "\n",
        "(x_train, y_train), (x_test, y_test) = tf.keras.datasets.mnist.load_data()\n",
        "x_train, x_test = x_train.astype(\"float32\"), x_test.astype(\"float32\")\n",
        "x_train,x_test = x_train.reshape([-1,784]), x_test.reshape([-1,784])\n",
        "x_train, x_test = x_train/255., x_test/255."
      ],
      "execution_count": 1,
      "outputs": [
        {
          "output_type": "stream",
          "name": "stdout",
          "text": [
            "Downloading data from https://storage.googleapis.com/tensorflow/tf-keras-datasets/mnist.npz\n",
            "11493376/11490434 [==============================] - 0s 0us/step\n",
            "11501568/11490434 [==============================] - 0s 0us/step\n"
          ]
        }
      ]
    },
    {
      "cell_type": "code",
      "metadata": {
        "id": "j-yY9yKTBAfD"
      },
      "source": [
        "learning_rate = 0.02\n",
        "training_epochs = 50\n",
        "batch_size = 256\n",
        "display_step = 1\n",
        "examples_to_show = 10\n",
        "input_size = 784\n",
        "hidden1_size = 256\n",
        "hidden2_size = 128\n",
        "\n",
        "#비지도학습이기 때문에 y데이터는 묶어주지 않음.\n",
        "train_data = tf.data.Dataset.from_tensor_slices(x_train)\n",
        "train_data = train_data.shuffle(60000).batch(batch_size)\n",
        "\n",
        "def random_normal_initializer_with_stddev_v1():\n",
        "  return tf.keras.initializers.RandomNormal(mean=0.0, stddev=1.0, seed=None)\n",
        "\n",
        "class AutoEncoder(tf.keras.Model):\n",
        "  def __init(self):\n"
      ],
      "execution_count": 2,
      "outputs": []
    },
    {
      "cell_type": "code",
      "metadata": {
        "id": "bDuedB73LDCc"
      },
      "source": [
        ""
      ],
      "execution_count": null,
      "outputs": []
    }
  ]
}