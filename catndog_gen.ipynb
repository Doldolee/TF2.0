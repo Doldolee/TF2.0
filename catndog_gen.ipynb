{
  "nbformat": 4,
  "nbformat_minor": 0,
  "metadata": {
    "kernelspec": {
      "language": "python",
      "display_name": "Python 3",
      "name": "python3"
    },
    "language_info": {
      "name": "python",
      "version": "3.7.10",
      "mimetype": "text/x-python",
      "codemirror_mode": {
        "name": "ipython",
        "version": 3
      },
      "pygments_lexer": "ipython3",
      "nbconvert_exporter": "python",
      "file_extension": ".py"
    },
    "colab": {
      "name": "catndog-gen.ipynb",
      "provenance": [],
      "include_colab_link": true
    }
  },
  "cells": [
    {
      "cell_type": "markdown",
      "metadata": {
        "id": "view-in-github",
        "colab_type": "text"
      },
      "source": [
        "<a href=\"https://colab.research.google.com/github/dolDolSee/TF2.0/blob/main/catndog_gen.ipynb\" target=\"_parent\"><img src=\"https://colab.research.google.com/assets/colab-badge.svg\" alt=\"Open In Colab\"/></a>"
      ]
    },
    {
      "cell_type": "code",
      "metadata": {
        "_uuid": "8f2839f25d086af736a60e9eeb907d3b93b6e0e5",
        "_cell_guid": "b1076dfc-b9ad-4769-8c92-a6c4dae69d19",
        "execution": {
          "iopub.status.busy": "2021-11-25T10:45:04.445105Z",
          "iopub.execute_input": "2021-11-25T10:45:04.445389Z",
          "iopub.status.idle": "2021-11-25T10:45:06.825652Z",
          "shell.execute_reply.started": "2021-11-25T10:45:04.445360Z",
          "shell.execute_reply": "2021-11-25T10:45:06.824885Z"
        },
        "collapsed": true,
        "jupyter": {
          "outputs_hidden": true
        },
        "trusted": true,
        "id": "sdFpmJjZEBhx"
      },
      "source": [
        "# This Python 3 environment comes with many helpful analytics libraries installed\n",
        "# It is defined by the kaggle/python Docker image: https://github.com/kaggle/docker-python\n",
        "# For example, here's several helpful packages to load\n",
        "\n",
        "import numpy as np # linear algebra\n",
        "import pandas as pd # data processing, CSV file I/O (e.g. pd.read_csv)\n",
        "\n",
        "# Input data files are available in the read-only \"../input/\" directory\n",
        "# For example, running this (by clicking run or pressing Shift+Enter) will list all files under the input directory\n",
        "\n",
        "import os\n",
        "for dirname, _, filenames in os.walk('/kaggle/input'):\n",
        "    for filename in filenames:\n",
        "        print(os.path.join(dirname, filename))\n",
        "\n",
        "# You can write up to 20GB to the current directory (/kaggle/working/) that gets preserved as output when you create a version using \"Save & Run All\" \n",
        "# You can also write temporary files to /kaggle/temp/, but they won't be saved outside of the current session"
      ],
      "execution_count": null,
      "outputs": []
    },
    {
      "cell_type": "code",
      "metadata": {
        "execution": {
          "iopub.status.busy": "2021-11-25T10:45:10.636984Z",
          "iopub.execute_input": "2021-11-25T10:45:10.637269Z",
          "iopub.status.idle": "2021-11-25T10:45:10.680509Z",
          "shell.execute_reply.started": "2021-11-25T10:45:10.637236Z",
          "shell.execute_reply": "2021-11-25T10:45:10.679777Z"
        },
        "trusted": true,
        "id": "PsqKtAyDEBiF"
      },
      "source": [
        "paths=[]\n",
        "dataset_gubuns=[]\n",
        "label_gubuns=[]\n",
        "\n",
        "for dirname, _, filenames in os.walk(\"/kaggle/input/cat-and-dog\"):\n",
        "    for filename in filenames:\n",
        "        if \".jpg\" in filename:\n",
        "            file_path = dirname +'/'+filename\n",
        "            paths.append(file_path)\n",
        "            if \"/training_set/\" in file_path:\n",
        "                dataset_gubuns.append(\"train\")\n",
        "            elif \"/test_set/\" in file_path:\n",
        "                dataset_gubuns.append(\"test\")\n",
        "            else: \n",
        "                dataset_gubuns.append(\"N/A\")\n",
        "            \n",
        "            if 'dogs' in file_path:\n",
        "                label_gubuns.append('DOG')\n",
        "            elif 'cats' in file_path:\n",
        "                label_gubuns.append('CAT')\n",
        "            else: label_gubuns.append('N/A')"
      ],
      "execution_count": null,
      "outputs": []
    },
    {
      "cell_type": "code",
      "metadata": {
        "execution": {
          "iopub.status.busy": "2021-11-25T10:45:14.206927Z",
          "iopub.execute_input": "2021-11-25T10:45:14.207457Z",
          "iopub.status.idle": "2021-11-25T10:45:14.216217Z",
          "shell.execute_reply.started": "2021-11-25T10:45:14.207421Z",
          "shell.execute_reply": "2021-11-25T10:45:14.215553Z"
        },
        "collapsed": true,
        "jupyter": {
          "outputs_hidden": true
        },
        "trusted": true,
        "id": "s4YheMD2EBiH"
      },
      "source": [
        "paths[:10] , dataset_gubuns[:10], label_gubuns[:10]"
      ],
      "execution_count": null,
      "outputs": []
    },
    {
      "cell_type": "code",
      "metadata": {
        "execution": {
          "iopub.status.busy": "2021-11-25T10:45:18.640749Z",
          "iopub.execute_input": "2021-11-25T10:45:18.641064Z",
          "iopub.status.idle": "2021-11-25T10:45:18.667233Z",
          "shell.execute_reply.started": "2021-11-25T10:45:18.641031Z",
          "shell.execute_reply": "2021-11-25T10:45:18.666326Z"
        },
        "trusted": true,
        "id": "UH0XJg9EEBiI"
      },
      "source": [
        "pd.set_option('display.max_colwidth', 200)\n",
        "\n",
        "data_df = pd.DataFrame({'path':paths, 'dataset':dataset_gubuns, \"label\":label_gubuns})\n",
        "data_df['dataset']"
      ],
      "execution_count": null,
      "outputs": []
    },
    {
      "cell_type": "code",
      "metadata": {
        "execution": {
          "iopub.status.busy": "2021-11-25T10:45:18.870875Z",
          "iopub.execute_input": "2021-11-25T10:45:18.871134Z",
          "iopub.status.idle": "2021-11-25T10:45:18.882006Z",
          "shell.execute_reply.started": "2021-11-25T10:45:18.871106Z",
          "shell.execute_reply": "2021-11-25T10:45:18.881099Z"
        },
        "trusted": true,
        "id": "soj0cBftEBiK"
      },
      "source": [
        "print(data_df['dataset'].value_counts())\n",
        "print(data_df['label'].value_counts())"
      ],
      "execution_count": null,
      "outputs": []
    },
    {
      "cell_type": "code",
      "metadata": {
        "execution": {
          "iopub.status.busy": "2021-11-25T10:54:21.936047Z",
          "iopub.execute_input": "2021-11-25T10:54:21.936746Z",
          "iopub.status.idle": "2021-11-25T10:54:24.209764Z",
          "shell.execute_reply.started": "2021-11-25T10:54:21.936709Z",
          "shell.execute_reply": "2021-11-25T10:54:24.209026Z"
        },
        "trusted": true,
        "id": "vss1SxgxEBiM"
      },
      "source": [
        "import matplotlib.pyplot as plt\n",
        "import cv2\n",
        "%matplotlib inline\n",
        "\n",
        "def show_grid_images(image_path_list, ncols=8, augmentor=None, title=None):\n",
        "    figure, axs = plt.subplots(figsize=(22,6), nrows = 1, ncols=ncols)\n",
        "    for i in range(ncols):\n",
        "        image = cv2.cvtColor(cv2.imread(image_path_list[i]), cv2.COLOR_BGR2RGB)\n",
        "        axs[i].imshow(image)\n",
        "        axs[i].set_title(title)\n",
        "\n",
        "        \n",
        "dog_image_list = data_df[data_df['label']==\"DOG\"]['path'].iloc[:6].tolist()\n",
        "show_grid_images(dog_image_list, ncols=6, title=\"DOG\")\n",
        "\n",
        "cat_image_list = data_df[data_df['label']==\"CAT\"]['path'].iloc[:6].tolist()\n",
        "show_grid_images(cat_image_list, ncols=6, title=\"CAT\")"
      ],
      "execution_count": null,
      "outputs": []
    },
    {
      "cell_type": "code",
      "metadata": {
        "execution": {
          "iopub.status.busy": "2021-11-25T10:54:45.484112Z",
          "iopub.execute_input": "2021-11-25T10:54:45.484916Z",
          "iopub.status.idle": "2021-11-25T10:54:45.515392Z",
          "shell.execute_reply.started": "2021-11-25T10:54:45.484873Z",
          "shell.execute_reply": "2021-11-25T10:54:45.514719Z"
        },
        "collapsed": true,
        "jupyter": {
          "outputs_hidden": true
        },
        "trusted": true,
        "id": "c-ROb4wmEBiN"
      },
      "source": [
        "for image_path in dog_image_list:\n",
        "    image = cv2.cvtColor(cv2.imread(image_path), cv2.COLOR_BGR2RGB)\n",
        "    print('image shape:', image.shape)\n",
        "    \n",
        "print('image height shape:', image[:, 0, 0].shape)\n",
        "print('image width shape:', image[0, :, 0].shape)\n",
        "print('image size:', image[:, :, 0].shape)\n",
        "\n",
        "print('### image array:\\n', image)"
      ],
      "execution_count": null,
      "outputs": []
    },
    {
      "cell_type": "code",
      "metadata": {
        "execution": {
          "iopub.status.busy": "2021-11-25T10:56:28.622105Z",
          "iopub.execute_input": "2021-11-25T10:56:28.622790Z",
          "iopub.status.idle": "2021-11-25T10:56:34.550566Z",
          "shell.execute_reply.started": "2021-11-25T10:56:28.622750Z",
          "shell.execute_reply": "2021-11-25T10:56:34.549035Z"
        },
        "trusted": true,
        "id": "XKrNmlpOEBiP"
      },
      "source": [
        "from tensorflow.keras.preprocessing.image import ImageDataGenerator\n",
        "train_gen = ImageDataGenerator(horizontal_flip=True, rescale=1/255.)\n",
        "#flow from directory 잘 안씀 dataFrame쓰는게 편함\n",
        "train_flow_gen =train_gen.flow_from_directory(directory=\"/kaggle/input/cat-and-dog/training_set/training_set\"\n",
        "                                    , target_size = (224,224)\n",
        "                                    ,class_mode = 'categorical'\n",
        "                                    ,batch_size=64)"
      ],
      "execution_count": null,
      "outputs": []
    },
    {
      "cell_type": "code",
      "metadata": {
        "execution": {
          "iopub.status.busy": "2021-11-25T10:58:01.482889Z",
          "iopub.execute_input": "2021-11-25T10:58:01.483182Z",
          "iopub.status.idle": "2021-11-25T10:58:02.048598Z",
          "shell.execute_reply.started": "2021-11-25T10:58:01.483153Z",
          "shell.execute_reply": "2021-11-25T10:58:02.047872Z"
        },
        "trusted": true,
        "id": "AqV-1qcxEBiQ"
      },
      "source": [
        "images_array, labels_array = next(train_flow_gen)"
      ],
      "execution_count": null,
      "outputs": []
    },
    {
      "cell_type": "code",
      "metadata": {
        "execution": {
          "iopub.status.busy": "2021-11-25T10:58:21.062357Z",
          "iopub.execute_input": "2021-11-25T10:58:21.062687Z",
          "iopub.status.idle": "2021-11-25T10:58:21.070026Z",
          "shell.execute_reply.started": "2021-11-25T10:58:21.062647Z",
          "shell.execute_reply": "2021-11-25T10:58:21.068986Z"
        },
        "trusted": true,
        "id": "ZCdOZn3iEBiS"
      },
      "source": [
        "print(images_array.shape, labels_array.shape)"
      ],
      "execution_count": null,
      "outputs": []
    },
    {
      "cell_type": "code",
      "metadata": {
        "execution": {
          "iopub.status.busy": "2021-11-25T10:58:58.506879Z",
          "iopub.execute_input": "2021-11-25T10:58:58.507143Z",
          "iopub.status.idle": "2021-11-25T10:58:59.566651Z",
          "shell.execute_reply.started": "2021-11-25T10:58:58.507111Z",
          "shell.execute_reply": "2021-11-25T10:58:59.564984Z"
        },
        "trusted": true,
        "id": "5_E4N_LpEBiT"
      },
      "source": [
        "images_array = next(train_flow_gen)[0]\n",
        "labels_array = next(train_flow_gen)[1]\n",
        "print('##### image array shape:', images_array.shape)\n",
        "print('#### label array shape:', labels_array.shape)"
      ],
      "execution_count": null,
      "outputs": []
    },
    {
      "cell_type": "code",
      "metadata": {
        "execution": {
          "iopub.status.busy": "2021-11-25T10:59:09.531462Z",
          "iopub.execute_input": "2021-11-25T10:59:09.532117Z",
          "iopub.status.idle": "2021-11-25T10:59:09.536932Z",
          "shell.execute_reply.started": "2021-11-25T10:59:09.532080Z",
          "shell.execute_reply": "2021-11-25T10:59:09.534789Z"
        },
        "trusted": true,
        "id": "XLkOHiRQEBiU"
      },
      "source": [
        "IMAGE_SIZE = 224\n",
        "BATCH_SIZE = 64"
      ],
      "execution_count": null,
      "outputs": []
    },
    {
      "cell_type": "code",
      "metadata": {
        "execution": {
          "iopub.status.busy": "2021-11-25T11:19:56.254007Z",
          "iopub.execute_input": "2021-11-25T11:19:56.254543Z",
          "iopub.status.idle": "2021-11-25T11:19:57.386859Z",
          "shell.execute_reply.started": "2021-11-25T11:19:56.254506Z",
          "shell.execute_reply": "2021-11-25T11:19:57.385609Z"
        },
        "trusted": true,
        "id": "UJ4qWeUiEBiW"
      },
      "source": [
        "import tensorflow as tf\n",
        "from tensorflow.keras.optimizers import Adam\n",
        "from tensorflow.keras.losses import categorical_crossentropy\n",
        "from tensorflow.keras.metrics import Accuracy\n",
        "\n",
        "class XceptionCD(tf.keras.Model):\n",
        "    def __init__(self,model_name):\n",
        "        super(XceptionCD,self).__init__()\n",
        "        self.xception_layer = model_name(input_shape=(224,224,3), include_top=False, weights=\"imagenet\")\n",
        "        self.pooling_layer = tf.keras.layers.GlobalAveragePooling2D()\n",
        "        self.Dropout_layer = tf.keras.layers.Dropout(rate=0.5)\n",
        "        self.Dense_layer = tf.keras.layers.Dense(50, activation=\"relu\", name=\"fc1\")\n",
        "        self.output_layer = tf.keras.layers.Dense(2, activation=\"relu\", name='output')\n",
        "        \n",
        "    \n",
        "    def call(self,x):\n",
        "        input = tf.reshape(x,[-1,224,224,3])\n",
        "        x = self.xception_layer(input)\n",
        "        x = self.pooling_layer(x)\n",
        "        x = self.Dropout_layer(x)\n",
        "        x = self.Dense_layer(x)\n",
        "        x = self.output_layer(x)\n",
        "        return x\n",
        "model = XceptionCD(model_name=tf.keras.applications.Xception)\n",
        "model.compile(optimizer=Adam(0.001),loss=\"categorical_crossentropy\",metrics=[\"Accuracy\"])\n"
      ],
      "execution_count": null,
      "outputs": []
    },
    {
      "cell_type": "code",
      "metadata": {
        "execution": {
          "iopub.status.busy": "2021-11-25T11:19:57.481031Z",
          "iopub.execute_input": "2021-11-25T11:19:57.481319Z",
          "iopub.status.idle": "2021-11-25T11:35:27.331794Z",
          "shell.execute_reply.started": "2021-11-25T11:19:57.481284Z",
          "shell.execute_reply": "2021-11-25T11:35:27.331081Z"
        },
        "trusted": true,
        "id": "9_yhh_lSEBiY"
      },
      "source": [
        "model.fit(train_flow_gen, epochs=10)"
      ],
      "execution_count": null,
      "outputs": []
    },
    {
      "cell_type": "code",
      "metadata": {
        "execution": {
          "iopub.status.busy": "2021-11-25T11:36:12.796456Z",
          "iopub.execute_input": "2021-11-25T11:36:12.797048Z",
          "iopub.status.idle": "2021-11-25T11:36:34.726872Z",
          "shell.execute_reply.started": "2021-11-25T11:36:12.797011Z",
          "shell.execute_reply": "2021-11-25T11:36:34.726077Z"
        },
        "trusted": true,
        "id": "Cj_VqWCDEBiZ"
      },
      "source": [
        "test_gen = ImageDataGenerator(rescale=1/255.0)\n",
        "test_flow_gen = test_gen.flow_from_directory(\"/kaggle/input/cat-and-dog/test_set/test_set\"\n",
        "                                            , target_size=(224,224)\n",
        "                                            , class_mode = 'categorical'\n",
        "                                            , batch_size = 64, shuffle=False)\n",
        "model.evaluate(test_flow_gen)"
      ],
      "execution_count": null,
      "outputs": []
    },
    {
      "cell_type": "markdown",
      "metadata": {
        "id": "oZOZOVbnEBia"
      },
      "source": [
        "flow_from_dataframe"
      ]
    },
    {
      "cell_type": "code",
      "metadata": {
        "execution": {
          "iopub.status.busy": "2021-11-25T11:36:48.608707Z",
          "iopub.execute_input": "2021-11-25T11:36:48.608979Z",
          "iopub.status.idle": "2021-11-25T11:36:48.629003Z",
          "shell.execute_reply.started": "2021-11-25T11:36:48.608949Z",
          "shell.execute_reply": "2021-11-25T11:36:48.628268Z"
        },
        "trusted": true,
        "id": "XrT1wmHjEBid"
      },
      "source": [
        "model.summary()"
      ],
      "execution_count": null,
      "outputs": []
    },
    {
      "cell_type": "code",
      "metadata": {
        "execution": {
          "iopub.status.busy": "2021-11-25T11:38:45.024871Z",
          "iopub.execute_input": "2021-11-25T11:38:45.025137Z",
          "iopub.status.idle": "2021-11-25T11:38:45.049807Z",
          "shell.execute_reply.started": "2021-11-25T11:38:45.025108Z",
          "shell.execute_reply": "2021-11-25T11:38:45.049073Z"
        },
        "trusted": true,
        "id": "v08SuDh9EBie"
      },
      "source": [
        "data_df = pd.DataFrame({'path':paths, 'dataset':dataset_gubuns,'label':label_gubuns})\n",
        "print(data_df['dataset'].value_counts())\n",
        "data_df.head(10)"
      ],
      "execution_count": null,
      "outputs": []
    },
    {
      "cell_type": "code",
      "metadata": {
        "execution": {
          "iopub.status.busy": "2021-11-25T11:39:36.064574Z",
          "iopub.execute_input": "2021-11-25T11:39:36.065023Z",
          "iopub.status.idle": "2021-11-25T11:39:36.076772Z",
          "shell.execute_reply.started": "2021-11-25T11:39:36.064988Z",
          "shell.execute_reply": "2021-11-25T11:39:36.075955Z"
        },
        "trusted": true,
        "id": "mxeLly9cEBif"
      },
      "source": [
        "train_df = data_df[data_df['dataset']=='train']\n",
        "test_df = data_df[data_df['dataset']=='test']\n",
        "print(train_df.shape, test_df.shape)"
      ],
      "execution_count": null,
      "outputs": []
    },
    {
      "cell_type": "code",
      "metadata": {
        "execution": {
          "iopub.status.busy": "2021-11-25T11:41:14.959924Z",
          "iopub.execute_input": "2021-11-25T11:41:14.960182Z",
          "iopub.status.idle": "2021-11-25T11:41:15.762683Z",
          "shell.execute_reply.started": "2021-11-25T11:41:14.960154Z",
          "shell.execute_reply": "2021-11-25T11:41:15.761910Z"
        },
        "trusted": true,
        "id": "NwiOPZmwEBif"
      },
      "source": [
        "from sklearn.model_selection import train_test_split\n",
        "\n",
        "tr_df, val_df= train_test_split(train_df, test_size=0.15, stratify=train_df['label'], random_state=2021)\n",
        "print(tr_df.shape, val_df.shape)"
      ],
      "execution_count": null,
      "outputs": []
    },
    {
      "cell_type": "code",
      "metadata": {
        "execution": {
          "iopub.status.busy": "2021-11-25T11:42:58.780989Z",
          "iopub.execute_input": "2021-11-25T11:42:58.781286Z",
          "iopub.status.idle": "2021-11-25T11:42:58.785135Z",
          "shell.execute_reply.started": "2021-11-25T11:42:58.781254Z",
          "shell.execute_reply": "2021-11-25T11:42:58.784099Z"
        },
        "trusted": true,
        "id": "Fa4JpJjrEBig"
      },
      "source": [
        "IMAGE_SIZE=224\n",
        "BATCH_SIZE=64"
      ],
      "execution_count": null,
      "outputs": []
    },
    {
      "cell_type": "code",
      "metadata": {
        "execution": {
          "iopub.status.busy": "2021-11-25T11:46:02.489231Z",
          "iopub.execute_input": "2021-11-25T11:46:02.489502Z",
          "iopub.status.idle": "2021-11-25T11:46:07.651574Z",
          "shell.execute_reply.started": "2021-11-25T11:46:02.489471Z",
          "shell.execute_reply": "2021-11-25T11:46:07.650736Z"
        },
        "trusted": true,
        "id": "_guY5_S2EBig"
      },
      "source": [
        "tr_generator = ImageDataGenerator(horizontal_flip=True, rescale=1/255.0)\n",
        "tr_flow_gen = tr_generator.flow_from_dataframe(dataframe=tr_df\n",
        "                                              ,x_col='path'\n",
        "                                              ,y_col='label'\n",
        "                                              ,target_size=(IMAGE_SIZE,IMAGE_SIZE)\n",
        "                                              ,class_mode = 'binary'\n",
        "                                              ,batch_size=BATCH_SIZE\n",
        "                                              ,shuffle=True)\n"
      ],
      "execution_count": null,
      "outputs": []
    },
    {
      "cell_type": "code",
      "metadata": {
        "execution": {
          "iopub.status.busy": "2021-11-25T11:47:32.892072Z",
          "iopub.execute_input": "2021-11-25T11:47:32.892747Z",
          "iopub.status.idle": "2021-11-25T11:47:33.142643Z",
          "shell.execute_reply.started": "2021-11-25T11:47:32.892709Z",
          "shell.execute_reply": "2021-11-25T11:47:33.141870Z"
        },
        "trusted": true,
        "id": "uasLandTEBig"
      },
      "source": [
        "image_array , labels_array = next(tr_flow_gen)\n",
        "print(image_array.shape, labels_array.shape)"
      ],
      "execution_count": null,
      "outputs": []
    },
    {
      "cell_type": "code",
      "metadata": {
        "execution": {
          "iopub.status.busy": "2021-11-25T11:49:21.319752Z",
          "iopub.execute_input": "2021-11-25T11:49:21.320244Z",
          "iopub.status.idle": "2021-11-25T11:49:22.495685Z",
          "shell.execute_reply.started": "2021-11-25T11:49:21.320191Z",
          "shell.execute_reply": "2021-11-25T11:49:22.494906Z"
        },
        "trusted": true,
        "id": "Q03LVu8xEBig"
      },
      "source": [
        "val_generator = ImageDataGenerator(rescale=1/255.)\n",
        "val_flow_gen = val_generator.flow_from_dataframe(dataframe=val_df\n",
        "                                                ,x_col='path'\n",
        "                                                ,y_col='label'\n",
        "                                                ,target_size=(IMAGE_SIZE,IMAGE_SIZE)\n",
        "                                                ,class_mode = 'binary'\n",
        "                                                ,batch_size=BATCH_SIZE\n",
        "                                                ,suffle=False)"
      ],
      "execution_count": null,
      "outputs": []
    },
    {
      "cell_type": "code",
      "metadata": {
        "execution": {
          "iopub.status.busy": "2021-11-25T11:52:18.628493Z",
          "iopub.execute_input": "2021-11-25T11:52:18.629327Z",
          "iopub.status.idle": "2021-11-25T11:52:19.737687Z",
          "shell.execute_reply.started": "2021-11-25T11:52:18.629288Z",
          "shell.execute_reply": "2021-11-25T11:52:19.736956Z"
        },
        "trusted": true,
        "id": "JGmsO-xxEBih"
      },
      "source": [
        "import tensorflow as tf\n",
        "from tensorflow.keras.optimizers import Adam\n",
        "from tensorflow.keras.losses import categorical_crossentropy\n",
        "from tensorflow.keras.metrics import Accuracy\n",
        "from tensorflow.keras.callbacks import ReduceLROnPlateau, EarlyStopping, ModelCheckpoint , LearningRateScheduler\n",
        "\n",
        "class XceptionCD(tf.keras.Model):\n",
        "    def __init__(self,model_name):\n",
        "        super(XceptionCD,self).__init__()\n",
        "        self.xception_layer = model_name(input_shape=(224,224,3), include_top=False, weights=\"imagenet\")\n",
        "        self.pooling_layer = tf.keras.layers.GlobalAveragePooling2D()\n",
        "        self.Dropout_layer = tf.keras.layers.Dropout(rate=0.5)\n",
        "        self.Dense_layer = tf.keras.layers.Dense(50, activation=\"relu\", name=\"fc1\")\n",
        "        self.output_layer = tf.keras.layers.Dense(1, activation=\"sigmoid\", name='output')\n",
        "        \n",
        "    \n",
        "    def call(self,x):\n",
        "        input = tf.reshape(x,[-1,224,224,3])\n",
        "        x = self.xception_layer(input)\n",
        "        x = self.pooling_layer(x)\n",
        "        x = self.Dropout_layer(x)\n",
        "        x = self.Dense_layer(x)\n",
        "        x = self.output_layer(x)\n",
        "        return x\n",
        "model = XceptionCD(model_name=tf.keras.applications.Xception)\n",
        "model.compile(optimizer=Adam(0.001),loss=\"binary_crossentropy\",metrics=[\"Accuracy\"])\n",
        "rlr_cb = ReduceLROnPlateau(monitor=\"val_loss\", factor=0.2, patience=3, mode='min',verbose=1)\n",
        "ely_cb = EarlyStopping(monitor=\"val_loss\", patience=5, mode='min', verbose=1)\n",
        "\n",
        "\n"
      ],
      "execution_count": null,
      "outputs": []
    },
    {
      "cell_type": "code",
      "metadata": {
        "execution": {
          "iopub.status.busy": "2021-11-25T11:53:18.112068Z",
          "iopub.execute_input": "2021-11-25T11:53:18.112785Z",
          "iopub.status.idle": "2021-11-25T12:14:31.931114Z",
          "shell.execute_reply.started": "2021-11-25T11:53:18.112746Z",
          "shell.execute_reply": "2021-11-25T12:14:31.930376Z"
        },
        "trusted": true,
        "id": "BDgGb35JEBii"
      },
      "source": [
        "model.fit(tr_flow_gen, epochs=15, validation_data=val_flow_gen, callbacks=[rlr_cb, ely_cb])"
      ],
      "execution_count": null,
      "outputs": []
    },
    {
      "cell_type": "code",
      "metadata": {
        "execution": {
          "iopub.status.busy": "2021-11-25T12:14:50.293925Z",
          "iopub.execute_input": "2021-11-25T12:14:50.294199Z",
          "iopub.status.idle": "2021-11-25T12:15:03.069914Z",
          "shell.execute_reply.started": "2021-11-25T12:14:50.294170Z",
          "shell.execute_reply": "2021-11-25T12:15:03.069190Z"
        },
        "trusted": true,
        "id": "Ymuc0upVEBik"
      },
      "source": [
        "test_generator = ImageDataGenerator(rescale=1/255.)\n",
        "test_flow_gen = test_generator.flow_from_dataframe(dataframe=test_df\n",
        "                                                  ,x_col='path'\n",
        "                                                  ,y_col='label'\n",
        "                                                  ,target_size=(IMAGE_SIZE,IMAGE_SIZE)\n",
        "                                                  ,class_mode='binary'\n",
        "                                                  ,batch_size = BATCH_SIZE\n",
        "                                                  ,shuffle=False)\n",
        "model.evaluate(test_flow_gen)\n"
      ],
      "execution_count": null,
      "outputs": []
    },
    {
      "cell_type": "markdown",
      "metadata": {
        "id": "eSEPrRLFEBil"
      },
      "source": [
        "torch? tf? preprocessing ways"
      ]
    },
    {
      "cell_type": "code",
      "metadata": {
        "id": "GDoZr--_EBil"
      },
      "source": [
        "from tensorflow.keras.applications.xception import preprocess_input\n",
        "\n",
        "#rescale 대신에 preprocess_function에 preprocess_input으로 input rescale해서 넣어줌.\n",
        "tr_generator = ImageDataGenerator(horizontal_flip=True, preprocessing_function=preprocess_input)\n",
        "tr_flow_gen = tr_generator.flow_from_dataframe(dataframe=tr_df\n",
        "                                              ,xcol=\"path\"\n",
        "                                              ,ycol=\"label\"\n",
        "                                              ,target_size=(IMAGE_SIZE,IMAGE_SIZE)\n",
        "                                              ,class_mode='binary'\n",
        "                                              ,batch_size=BATCH_SIZE\n",
        "                                              ,shuffle=True)"
      ],
      "execution_count": null,
      "outputs": []
    }
  ]
}