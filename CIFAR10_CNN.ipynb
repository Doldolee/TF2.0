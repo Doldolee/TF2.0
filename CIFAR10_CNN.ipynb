{
  "nbformat": 4,
  "nbformat_minor": 0,
  "metadata": {
    "colab": {
      "name": "CIFAR10_CNN.ipynb",
      "provenance": [],
      "authorship_tag": "ABX9TyN1c5h7SkDmzw2SvcKqA8JX",
      "include_colab_link": true
    },
    "kernelspec": {
      "name": "python3",
      "display_name": "Python 3"
    },
    "language_info": {
      "name": "python"
    },
    "accelerator": "GPU"
  },
  "cells": [
    {
      "cell_type": "markdown",
      "metadata": {
        "id": "view-in-github",
        "colab_type": "text"
      },
      "source": [
        "<a href=\"https://colab.research.google.com/github/dolDolSee/TF2.0/blob/main/CIFAR10_CNN.ipynb\" target=\"_parent\"><img src=\"https://colab.research.google.com/assets/colab-badge.svg\" alt=\"Open In Colab\"/></a>"
      ]
    },
    {
      "cell_type": "code",
      "metadata": {
        "id": "83NjI-3u_rut",
        "colab": {
          "base_uri": "https://localhost:8080/"
        },
        "outputId": "6a677d70-7c47-459b-ad11-4aca84932cc0"
      },
      "source": [
        "import numpy as np\n",
        "import pandas as pd\n",
        "from tensorflow.keras.datasets import cifar10\n",
        "(train_images, train_labels),(test_images, test_labels) = cifar10.load_data()"
      ],
      "execution_count": null,
      "outputs": [
        {
          "output_type": "stream",
          "name": "stdout",
          "text": [
            "Downloading data from https://www.cs.toronto.edu/~kriz/cifar-10-python.tar.gz\n",
            "170500096/170498071 [==============================] - 6s 0us/step\n",
            "170508288/170498071 [==============================] - 6s 0us/step\n"
          ]
        }
      ]
    },
    {
      "cell_type": "code",
      "metadata": {
        "id": "9xw4Y0vE_5HM"
      },
      "source": [
        "def get_preprocessed_data(images, labels):\n",
        "  images = np.array(images/255.0, dtype=np.float32)\n",
        "  labels = np.array(labels, dtype=np.float32)\n",
        "\n",
        "  return images, labels\n",
        "\n",
        "train_images, train_labels = get_preprocessed_data(train_images, train_labels)\n",
        "test_images, test_labels = get_preprocessed_data(test_images, test_labels)"
      ],
      "execution_count": null,
      "outputs": []
    },
    {
      "cell_type": "code",
      "metadata": {
        "id": "NqWkU0_eSL6F"
      },
      "source": [
        "train_labels = train_labels.squeeze()\n",
        "test_labels = test_labels.squeeze()"
      ],
      "execution_count": null,
      "outputs": []
    },
    {
      "cell_type": "code",
      "metadata": {
        "id": "QQjJiQX-UHZh"
      },
      "source": [
        "import tensorflow as tf\n",
        "from tensorflow.keras.optimizers import Adam, RMSprop\n",
        "from tensorflow.keras.layers import BatchNormalization\n",
        "from tensorflow.keras.callbacks import ReduceLROnPlateau, EarlyStopping, ModelCheckpoint, LearningRateScheduler\n",
        "\n",
        "class CIFAR10_CNN(tf.keras.Model):\n",
        "  def __init__(self):\n",
        "    super(CIFAR10_CNN, self).__init__()\n",
        "\n",
        "    self.conv_1 = tf.keras.layers.Conv2D(filters=32, kernel_size=(5,5), padding='valid', activation='relu')\n",
        "    self.conv_2 = tf.keras.layers.Conv2D(filters=32, kernel_size=(3,3), padding='same', activation='relu')\n",
        "    # self.conv_2 = tf.keras.layers.Conv2D(filters=32, kernel_size=(3,3), padding='same', activation='relu', kernel_initializer='he_normal')\n",
        "    self.MaxPool_1 = tf.keras.layers.MaxPooling2D(pool_size=(2,2))\n",
        "    self.conv_3 = tf.keras.layers.Conv2D(filters=64, kernel_size=3, padding='same', activation='relu')\n",
        "    self.conv_4 = tf.keras.layers.Conv2D(filters=64, kernel_size=3, padding='same', activation='relu')\n",
        "    self.MaxPool_2 = tf.keras.layers.MaxPooling2D(pool_size=2)\n",
        "    self.conv_5 = tf.keras.layers.Conv2D(filters=128, kernel_size=3, padding='same', activation='relu')\n",
        "    self.conv_6 = tf.keras.layers.Conv2D(filters=128, kernel_size=3, padding='same', activation='relu')\n",
        "    self.MaxPool_3 = tf.keras.layers.MaxPooling2D(pool_size=2)\n",
        "    self.Flatten = tf.keras.layers.Flatten(name='flatten')\n",
        "    self.Drop_out_1 = tf.keras.layers.Dropout(rate=0.5)\n",
        "    self.Dense_1 = tf.keras.layers.Dense(300, activation='relu', name='fc1')\n",
        "    self.Drop_out_2 = tf.keras.layers.Dropout(0.3)\n",
        "    self.Dense_2 = tf.keras.layers.Dense(10, activation='softmax', name='output')\n",
        "  \n",
        "  def call(self, x):\n",
        "    input = tf.reshape(x,[-1,32,32,3])\n",
        "    x = self.conv_1(input)\n",
        "    x = self.conv_2(x)\n",
        "    x = self.MaxPool_1(x)\n",
        "    x = self.conv_3(x)\n",
        "    x = self.conv_4(x)\n",
        "    x = self.MaxPool_2(x)\n",
        "    x = self.conv_5(x)\n",
        "    x = self.conv_6(x)\n",
        "    x = self.MaxPool_3(x)\n",
        "    x = self.Flatten(x)\n",
        "    x = self.Drop_out_1(x)\n",
        "    x = self.Dense_1(x)\n",
        "    x = self.Drop_out_2(x)\n",
        "    x = self.Dense_2(x)\n",
        "    return x\n",
        "\n",
        "model = CIFAR10_CNN()\n",
        "\n"
      ],
      "execution_count": null,
      "outputs": []
    },
    {
      "cell_type": "code",
      "metadata": {
        "id": "Nfrg6QvKh9UI"
      },
      "source": [
        "model.compile(optimizer =Adam(), loss = 'sparse_categorical_crossentropy', metrics=['accuracy'] )\n",
        "history = model.fit(x=train_images, y= train_labels, batch_size = 64, epochs=30, validation_split=0.15)"
      ],
      "execution_count": null,
      "outputs": []
    },
    {
      "cell_type": "code",
      "metadata": {
        "colab": {
          "base_uri": "https://localhost:8080/"
        },
        "id": "Y8i4cx0UjJzw",
        "outputId": "c65a2412-eb65-43e4-c791-a3314bf783ef"
      },
      "source": [
        ""
      ],
      "execution_count": null,
      "outputs": [
        {
          "output_type": "stream",
          "name": "stdout",
          "text": [
            "Epoch 1/30\n",
            "665/665 [==============================] - 41s 17ms/step - loss: 1.7572 - accuracy: 0.3424 - val_loss: 1.4765 - val_accuracy: 0.4561\n",
            "Epoch 2/30\n",
            "665/665 [==============================] - 11s 16ms/step - loss: 1.3589 - accuracy: 0.5052 - val_loss: 1.2404 - val_accuracy: 0.5508\n",
            "Epoch 3/30\n",
            "665/665 [==============================] - 11s 16ms/step - loss: 1.1640 - accuracy: 0.5821 - val_loss: 1.2237 - val_accuracy: 0.5793\n",
            "Epoch 4/30\n",
            "665/665 [==============================] - 11s 16ms/step - loss: 1.0379 - accuracy: 0.6313 - val_loss: 1.0480 - val_accuracy: 0.6300\n",
            "Epoch 5/30\n",
            "665/665 [==============================] - 11s 16ms/step - loss: 0.9302 - accuracy: 0.6716 - val_loss: 0.9488 - val_accuracy: 0.6637\n",
            "Epoch 6/30\n",
            "665/665 [==============================] - 11s 16ms/step - loss: 0.8509 - accuracy: 0.7032 - val_loss: 0.8229 - val_accuracy: 0.7093\n",
            "Epoch 7/30\n",
            "665/665 [==============================] - 11s 16ms/step - loss: 0.7820 - accuracy: 0.7279 - val_loss: 0.7860 - val_accuracy: 0.7288\n",
            "Epoch 8/30\n",
            "665/665 [==============================] - 11s 16ms/step - loss: 0.7351 - accuracy: 0.7411 - val_loss: 0.7802 - val_accuracy: 0.7297\n",
            "Epoch 9/30\n",
            "665/665 [==============================] - 11s 16ms/step - loss: 0.6863 - accuracy: 0.7579 - val_loss: 0.7418 - val_accuracy: 0.7443\n",
            "Epoch 10/30\n",
            "665/665 [==============================] - 11s 16ms/step - loss: 0.6508 - accuracy: 0.7703 - val_loss: 0.7957 - val_accuracy: 0.7331\n",
            "Epoch 11/30\n",
            "665/665 [==============================] - 11s 16ms/step - loss: 0.6183 - accuracy: 0.7824 - val_loss: 0.7563 - val_accuracy: 0.7472\n",
            "Epoch 12/30\n",
            "665/665 [==============================] - 11s 16ms/step - loss: 0.5699 - accuracy: 0.7980 - val_loss: 0.7469 - val_accuracy: 0.7485\n",
            "Epoch 13/30\n",
            "665/665 [==============================] - 11s 16ms/step - loss: 0.5569 - accuracy: 0.8037 - val_loss: 0.7363 - val_accuracy: 0.7543\n",
            "Epoch 14/30\n",
            "665/665 [==============================] - 11s 16ms/step - loss: 0.5264 - accuracy: 0.8130 - val_loss: 0.7274 - val_accuracy: 0.7640\n",
            "Epoch 15/30\n",
            "665/665 [==============================] - 11s 16ms/step - loss: 0.5074 - accuracy: 0.8194 - val_loss: 0.7686 - val_accuracy: 0.7523\n",
            "Epoch 16/30\n",
            "665/665 [==============================] - 11s 16ms/step - loss: 0.4813 - accuracy: 0.8280 - val_loss: 0.7355 - val_accuracy: 0.7657\n",
            "Epoch 17/30\n",
            "665/665 [==============================] - 11s 16ms/step - loss: 0.4612 - accuracy: 0.8365 - val_loss: 0.7625 - val_accuracy: 0.7604\n",
            "Epoch 18/30\n",
            "665/665 [==============================] - 11s 16ms/step - loss: 0.4371 - accuracy: 0.8451 - val_loss: 0.7210 - val_accuracy: 0.7685\n",
            "Epoch 19/30\n",
            "665/665 [==============================] - 11s 16ms/step - loss: 0.4264 - accuracy: 0.8478 - val_loss: 0.7794 - val_accuracy: 0.7541\n",
            "Epoch 20/30\n",
            "665/665 [==============================] - 11s 16ms/step - loss: 0.4296 - accuracy: 0.8488 - val_loss: 0.8007 - val_accuracy: 0.7451\n",
            "Epoch 21/30\n",
            "665/665 [==============================] - 11s 16ms/step - loss: 0.4038 - accuracy: 0.8573 - val_loss: 0.7881 - val_accuracy: 0.7567\n",
            "Epoch 22/30\n",
            "665/665 [==============================] - 11s 16ms/step - loss: 0.3872 - accuracy: 0.8631 - val_loss: 0.7854 - val_accuracy: 0.7659\n",
            "Epoch 23/30\n",
            "665/665 [==============================] - 10s 16ms/step - loss: 0.3699 - accuracy: 0.8689 - val_loss: 0.7942 - val_accuracy: 0.7573\n",
            "Epoch 24/30\n",
            "665/665 [==============================] - 11s 16ms/step - loss: 0.3696 - accuracy: 0.8696 - val_loss: 0.7627 - val_accuracy: 0.7641\n",
            "Epoch 25/30\n",
            "665/665 [==============================] - 10s 16ms/step - loss: 0.3597 - accuracy: 0.8730 - val_loss: 0.7810 - val_accuracy: 0.7655\n",
            "Epoch 26/30\n",
            "665/665 [==============================] - 11s 16ms/step - loss: 0.3490 - accuracy: 0.8764 - val_loss: 0.8721 - val_accuracy: 0.7544\n",
            "Epoch 27/30\n",
            "665/665 [==============================] - 11s 16ms/step - loss: 0.3581 - accuracy: 0.8752 - val_loss: 0.8473 - val_accuracy: 0.7525\n",
            "Epoch 28/30\n",
            "665/665 [==============================] - 11s 16ms/step - loss: 0.3236 - accuracy: 0.8858 - val_loss: 0.8238 - val_accuracy: 0.7653\n",
            "Epoch 29/30\n",
            "665/665 [==============================] - 11s 16ms/step - loss: 0.3268 - accuracy: 0.8847 - val_loss: 0.8176 - val_accuracy: 0.7561\n",
            "Epoch 30/30\n",
            "665/665 [==============================] - 11s 16ms/step - loss: 0.3327 - accuracy: 0.8824 - val_loss: 0.8024 - val_accuracy: 0.7675\n"
          ]
        }
      ]
    },
    {
      "cell_type": "code",
      "metadata": {
        "colab": {
          "base_uri": "https://localhost:8080/",
          "height": 374
        },
        "id": "jkG0gCphkZSP",
        "outputId": "7b72c09a-892c-477f-bb0d-4a582d858ecd"
      },
      "source": [
        "import matplotlib.pyplot as plt\n",
        "%matplotlib inline\n",
        "\n",
        "def show_history(history):\n",
        "  plt.figure(figsize=(6,6))\n",
        "  plt.yticks(np.arange(0,1,0.05))\n",
        "  plt.plot(history.history['accuracy'],label='train')\n",
        "  plt.plot(history.history['val_accuracy'], label='valid')\n",
        "  plt.legend()\n",
        "\n",
        "show_history(history)"
      ],
      "execution_count": null,
      "outputs": [
        {
          "output_type": "display_data",
          "data": {
            "image/png": "[encoded data removed]",
            "text/plain": [
              "<Figure size 432x432 with 1 Axes>"
            ]
          },
          "metadata": {
            "needs_background": "light"
          }
        }
      ]
    },
    {
      "cell_type": "code",
      "metadata": {
        "colab": {
          "base_uri": "https://localhost:8080/"
        },
        "id": "f_ZfRxtdlcjA",
        "outputId": "9ccefdf1-4516-42b4-ad17-57f1f3278060"
      },
      "source": [
        "model.evaluate(test_images, test_labels)"
      ],
      "execution_count": null,
      "outputs": [
        {
          "output_type": "stream",
          "name": "stdout",
          "text": [
            "313/313 [==============================] - 2s 7ms/step - loss: 0.8579 - accuracy: 0.7543\n"
          ]
        },
        {
          "output_type": "execute_result",
          "data": {
            "text/plain": [
              "[0.857861340045929, 0.7542999982833862]"
            ]
          },
          "metadata": {},
          "execution_count": 26
        }
      ]
    },
    {
      "cell_type": "code",
      "metadata": {
        "colab": {
          "base_uri": "https://localhost:8080/"
        },
        "id": "RIB-fv4zn458",
        "outputId": "a00cc9de-ea46-492f-8d6e-046bc077f306"
      },
      "source": [
        "model.predict(test_images[7])"
      ],
      "execution_count": null,
      "outputs": [
        {
          "output_type": "execute_result",
          "data": {
            "text/plain": [
              "array([[8.5741930e-02, 3.7072001e-05, 2.5396008e-02, 4.3935433e-01,\n",
              "        9.0844702e-04, 3.2546386e-01, 7.4269976e-03, 1.6115421e-03,\n",
              "        1.1401083e-01, 4.8977909e-05]], dtype=float32)"
            ]
          },
          "metadata": {},
          "execution_count": 31
        }
      ]
    },
    {
      "cell_type": "code",
      "metadata": {
        "colab": {
          "base_uri": "https://localhost:8080/"
        },
        "id": "FuGCoq1rm8NJ",
        "outputId": "f61a538d-9b1d-42a0-b12e-2141f695d1a2"
      },
      "source": [
        "preds = model.predict(np.expand_dims(test_images[7],axis=0))\n",
        "print(preds.shape)\n",
        "print(preds)"
      ],
      "execution_count": null,
      "outputs": [
        {
          "output_type": "stream",
          "name": "stdout",
          "text": [
            "(1, 10)\n",
            "[[1.57377962e-03 4.84207922e-05 1.08652331e-01 1.22321121e-01\n",
            "  3.22997630e-01 1.33062145e-02 4.27305132e-01 3.27613833e-03\n",
            "  1.12444694e-04 4.06779756e-04]]\n"
          ]
        }
      ]
    },
    {
      "cell_type": "code",
      "metadata": {
        "id": "8u4Kw5_cnD2U"
      },
      "source": [
        "preds = model.predict(test_images[:32], batch_size=32)\n",
        "print(preds.shape)\n",
        "print(preds)"
      ],
      "execution_count": null,
      "outputs": []
    },
    {
      "cell_type": "code",
      "metadata": {
        "colab": {
          "base_uri": "https://localhost:8080/"
        },
        "id": "1qsmz7qYpfcl",
        "outputId": "9457a380-7916-4bcd-dace-738bf937380c"
      },
      "source": [
        "predicted_class = np.argmax(preds, axis=1)\n",
        "print(predicted_class)"
      ],
      "execution_count": null,
      "outputs": [
        {
          "output_type": "stream",
          "name": "stdout",
          "text": [
            "[6]\n"
          ]
        }
      ]
    },
    {
      "cell_type": "code",
      "metadata": {
        "colab": {
          "base_uri": "https://localhost:8080/"
        },
        "id": "ZflUJgBvpmVa",
        "outputId": "6637855a-86f1-40a4-a218-a3698beca83b"
      },
      "source": [
        "test_labels[7]"
      ],
      "execution_count": null,
      "outputs": [
        {
          "output_type": "execute_result",
          "data": {
            "text/plain": [
              "6.0"
            ]
          },
          "metadata": {},
          "execution_count": 45
        }
      ]
    },
    {
      "cell_type": "code",
      "metadata": {
        "id": "8jMCo4RYp7xr"
      },
      "source": [
        "import numpy as np\n"
      ],
      "execution_count": null,
      "outputs": []
    },
    {
      "cell_type": "code",
      "metadata": {
        "id": "xQN8vvJnoY4k"
      },
      "source": [
        ""
      ],
      "execution_count": null,
      "outputs": []
    },
    {
      "cell_type": "markdown",
      "metadata": {
        "id": "l78_gZIcoaxY"
      },
      "source": [
        "xavier initialization : sigmoid, tanh에 최적화됨."
      ]
    },
    {
      "cell_type": "code",
      "metadata": {
        "id": "Zs2MwRn2oct0"
      },
      "source": [
        "#glorot_normal\n",
        "fan_in = 10\n",
        "fan_out = 8\n",
        "scale_value = np.sqrt(2/(fan_in + fan_out))\n",
        "\n",
        "weights = np.random.normal(loc=0.0, scale=scale_value, size=(100,100))"
      ],
      "execution_count": null,
      "outputs": []
    },
    {
      "cell_type": "code",
      "metadata": {
        "id": "EYmbzVegoogR"
      },
      "source": [
        "#glorot_uniform\n",
        "fan_in = 10\n",
        "fan_out = 8\n",
        "limit = np.sqrt(6/(fan_in + fan_out))\n",
        "\n",
        "weights = np.random.uniform(-1*limit, limit, size=(100,100))"
      ],
      "execution_count": null,
      "outputs": []
    },
    {
      "cell_type": "markdown",
      "metadata": {
        "id": "FyMQuZOspGyY"
      },
      "source": [
        "He Initialization : relu에 최적화됨"
      ]
    },
    {
      "cell_type": "code",
      "metadata": {
        "id": "rFWfsmAupGRf"
      },
      "source": [
        "fan_in = 10\n",
        "fan_out = 8\n",
        "\n",
        "scale_value = np.sqrt(2/(fan_in))\n",
        "weights = np.random.normal(loc=0.0, scale=scale_value, size=(100,100))"
      ],
      "execution_count": null,
      "outputs": []
    },
    {
      "cell_type": "code",
      "metadata": {
        "id": "PmXklgVXo83m"
      },
      "source": [
        "import tensorflow as tf\n",
        "from tensorflow.keras.optimizers import Adam, RMSprop\n",
        "from tensorflow.keras.layers import BatchNormalization\n",
        "from tensorflow.keras.callbacks import ReduceLROnPlateau, EarlyStopping, ModelCheckpoint, LearningRateScheduler\n",
        "\n",
        "class CIFAR10_CNN(tf.keras.Model):\n",
        "  def __init__(self):\n",
        "    super(CIFAR10_CNN, self).__init__()\n",
        "\n",
        "    self.conv_1 = tf.keras.layers.Conv2D(filters=32, kernel_size=3, padding='same')\n",
        "    self.batch_1 = tf.keras.layers.BatchNormalization()\n",
        "    self.activation_1 = tf.keras.layers.Activation('relu')\n",
        "\n",
        "    self.conv_2 = tf.keras.layers.Conv2D(filters=32, kernel_size=3, padding='same')\n",
        "    self.batch_2 = tf.keras.layers.BatchNormalization()\n",
        "    self.activation_2 = tf.keras.layers.Activation('relu')\n",
        "    self.MaxPool_1 = tf.keras.layers.MaxPooling2D(pool_size=(2,2))\n",
        "\n",
        "    self.conv_3 = tf.keras.layers.Conv2D(filters=64, kernel_size=3, padding='same')\n",
        "    self.batch_3 = tf.keras.layers.BatchNormalization()\n",
        "    self.activation_3 = tf.keras.layers.Activation('relu')\n",
        "\n",
        "    self.conv_4 = tf.keras.layers.Conv2D(filters=64, kernel_size=3, padding='same')\n",
        "    self.activation_4 = tf.keras.layers.Activation('relu')\n",
        "    self.MaxPool_2 = tf.keras.layers.MaxPooling2D(pool_size=(2,2))\n",
        "\n",
        "    self.conv_5 = tf.keras.layers.Conv2D(filters=128, kernel_size=3, padding='same')\n",
        "    self.batch_4 = tf.keras.layers.BatchNormalization()\n",
        "    self.activation_5 = tf.keras.layers.Activation('relu')\n",
        "\n",
        "    self.conv_6 = tf.keras.layers.Conv2D(filters=128, kernel_size=3, padding='same')\n",
        "    self.batch_5 = tf.keras.layers.BatchNormalization()\n",
        "    self.activation_6 = tf.keras.layers.Activation('relu')\n",
        "    self.MaxPool_3 = tf.keras.layers.MaxPooling2D(pool_size=(2,2))\n",
        "\n",
        "    # self.globalAveragePooling = tf.keras.layers.GlobalAveragePooling2D()\n",
        "    self.Flatten = tf.keras.layers.Flatten(name='flatten')\n",
        "    self.Drop_out_1 = tf.keras.layers.Dropout(rate=0.5)\n",
        "    #kernel regularizer\n",
        "    self.Dense_1 = tf.keras.layers.Dense(300, activation='relu', kernel_regularizer=l2(1e-5), name='fc1')\n",
        "    self.Drop_out_2 = tf.keras.layers.Dropout(0.3)\n",
        "    self.Dense_2 = tf.keras.layers.Dense(10, activation='softmax', name='output')\n",
        "  \n",
        "  def call(self, x):\n",
        "    input = tf.reshape(x,[-1,32,32,3])\n",
        "    x = self.conv_1(input)\n",
        "    x = self.batch_1(x)\n",
        "    x = self.activation_1(x)\n",
        "    x = self.conv_2(x)\n",
        "    x = self.batch_2(x)\n",
        "    x = self.activation_2(x)\n",
        "    x = self.MaxPool_1(x)\n",
        "\n",
        "    x = self.conv_3(x)\n",
        "    x = self.batch_3(x)\n",
        "    x = self.activation_3(x)\n",
        "\n",
        "    x = self.conv_4(x) \n",
        "    x = self.activation_4(x)\n",
        "    x = self.MaxPool_2(x) \n",
        "\n",
        "    x = self.conv_5(x) \n",
        "    x = self.batch_4(x) \n",
        "    x = self.activation_5(x)\n",
        "\n",
        "    x = self.conv_6(x)\n",
        "    x = self.batch_5(x)\n",
        "    x = self.activation_6(x)\n",
        "    x = self.MaxPool_3(x) \n",
        "\n",
        "    # x = self.globalAveragePooling(x)\n",
        "    x = self.Flatten(x) \n",
        "    x = self.Drop_out_1(x)\n",
        "    x = self.Dense_1(x) \n",
        "    x = self.Drop_out_2(x)\n",
        "    x = self.Dense_2(x)\n",
        "    return x\n",
        "\n",
        "model = CIFAR10_CNN()"
      ],
      "execution_count": null,
      "outputs": []
    },
    {
      "cell_type": "code",
      "metadata": {
        "id": "7Ac076tqu7WG"
      },
      "source": [
        "import tensorflow as tf\n",
        "from tensorflow.keras.optimizers import Adam, RMSprop\n",
        "from tensorflow.keras.layers import BatchNormalization\n",
        "from tensorflow.keras.callbacks import ReduceLROnPlateau, EarlyStopping, ModelCheckpoint, LearningRateScheduler\n",
        "# ModelCheckpoint(filepath=\"./{}.hdf5\", monitor='val_loss',save_best_only=True, save_weights_only=True, mode='min',period=1, verbose=0)\n",
        "model.compile(optimizer =Adam(), loss = 'sparse_categorical_crossentropy', metrics=['accuracy'] )\n",
        "history = model.fit(x=train_images, y= train_labels, batch_size = 64, epochs=30, validation_split=0.15)"
      ],
      "execution_count": null,
      "outputs": []
    },
    {
      "cell_type": "code",
      "metadata": {
        "id": "eRFk05javNt2"
      },
      "source": [
        "model.evaluate(test_images, test_labels, batch_size=64)"
      ],
      "execution_count": null,
      "outputs": []
    },
    {
      "cell_type": "code",
      "metadata": {
        "id": "QlUZ-LjrDnxk"
      },
      "source": [
        "model = CIFAR10_CNN()\n",
        "model.compile(optimizer =Adam(), loss = 'sparse_categorical_crossentropy', metrics=['accuracy'] )\n",
        "mode.load_weights(\"./sdf.hdf5\")"
      ],
      "execution_count": null,
      "outputs": []
    }
  ]
}