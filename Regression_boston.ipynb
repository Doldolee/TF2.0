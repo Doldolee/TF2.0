{
  "nbformat": 4,
  "nbformat_minor": 0,
  "metadata": {
    "colab": {
      "name": "Regression_boston.ipynb",
      "provenance": [],
      "authorship_tag": "ABX9TyPKLu6hTB6mPsZoeWZr1/Ra",
      "include_colab_link": true
    },
    "kernelspec": {
      "name": "python3",
      "display_name": "Python 3"
    },
    "language_info": {
      "name": "python"
    },
    "accelerator": "TPU"
  },
  "cells": [
    {
      "cell_type": "markdown",
      "metadata": {
        "id": "view-in-github",
        "colab_type": "text"
      },
      "source": [
        "<a href=\"https://colab.research.google.com/github/dolDolSee/TF2.0/blob/main/Regression_boston.ipynb\" target=\"_parent\"><img src=\"https://colab.research.google.com/assets/colab-badge.svg\" alt=\"Open In Colab\"/></a>"
      ]
    },
    {
      "cell_type": "code",
      "metadata": {
        "id": "AmYxi0siUFDA"
      },
      "source": [
        "import numpy as np\n",
        "import pandas as pd \n",
        "from sklearn.datasets import load_boston\n",
        "from sklearn.preprocessing import MinMaxScaler\n",
        "import tensorflow as tf\n",
        "\n",
        "\n",
        "boston = load_boston()\n",
        "bostonDF = pd.DataFrame(boston.data, columns=boston.feature_names)\n",
        "bostonDF['PRICE'] = boston.target\n",
        "\n",
        "scaler = MinMaxScaler()\n",
        "scaled_features = scaler.fit_transform(bostonDF[['RM', 'LSTAT']])"
      ],
      "execution_count": 1,
      "outputs": []
    },
    {
      "cell_type": "code",
      "metadata": {
        "id": "s-ApSbL8UPnO"
      },
      "source": [
        "class Regression(tf.keras.Model):\n",
        "    def __init__(self):\n",
        "        super(Regression, self).__init__()\n",
        "        self.regression_layer = tf.keras.layers.Dense(1,\n",
        "                                                   activation = None,\n",
        "                                                   #W값\n",
        "                                                   kernel_initializer = \"zeros\",\n",
        "                                                   #B값\n",
        "                                                   bias_initializer=\"zeros\")\n",
        "    def call(self, x):\n",
        "        #인자를 넣어서 softmax_layer연산 수행\n",
        "        logits = self.regression_layer(x)\n",
        "        #Dense를 지난 결과에 softmax 씌워서 반환\n",
        "        return logits\n",
        "#손실함수 정의\n",
        "@tf.function\n",
        "def mse_loss(y_pred, y):\n",
        "    return tf.reduce_mean(tf.square(y_pred-y))\n",
        "\n",
        "#Optimizer\n",
        "optimizer = tf.optimizers.Adam(0.01)\n",
        "\n",
        "#GD정의\n",
        "@tf.function\n",
        "def train_step(model, x, y):\n",
        "    with tf.GradientTape() as tape:\n",
        "        y_pred = model(x)\n",
        "        loss = mse_loss(y_pred, y)\n",
        "    #GD가 계산되는 시점, model.trainable_variable은 자동으로 갱신이 요구되는 변수값을 할당해줌.\n",
        "    gradients = tape.gradient(loss, model.trainable_variables)\n",
        "    #Optimizer를 통해서 갱신이 이루어지는 시점\n",
        "    optimizer.apply_gradients(zip(gradients,model.trainable_variables))\n",
        "\n",
        "Regression_model = Regression()\n",
        "\n",
        "Regression_model.compile(optimizer = tf.keras.optimizers.Adam(learning_rate = 0.01),loss='mse',metrics=['mse'])\n",
        "Regression_model.fit(scaled_features, bostonDF['PRICE'].values, epochs=1000)\n"
      ],
      "execution_count": null,
      "outputs": []
    },
    {
      "cell_type": "code",
      "metadata": {
        "colab": {
          "base_uri": "https://localhost:8080/"
        },
        "id": "_FVJg_NaUWBO",
        "outputId": "eb649313-e2ed-453a-fa44-c181e7eaa734"
      },
      "source": [
        "predicted = Regression_model.predict(scaled_features)\n",
        "predicted[0]"
      ],
      "execution_count": 3,
      "outputs": [
        {
          "output_type": "execute_result",
          "data": {
            "text/plain": [
              "array([28.958841], dtype=float32)"
            ]
          },
          "metadata": {},
          "execution_count": 3
        }
      ]
    },
    {
      "cell_type": "code",
      "metadata": {
        "id": "2bSotvcfUiwM"
      },
      "source": [
        ""
      ],
      "execution_count": null,
      "outputs": []
    }
  ]
}