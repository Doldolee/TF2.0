{
  "nbformat": 4,
  "nbformat_minor": 0,
  "metadata": {
    "kernelspec": {
      "language": "python",
      "display_name": "Python 3",
      "name": "python3"
    },
    "language_info": {
      "name": "python",
      "version": "3.7.10",
      "mimetype": "text/x-python",
      "codemirror_mode": {
        "name": "ipython",
        "version": 3
      },
      "pygments_lexer": "ipython3",
      "nbconvert_exporter": "python",
      "file_extension": ".py"
    },
    "colab": {
      "name": "alexnet-kerassequence.ipynb",
      "provenance": [],
      "include_colab_link": true
    }
  },
  "cells": [
    {
      "cell_type": "markdown",
      "metadata": {
        "id": "view-in-github",
        "colab_type": "text"
      },
      "source": [
        "<a href=\"https://colab.research.google.com/github/dolDolSee/TF2.0/blob/main/alexnet_kerassequence.ipynb\" target=\"_parent\"><img src=\"https://colab.research.google.com/assets/colab-badge.svg\" alt=\"Open In Colab\"/></a>"
      ]
    },
    {
      "cell_type": "code",
      "metadata": {
        "_uuid": "8f2839f25d086af736a60e9eeb907d3b93b6e0e5",
        "_cell_guid": "b1076dfc-b9ad-4769-8c92-a6c4dae69d19",
        "execution": {
          "iopub.status.busy": "2021-12-03T12:06:53.090255Z",
          "iopub.execute_input": "2021-12-03T12:06:53.090468Z",
          "iopub.status.idle": "2021-12-03T12:06:53.096136Z",
          "shell.execute_reply.started": "2021-12-03T12:06:53.090441Z",
          "shell.execute_reply": "2021-12-03T12:06:53.095112Z"
        },
        "trusted": true,
        "id": "GgEB-QuVcreV"
      },
      "source": [
        "# This Python 3 environment comes with many helpful analytics libraries installed\n",
        "# It is defined by the kaggle/python Docker image: https://github.com/kaggle/docker-python\n",
        "# For example, here's several helpful packages to load\n",
        "\n",
        "import numpy as np # linear algebra\n",
        "import pandas as pd # data processing, CSV file I/O (e.g. pd.read_csv)\n",
        "\n",
        "# Input data files are available in the read-only \"../input/\" directory\n",
        "# For example, running this (by clicking run or pressing Shift+Enter) will list all files under the input directory\n",
        "\n",
        "import os\n",
        "for dirname, _, filenames in os.walk('/kaggle/input'):\n",
        "    for filename in filenames:\n",
        "        print(os.path.join(dirname, filename))\n",
        "\n",
        "# You can write up to 20GB to the current directory (/kaggle/working/) that gets preserved as output when you create a version using \"Save & Run All\" \n",
        "# You can also write temporary files to /kaggle/temp/, but they won't be saved outside of the current session"
      ],
      "execution_count": null,
      "outputs": []
    },
    {
      "cell_type": "code",
      "metadata": {
        "execution": {
          "iopub.status.busy": "2021-12-03T13:10:40.558724Z",
          "iopub.execute_input": "2021-12-03T13:10:40.559159Z",
          "iopub.status.idle": "2021-12-03T13:10:40.609853Z",
          "shell.execute_reply.started": "2021-12-03T13:10:40.559124Z",
          "shell.execute_reply": "2021-12-03T13:10:40.609091Z"
        },
        "trusted": true,
        "id": "6ba2Fw1bcreZ"
      },
      "source": [
        "import tensorflow as tf\n",
        "\n",
        "class Alexnet(tf.keras.Model):\n",
        "    def __init__(self, kernel_regular=None, n_classes=10):\n",
        "        super(Alexnet,self).__init__()\n",
        "        \n",
        "        self.conv_layer = tf.keras.layers.Conv2D(filters=96, kernel_size=(11,11), strides=(4,4), padding=\"valid\")\n",
        "        self.activation_layer = tf.keras.layers.Activation(\"relu\")\n",
        "        self.batch_layer = tf.keras.layers.BatchNormalization()\n",
        "        self.batch_layer1 = tf.keras.layers.BatchNormalization()\n",
        "        self.batch_layer2 = tf.keras.layers.BatchNormalization()\n",
        "        self.batch_layer3 = tf.keras.layers.BatchNormalization()\n",
        "        self.batch_layer4 = tf.keras.layers.BatchNormalization()\n",
        "        self.maxpooling_layer = tf.keras.layers.MaxPooling2D(pool_size=(3,3), strides=(2,2))\n",
        "        \n",
        "        self.conv2_layer = tf.keras.layers.Conv2D(filters=256, kernel_size=(5,5), strides=(1,1), padding=\"same\", kernel_regularizer=kernel_regular)\n",
        "        \n",
        "        self.conv3_layer = tf.keras.layers.Conv2D(filters=384, kernel_size=(3,3), strides=(1,1), padding=\"same\", kernel_regularizer=kernel_regular)\n",
        "        self.conv5_layer = tf.keras.layers.Conv2D(filters=384, kernel_size=(3,3), strides=(1,1), padding=\"same\", kernel_regularizer=kernel_regular)\n",
        "        \n",
        "        self.conv4_layer = tf.keras.layers.Conv2D(filters=256, kernel_size=(3,3), strides=(1,1), padding=\"same\", kernel_regularizer=kernel_regular)\n",
        "        \n",
        "        self.flatten_layer = tf.keras.layers.Flatten()\n",
        "        self.Dense_layer = tf.keras.layers.Dense(4096, activation=\"relu\")\n",
        "        self.Dense_layer1 = tf.keras.layers.Dense(4096, activation=\"relu\")\n",
        "        self.drop_out_layer = tf.keras.layers.Dropout(0.5)\n",
        "        self.output_layer = tf.keras.layers.Dense(n_classes, activation=\"softmax\")\n",
        "        \n",
        "        \n",
        "    def call(self, x):\n",
        "        input = tf.reshape(x,[-1,128,128,3])\n",
        "        x = self.conv_layer(input)\n",
        "        x = self.activation_layer(x)\n",
        "        x = self.batch_layer(x)\n",
        "        x = self.maxpooling_layer(x)\n",
        "        x = self.conv2_layer(x)\n",
        "        x = self.activation_layer(x)\n",
        "        x = self.batch_layer1(x)\n",
        "        x = self.maxpooling_layer(x)\n",
        "        x = self.conv3_layer(x)\n",
        "        x = self.activation_layer(x)\n",
        "        x = self.batch_layer2(x)\n",
        "        x = self.conv5_layer(x)\n",
        "        x = self.activation_layer(x)\n",
        "        x = self.batch_layer3(x)\n",
        "        x = self.conv4_layer(x)\n",
        "        x = self.activation_layer(x)\n",
        "        x = self.batch_layer4(x)\n",
        "        x = self.maxpooling_layer(x)\n",
        "        x = self.flatten_layer(x)\n",
        "        x = self.Dense_layer(x)\n",
        "        x = self.drop_out_layer(x)\n",
        "        x = self.Dense_layer1(x)\n",
        "        x = self.drop_out_layer(x)\n",
        "        x = self.output_layer(x)\n",
        "        return x\n",
        "\n",
        "model = Alexnet(tf.keras.regularizers.l2(l2=1e-4), 10)\n",
        "        \n",
        "        "
      ],
      "execution_count": null,
      "outputs": []
    },
    {
      "cell_type": "code",
      "metadata": {
        "execution": {
          "iopub.status.busy": "2021-12-03T13:10:40.701948Z",
          "iopub.execute_input": "2021-12-03T13:10:40.703939Z",
          "iopub.status.idle": "2021-12-03T13:10:41.824839Z",
          "shell.execute_reply.started": "2021-12-03T13:10:40.703899Z",
          "shell.execute_reply": "2021-12-03T13:10:41.824066Z"
        },
        "trusted": true,
        "id": "m0mhcMZccreb"
      },
      "source": [
        "from tensorflow.keras.datasets import cifar10\n",
        "\n",
        "# 전체 6만개 데이터 중, 5만개는 학습 데이터용, 1만개는 테스트 데이터용으로 분리\n",
        "(train_images, train_labels), (test_images, test_labels) = cifar10.load_data()\n",
        "print(\"train dataset shape:\", train_images.shape, train_labels.shape)\n",
        "print(\"test dataset shape:\", test_images.shape, test_labels.shape)"
      ],
      "execution_count": null,
      "outputs": []
    },
    {
      "cell_type": "code",
      "metadata": {
        "execution": {
          "iopub.status.busy": "2021-12-03T13:10:41.826582Z",
          "iopub.execute_input": "2021-12-03T13:10:41.827014Z",
          "iopub.status.idle": "2021-12-03T13:10:41.835852Z",
          "shell.execute_reply.started": "2021-12-03T13:10:41.826975Z",
          "shell.execute_reply": "2021-12-03T13:10:41.834887Z"
        },
        "trusted": true,
        "id": "ddr61Axccrec"
      },
      "source": [
        "from tensorflow.keras.utils import to_categorical\n",
        "train_labels.shape\n",
        "to_categorical(train_labels)"
      ],
      "execution_count": null,
      "outputs": []
    },
    {
      "cell_type": "code",
      "metadata": {
        "execution": {
          "iopub.status.busy": "2021-12-03T13:10:41.837423Z",
          "iopub.execute_input": "2021-12-03T13:10:41.837714Z",
          "iopub.status.idle": "2021-12-03T13:10:42.519638Z",
          "shell.execute_reply.started": "2021-12-03T13:10:41.837669Z",
          "shell.execute_reply": "2021-12-03T13:10:42.518901Z"
        },
        "trusted": true,
        "id": "hnxtpLWscrec"
      },
      "source": [
        "import tensorflow as tf\n",
        "import numpy as np\n",
        "import pandas as pd\n",
        "\n",
        "import random as python_random\n",
        "from tensorflow.keras.utils import to_categorical\n",
        "from sklearn.model_selection import train_test_split\n",
        "from tensorflow.keras.datasets import cifar10\n",
        "\n",
        "def zero_one_scaler(image):\n",
        "    return image/255.0\n",
        "\n",
        "def get_preprocessed_ohe(images, labels, pre_func=None):\n",
        "    # preprocessing 함수가 입력되면 이를 이용하여 image array를 scaling 적용.\n",
        "    if pre_func is not None:\n",
        "        images = pre_func(images)\n",
        "    # OHE 적용    \n",
        "    oh_labels = to_categorical(labels)\n",
        "    return images, oh_labels\n",
        "\n",
        "\n",
        "def get_train_valid_test_set(train_images, train_labels, test_images, test_labels, valid_size=0.15, random_state=2021):\n",
        "    train_images, train_oh_labels = get_preprocessed_ohe(train_images, train_labels)\n",
        "    test_images, test_oh_labels = get_preprocessed_ohe(test_images, test_labels)\n",
        "    \n",
        "\n",
        "    tr_images, val_images, tr_oh_labels, val_oh_labels = train_test_split(train_images, train_oh_labels, test_size=valid_size, random_state=random_state)\n",
        "    \n",
        "    return (tr_images, tr_oh_labels), (val_images, val_oh_labels), (test_images, test_oh_labels )\n",
        "\n",
        "(train_images, train_labels), (test_images, test_labels) = cifar10.load_data()\n",
        "print(train_images.shape, train_labels.shape, test_images.shape, test_labels.shape)\n",
        "(tr_images, tr_oh_labels), (val_images, val_oh_labels), (test_images, test_oh_labels) = \\\n",
        "    get_train_valid_test_set(train_images, train_labels, test_images, test_labels, valid_size=0.2, random_state=2021)\n",
        "\n",
        "print(tr_images.shape, tr_oh_labels.shape, val_images.shape, val_oh_labels.shape, test_images.shape, test_oh_labels.shape)"
      ],
      "execution_count": null,
      "outputs": []
    },
    {
      "cell_type": "markdown",
      "metadata": {
        "id": "qLvWLiPmcred"
      },
      "source": [
        "원본 이미지 크기를 증가시키는 Sequence Dataset생성"
      ]
    },
    {
      "cell_type": "code",
      "metadata": {
        "execution": {
          "iopub.status.busy": "2021-12-03T13:10:42.521753Z",
          "iopub.execute_input": "2021-12-03T13:10:42.522531Z",
          "iopub.status.idle": "2021-12-03T13:10:42.526547Z",
          "shell.execute_reply.started": "2021-12-03T13:10:42.522492Z",
          "shell.execute_reply": "2021-12-03T13:10:42.525866Z"
        },
        "trusted": true,
        "id": "IZKPRT-Dcree"
      },
      "source": [
        "IMAGE_SIZE = 128\n",
        "BATCH_SIZE = 64"
      ],
      "execution_count": null,
      "outputs": []
    },
    {
      "cell_type": "code",
      "metadata": {
        "execution": {
          "iopub.status.busy": "2021-12-03T13:10:42.527739Z",
          "iopub.execute_input": "2021-12-03T13:10:42.528502Z",
          "iopub.status.idle": "2021-12-03T13:10:42.536731Z",
          "shell.execute_reply.started": "2021-12-03T13:10:42.528463Z",
          "shell.execute_reply": "2021-12-03T13:10:42.535560Z"
        },
        "trusted": true,
        "id": "6uEdfC6qcref"
      },
      "source": [
        "from tensorflow.keras.utils import Sequence\n",
        "import cv2\n",
        "import sklearn"
      ],
      "execution_count": null,
      "outputs": []
    },
    {
      "cell_type": "code",
      "metadata": {
        "execution": {
          "iopub.status.busy": "2021-12-03T13:10:42.539019Z",
          "iopub.execute_input": "2021-12-03T13:10:42.539482Z",
          "iopub.status.idle": "2021-12-03T13:10:42.551712Z",
          "shell.execute_reply.started": "2021-12-03T13:10:42.539447Z",
          "shell.execute_reply": "2021-12-03T13:10:42.550918Z"
        },
        "trusted": true,
        "id": "RMWTPmvqcreg"
      },
      "source": [
        "class CIFAR_Dataset(Sequence):\n",
        "    def __init__(self, images_array, labels, batch_size=BATCH_SIZE, augmentor=None, shuffle=False, pre_func=None):\n",
        "        self.images_array = images_array\n",
        "        self.labels = labels\n",
        "        self.batch_size = batch_size\n",
        "        self.augmentor = augmentor\n",
        "        self.pre_func = pre_func\n",
        "        self.shuffle = shuffle\n",
        "        if self.shuffle:\n",
        "            pass\n",
        "    #batch size단위로 데이터를 몇번 가져와야하는지 입력해줌\n",
        "    def __len__(self):\n",
        "        return int(np.ceil(len(self.labels)/self.batch_size))\n",
        "    # 인자로 몇번째 batch 인지를 나타내는 index를 입력하면 해당 순서에 해당하는 batch_size 만큼의 데이타를 가공하여 반환\n",
        "    def __getitem__(self, index):\n",
        "        images_fetch = self.images_array[index*self.batch_size:(index+1)*self.batch_size]\n",
        "        if self.labels is not None:\n",
        "            label_batch = self.labels[index*self.batch_size:(index+1)*self.batch_size]\n",
        "        image_batch = np.zeros((images_fetch.shape[0],IMAGE_SIZE,IMAGE_SIZE,3), dtype=\"float32\")\n",
        "        for image_index in range(images_fetch.shape[0]):\n",
        "            image = cv2.resize(images_fetch[image_index],(IMAGE_SIZE,IMAGE_SIZE))\n",
        "            if self.augmentor is not None:\n",
        "                image = self.augmentor(image=image)['image']\n",
        "            if self.pre_func is not None:\n",
        "                image = self.pre_func(image)\n",
        "            image_batch[image_index] = image\n",
        "        return image_batch, label_batch\n",
        "    def on_epoch_end(self):\n",
        "        if(self.shuffle):\n",
        "            #print('epoch end')\n",
        "            # 원본 image배열과 label를 쌍을 맞춰서 섞어준다. scikt learn의 utils.shuffle에서 해당 기능 제공\n",
        "            self.images_array, self.labels = sklearn.utils.shuffle(self.images_array, self.labels)\n",
        "        else:\n",
        "            pass\n",
        "        \n",
        "        "
      ],
      "execution_count": null,
      "outputs": []
    },
    {
      "cell_type": "code",
      "metadata": {
        "execution": {
          "iopub.status.busy": "2021-12-03T13:10:42.553085Z",
          "iopub.execute_input": "2021-12-03T13:10:42.553333Z",
          "iopub.status.idle": "2021-12-03T13:10:42.588437Z",
          "shell.execute_reply.started": "2021-12-03T13:10:42.553300Z",
          "shell.execute_reply": "2021-12-03T13:10:42.587712Z"
        },
        "trusted": true,
        "id": "YdixYGXBcreg"
      },
      "source": [
        "def zero_one_scaler(image):\n",
        "    return image/255.0\n",
        "\n",
        "tr_ds = CIFAR_Dataset(tr_images, tr_oh_labels, batch_size=BATCH_SIZE, augmentor=None, shuffle=True, pre_func=zero_one_scaler)\n",
        "val_ds = CIFAR_Dataset(val_images, val_oh_labels, batch_size=BATCH_SIZE, augmentor=None, shuffle=False, pre_func=zero_one_scaler)\n",
        "\n",
        "print(next(iter(tr_ds))[0].shape, next(iter(val_ds))[0].shape)\n",
        "# print(next(iter(tr_ds))[1].shape, next(iter(val_ds))[1].shape)\n",
        "# print(next(iter(tr_ds))[0][0])"
      ],
      "execution_count": null,
      "outputs": []
    },
    {
      "cell_type": "code",
      "metadata": {
        "execution": {
          "iopub.status.busy": "2021-12-03T13:10:42.589789Z",
          "iopub.execute_input": "2021-12-03T13:10:42.590268Z",
          "iopub.status.idle": "2021-12-03T13:10:42.606291Z",
          "shell.execute_reply.started": "2021-12-03T13:10:42.590229Z",
          "shell.execute_reply": "2021-12-03T13:10:42.605539Z"
        },
        "trusted": true,
        "id": "iuQ1qFMycreh"
      },
      "source": [
        "next(iter(tr_ds))[0].shape"
      ],
      "execution_count": null,
      "outputs": []
    },
    {
      "cell_type": "code",
      "metadata": {
        "execution": {
          "iopub.status.busy": "2021-12-03T13:10:42.607608Z",
          "iopub.execute_input": "2021-12-03T13:10:42.608115Z",
          "iopub.status.idle": "2021-12-03T13:10:42.627613Z",
          "shell.execute_reply.started": "2021-12-03T13:10:42.608059Z",
          "shell.execute_reply": "2021-12-03T13:10:42.626859Z"
        },
        "trusted": true,
        "id": "kP9zNzepcreh"
      },
      "source": [
        "tf.reshape(next(iter(tr_ds))[0],[-1,128,128,3]).shape"
      ],
      "execution_count": null,
      "outputs": []
    },
    {
      "cell_type": "code",
      "metadata": {
        "execution": {
          "iopub.status.busy": "2021-12-03T13:10:42.629987Z",
          "iopub.execute_input": "2021-12-03T13:10:42.630484Z",
          "iopub.status.idle": "2021-12-03T13:17:19.486184Z",
          "shell.execute_reply.started": "2021-12-03T13:10:42.630444Z",
          "shell.execute_reply": "2021-12-03T13:17:19.485455Z"
        },
        "trusted": true,
        "id": "ZK0hJ4Lqcrei"
      },
      "source": [
        "from tensorflow.keras.optimizers import Adam , RMSprop \n",
        "from tensorflow.keras.callbacks import ReduceLROnPlateau, EarlyStopping, ModelCheckpoint\n",
        "model.compile(optimizer=Adam(lr=0.001), loss=\"categorical_crossentropy\", metrics=[\"accuracy\"])\n",
        "\n",
        "rlr_cb = ReduceLROnPlateau(monitor=\"val_loss\", factor=0.2, patience=5, mode=\"min\", verbose=1)\n",
        "ely_cb = EarlyStopping(monitor=\"val_loss\", patience=10, mode=\"min\", verbose=1)\n",
        "\n",
        "history = model.fit(tr_ds, epochs=30,validation_data=val_ds, callbacks=[rlr_cb, ely_cb])"
      ],
      "execution_count": null,
      "outputs": []
    },
    {
      "cell_type": "code",
      "metadata": {
        "execution": {
          "iopub.status.busy": "2021-12-03T13:17:23.414696Z",
          "iopub.execute_input": "2021-12-03T13:17:23.415154Z",
          "iopub.status.idle": "2021-12-03T13:17:26.269647Z",
          "shell.execute_reply.started": "2021-12-03T13:17:23.415116Z",
          "shell.execute_reply": "2021-12-03T13:17:26.268898Z"
        },
        "trusted": true,
        "id": "iELZXo3Ccrei"
      },
      "source": [
        "test_ds = CIFAR_Dataset(test_images, test_oh_labels, batch_size=BATCH_SIZE, augmentor=None, shuffle=False, pre_func=zero_one_scaler)\n",
        "model.evaluate(test_ds)"
      ],
      "execution_count": null,
      "outputs": []
    },
    {
      "cell_type": "code",
      "metadata": {
        "id": "zgRDJHCQcrei"
      },
      "source": [
        ""
      ],
      "execution_count": null,
      "outputs": []
    },
    {
      "cell_type": "code",
      "metadata": {
        "id": "UA8qHxOGcrei"
      },
      "source": [
        ""
      ],
      "execution_count": null,
      "outputs": []
    }
  ]
}