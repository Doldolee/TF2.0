{
  "nbformat": 4,
  "nbformat_minor": 0,
  "metadata": {
    "colab": {
      "name": "basic_DL.ipynb",
      "provenance": [],
      "authorship_tag": "ABX9TyMoh5bUVMYcWJvni/BQKVJ/",
      "include_colab_link": true
    },
    "kernelspec": {
      "name": "python3",
      "display_name": "Python 3"
    },
    "language_info": {
      "name": "python"
    },
    "accelerator": "GPU"
  },
  "cells": [
    {
      "cell_type": "markdown",
      "metadata": {
        "id": "view-in-github",
        "colab_type": "text"
      },
      "source": [
        "<a href=\"https://colab.research.google.com/github/Doldolee/TF2.0/blob/main/basic_ML2DL.ipynb\" target=\"_parent\"><img src=\"https://colab.research.google.com/assets/colab-badge.svg\" alt=\"Open In Colab\"/></a>"
      ]
    },
    {
      "cell_type": "code",
      "execution_count": null,
      "metadata": {
        "id": "rHia7THFgwXK"
      },
      "outputs": [],
      "source": [
        "import tensorflow as tf\n",
        "x_data = [1,2,3,4,5]\n",
        "y_data = [1,2,3,4,5]\n",
        "\n",
        "W = tf.Variable(2.9)\n",
        "b = tf.Variable(0.5)\n",
        "\n",
        "hs = W*x_data + b\n",
        "\n",
        "cost = tf.reduce_mean(tf.square(hs - y_data))\n",
        "\n"
      ]
    },
    {
      "cell_type": "markdown",
      "source": [
        "#### Gradient descent\n",
        "minimize cost(W,b)"
      ],
      "metadata": {
        "id": "L5lo3xPohkqt"
      }
    },
    {
      "cell_type": "markdown",
      "source": [
        "A.assign_sub(B)\n",
        "\n",
        "A -=B"
      ],
      "metadata": {
        "id": "9zUlf0yCjryq"
      }
    },
    {
      "cell_type": "code",
      "source": [
        "import numpy as np\n",
        "# gradient값을 얼마나 반영시킬 것인지를 결정\n",
        "learning_rate = 0.01 \n",
        "\n",
        "for i in range(100):\n",
        "  with tf.GradientTape() as tape:\n",
        "    hs = W*x_data + b\n",
        "    cost=tf.reduce_mean(tf.square(hs-y_data))\n",
        "\n",
        "  W_grad , b_grad = tape.gradient(cost, [W,b])\n",
        "\n",
        "  W.assign_sub(learning_rate * W_grad)\n",
        "  b.assign_sub(learning_rate * b_grad)\n",
        "  if i % 10 ==0:\n",
        "    print(\"{:5}|{:10.4f}|{:10.4f}|{:10.6f}\".format(i, W.numpy(), b.numpy(), cost))\n",
        "\n",
        "\n"
      ],
      "metadata": {
        "colab": {
          "base_uri": "https://localhost:8080/"
        },
        "id": "YJed5sHkhkG4",
        "outputId": "449b026d-8db0-4328-acb4-4b2d8b1d27dc"
      },
      "execution_count": null,
      "outputs": [
        {
          "output_type": "stream",
          "name": "stdout",
          "text": [
            "    0|    2.4520|    0.3760| 45.660004\n",
            "   10|    1.1036|    0.0034|  0.206336\n",
            "   20|    1.0128|   -0.0209|  0.001026\n",
            "   30|    1.0065|   -0.0218|  0.000093\n",
            "   40|    1.0059|   -0.0212|  0.000083\n",
            "   50|    1.0057|   -0.0205|  0.000077\n",
            "   60|    1.0055|   -0.0198|  0.000072\n",
            "   70|    1.0053|   -0.0192|  0.000067\n",
            "   80|    1.0051|   -0.0185|  0.000063\n",
            "   90|    1.0050|   -0.0179|  0.000059\n"
          ]
        }
      ]
    },
    {
      "cell_type": "code",
      "source": [
        "import matplotlib.pyplot as plt\n",
        "\n",
        "plt.plot(x_data, y_data ,\"o\")\n",
        "plt.plot(x_data, hs.numpy())"
      ],
      "metadata": {
        "colab": {
          "base_uri": "https://localhost:8080/",
          "height": 284
        },
        "id": "hZaPlQZ_kYVn",
        "outputId": "1ec6125c-e9f3-48db-8b89-79ae861ec142"
      },
      "execution_count": null,
      "outputs": [
        {
          "output_type": "execute_result",
          "data": {
            "text/plain": [
              "[<matplotlib.lines.Line2D at 0x7ff3c004c0d0>]"
            ]
          },
          "metadata": {},
          "execution_count": 11
        },
        {
          "output_type": "display_data",
          "data": {
            "image/png": "[encoded data removed]",
            "text/plain": [
              "<Figure size 432x288 with 1 Axes>"
            ]
          },
          "metadata": {
            "needs_background": "light"
          }
        }
      ]
    },
    {
      "cell_type": "code",
      "source": [
        "print(W.numpy())"
      ],
      "metadata": {
        "colab": {
          "base_uri": "https://localhost:8080/"
        },
        "id": "SY3vfgGUluSS",
        "outputId": "7478e91a-1dff-497e-b04e-cd3803d3dc6e"
      },
      "execution_count": null,
      "outputs": [
        {
          "output_type": "stream",
          "name": "stdout",
          "text": [
            "1.0048164\n"
          ]
        }
      ]
    },
    {
      "cell_type": "markdown",
      "source": [
        "cost 함수"
      ],
      "metadata": {
        "id": "i1n0xcf37iiQ"
      }
    },
    {
      "cell_type": "code",
      "source": [
        "import numpy as np\n",
        "import tensorflow as tf\n",
        "import matplotlib.pyplot as plt\n",
        "\n",
        "x=np.array([1,2,3])\n",
        "y=np.array([1,2,3])\n",
        "\n",
        "def cost_func(w, x,y):\n",
        "\n",
        "  return tf.reduce_mean(tf.square(w*x-y))\n",
        "\n",
        "cost_values = []\n",
        "for i in np.linspace(-3,5,num=15):\n",
        "  curr_cost = cost_func(i,x,y)\n",
        "  cost_values.append(curr_cost)\n",
        "\n",
        "plt.plot(np.linspace(-3,5,num=15), cost_values)"
      ],
      "metadata": {
        "colab": {
          "base_uri": "https://localhost:8080/",
          "height": 284
        },
        "id": "M4pab7kcmIGH",
        "outputId": "250a1487-673f-434d-b3a4-f4b7bd4a89fb"
      },
      "execution_count": null,
      "outputs": [
        {
          "output_type": "execute_result",
          "data": {
            "text/plain": [
              "[<matplotlib.lines.Line2D at 0x7ffa401ac810>]"
            ]
          },
          "metadata": {},
          "execution_count": 6
        },
        {
          "output_type": "display_data",
          "data": {
            "image/png": "[encoded data removed]",
            "text/plain": [
              "<Figure size 432x288 with 1 Axes>"
            ]
          },
          "metadata": {
            "needs_background": "light"
          }
        }
      ]
    },
    {
      "cell_type": "markdown",
      "source": [
        "Gradient descent\n",
        "\n",
        "![image.png](data:image/png;base64,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)"
      ],
      "metadata": {
        "id": "DeQodEcg7wzr"
      }
    },
    {
      "cell_type": "code",
      "source": [
        "w=tf.Variable(tf.random.normal((1,), -100.,100.))\n",
        "print(w)"
      ],
      "metadata": {
        "colab": {
          "base_uri": "https://localhost:8080/"
        },
        "id": "Mco_D2Q_8_1x",
        "outputId": "a9478c9c-0224-41e6-f631-5d2247891fe9"
      },
      "execution_count": null,
      "outputs": [
        {
          "output_type": "stream",
          "name": "stdout",
          "text": [
            "<tf.Variable 'Variable:0' shape=(1,) dtype=float32, numpy=array([-129.26414], dtype=float32)>\n"
          ]
        }
      ]
    },
    {
      "cell_type": "code",
      "source": [
        "alpha = 0.01\n",
        "gradient = tf.reduce_mean(tf.multiply(tf.multiply(w,x)-y,x))\n",
        "descent = w - tf.multiply(alpha, gradient)\n",
        "w.assign(descent)"
      ],
      "metadata": {
        "colab": {
          "base_uri": "https://localhost:8080/"
        },
        "id": "vVJxIk1S7OBS",
        "outputId": "7c73924c-fb22-4284-9ca2-6e2d64a2613a"
      },
      "execution_count": null,
      "outputs": [
        {
          "output_type": "execute_result",
          "data": {
            "text/plain": [
              "<tf.Variable 'UnreadVariable' shape=(1,) dtype=float32, numpy=array([-123.18515], dtype=float32)>"
            ]
          },
          "metadata": {},
          "execution_count": 15
        }
      ]
    },
    {
      "cell_type": "code",
      "source": [
        "for step in range(100):\n",
        "  cost = tf.reduce_mean(tf.square(w*x-y))\n",
        "\n",
        "  gradient = tf.reduce_mean(tf.multiply(tf.multiply(w,x)-y,x))\n",
        "  descent = w - tf.multiply(alpha, gradient)\n",
        "  w.assign(descent)\n",
        "  if step%10==0:\n",
        "    print(step, cost.numpy())"
      ],
      "metadata": {
        "colab": {
          "base_uri": "https://localhost:8080/"
        },
        "id": "V9QU28nM8q7R",
        "outputId": "1e1e8198-8d46-4ad2-8611-a5414638a87d"
      },
      "execution_count": null,
      "outputs": [
        {
          "output_type": "stream",
          "name": "stdout",
          "text": [
            "0 5.082785\n",
            "10 1.9543276\n",
            "20 0.7514375\n",
            "30 0.28892717\n",
            "40 0.11109217\n",
            "50 0.042714864\n",
            "60 0.016423812\n",
            "70 0.006314957\n",
            "80 0.002428111\n",
            "90 0.00093360356\n"
          ]
        }
      ]
    },
    {
      "cell_type": "markdown",
      "source": [
        "multi feature linear regression"
      ],
      "metadata": {
        "id": "95OnShIe_UST"
      }
    },
    {
      "cell_type": "code",
      "source": [
        "learning_rate=0.001\n",
        "x1_data = [1, 0, 3, 0, 5]\n",
        "x2_data = [0, 2, 0, 4, 0]\n",
        "y_data  = [1, 2, 3, 4, 5]\n",
        "\n",
        "w1 = tf.Variable(tf.random.uniform((1,), -10.0, 10.0))\n",
        "w2 = tf.Variable(tf.random.uniform((1,), -10.0, 10.0))\n",
        "b = tf.Variable(tf.random.uniform((1,), -10.0, 10.0))\n",
        "\n",
        "for i in range(100):\n",
        "  with tf.GradientTape() as tape:\n",
        "    hs = w1*x1_data + w2*x2_data + b\n",
        "    cost = tf.reduce_mean(tf.square(hs-y_data))\n",
        "  w1_grad, w2_grad, b_grad = tape.gradient(cost, [w1,w2,b])\n",
        "  w1.assign_sub(learning_rate * w1_grad)\n",
        "  w2.assign_sub(learning_rate * w2_grad)\n",
        "  b.assign_sub(learning_rate * b_grad)\n",
        "\n",
        "  if i% 50==0:\n",
        "    print(i, cost.numpy())"
      ],
      "metadata": {
        "colab": {
          "base_uri": "https://localhost:8080/"
        },
        "id": "Ph6wnfV49-Mj",
        "outputId": "9256059a-c010-4103-953f-a2a59a9b6096"
      },
      "execution_count": null,
      "outputs": [
        {
          "output_type": "stream",
          "name": "stdout",
          "text": [
            "0 876.92413\n",
            "50 283.01013\n"
          ]
        }
      ]
    },
    {
      "cell_type": "code",
      "source": [
        "tf.random.set_seed(0) \n",
        "data = np.array([\n",
        "    # X1,   X2,    X3,   y\n",
        "    [ 73.,  80.,  75., 152. ],\n",
        "    [ 93.,  88.,  93., 185. ],\n",
        "    [ 89.,  91.,  90., 180. ],\n",
        "    [ 96.,  98., 100., 196. ],\n",
        "    [ 73.,  66.,  70., 142. ]\n",
        "], dtype=np.float32)\n",
        "\n",
        "x = data[:, :-1]\n",
        "y = data[:,[-1]]\n",
        "\n",
        "w = tf.Variable(tf.random.normal((3,1)))\n",
        "b = tf.Variable(tf.random.normal((1,)))\n",
        "\n",
        "learning_rate = 0.000001\n",
        "\n",
        "def predict(x):\n",
        "  return tf.matmul(x,w) + b\n",
        "\n",
        "for i in range(2000):\n",
        "  with tf.GradientTape() as tape:\n",
        "    cost = tf.reduce_mean((tf.square(predict(x)-y)))\n",
        "  w_grad, b_grad = tape.gradient(cost, [w,b])\n",
        "\n",
        "  w.assign_sub(learning_rate * w_grad)\n",
        "  b.assign_sub(learning_rate * b_grad)\n",
        "\n",
        "  if i%100==0:\n",
        "    print(i, cost.numpy())"
      ],
      "metadata": {
        "colab": {
          "base_uri": "https://localhost:8080/"
        },
        "id": "RBKIxgxPCaFh",
        "outputId": "59330756-caee-4498-e198-dc209b8cde48"
      },
      "execution_count": null,
      "outputs": [
        {
          "output_type": "stream",
          "name": "stdout",
          "text": [
            "0 1798.2893\n",
            "100 2.2888284\n",
            "200 2.063193\n",
            "300 2.0586975\n",
            "400 2.0542264\n",
            "500 2.0497966\n",
            "600 2.045343\n",
            "700 2.0409389\n",
            "800 2.03655\n",
            "900 2.0322158\n",
            "1000 2.0278895\n",
            "1100 2.0236201\n",
            "1200 2.0193684\n",
            "1300 2.0150952\n",
            "1400 2.0108483\n",
            "1500 2.0066197\n",
            "1600 2.0024133\n",
            "1700 1.9982364\n",
            "1800 1.9940227\n",
            "1900 1.9898555\n"
          ]
        }
      ]
    },
    {
      "cell_type": "markdown",
      "source": [
        "logistic regression"
      ],
      "metadata": {
        "id": "NzGvRjWzOAYB"
      }
    },
    {
      "cell_type": "code",
      "source": [
        "import numpy as np\n",
        "import matplotlib.pyplot as plt\n",
        "import tensorflow as tf\n",
        "\n",
        "x_train = [[1.,2.],[2.,3.],[3.,1.],[4.,3.],[5.,3.],[6.,2.]]\n",
        "y_train = [[0.],[0.],[0.],[1.],[1.],[1.]]\n",
        "\n",
        "x_test = [[5.,2.]]\n",
        "y_test = [[1.]]\n",
        "\n",
        "x1 = [x[0] for x in x_train]\n",
        "x2 = [x[1] for x in x_train]\n",
        "\n",
        "colors = [int(y[0] % 3) for y in y_train]\n",
        "plt.scatter(x1,x2, c = colors, marker=\"^\")\n",
        "\n",
        "plt.scatter(x_test[0][0], x_test[0][1], c=\"red\")\n",
        "\n",
        "\n"
      ],
      "metadata": {
        "colab": {
          "base_uri": "https://localhost:8080/",
          "height": 284
        },
        "id": "m-JEz68VFLDh",
        "outputId": "27f4cb51-5726-41fd-c963-a5b49411522e"
      },
      "execution_count": null,
      "outputs": [
        {
          "output_type": "execute_result",
          "data": {
            "text/plain": [
              "<matplotlib.collections.PathCollection at 0x7fed88531bd0>"
            ]
          },
          "metadata": {},
          "execution_count": 1
        },
        {
          "output_type": "display_data",
          "data": {
            "image/png": "[encoded data removed]",
            "text/plain": [
              "<Figure size 432x288 with 1 Axes>"
            ]
          },
          "metadata": {
            "needs_background": "light"
          }
        }
      ]
    },
    {
      "cell_type": "code",
      "source": [
        "dataset = tf.data.Dataset.from_tensor_slices((x_train, y_train))\n",
        "print(dataset)"
      ],
      "metadata": {
        "colab": {
          "base_uri": "https://localhost:8080/"
        },
        "id": "hsxCVKwaNpPk",
        "outputId": "7415da24-ed87-40fb-a370-40fff1d1b2f7"
      },
      "execution_count": null,
      "outputs": [
        {
          "output_type": "stream",
          "name": "stdout",
          "text": [
            "<TensorSliceDataset shapes: ((2,), (1,)), types: (tf.float32, tf.float32)>\n"
          ]
        }
      ]
    },
    {
      "cell_type": "code",
      "source": [
        "w = tf.Variable(tf.zeros((2,1)), name='weight')\n",
        "b = tf.Variable(tf.zeros((1,)), name=\"bias\")\n",
        "\n",
        "def logistic_regression(features):\n",
        "  hs = tf.divide(1.,1. + tf.exp(-tf.matmul(features, w) + b))\n",
        "  return hs\n",
        "\n",
        "def loss_fn(hs, labels):\n",
        "  cost = -tf.reduce_mean(labels * tf.math.log(hs) + (1-labels) * tf.math.log(1-hs))\n",
        "  return cost\n",
        "\n",
        "optimizer = tf.keras.optimizers.SGD(learning_rate=0.01)\n",
        "\n",
        "def accuracy_fn(hs, labels):\n",
        "  predicted = tf.cast(hs > 0.5, dtype=tf.float32)\n",
        "  accuracy = tf.reduce_mean(tf.cast(tf.equal(predicted, labels),  dtype = tf.float32))\n",
        "  return accuracy\n",
        "\n",
        "def grad(features, labels):\n",
        "  with tf.GradientTape() as tape:\n",
        "    hs = logistic_regression(features)\n",
        "    loss_values = loss_fn(hs, labels)\n",
        "  return tape.gradient(loss_values, [w,b])\n",
        "\n",
        "for i in range(1001):\n",
        "  for features, labels in iter(dataset.batch(len(x_train))):\n",
        "    hs = logistic_regression(features)\n",
        "    grads = grad(features, labels)\n",
        "    optimizer.apply_gradients(grads_and_vars=zip(grads, [w,b]))\n",
        "    if i % 100 ==0:\n",
        "      print( i, loss_fn(hs, labels))\n",
        "\n",
        "\n",
        "\n",
        "  "
      ],
      "metadata": {
        "id": "cZXAMrKIOobr",
        "colab": {
          "base_uri": "https://localhost:8080/"
        },
        "outputId": "ab8a253e-0180-4ec2-f942-be77ed413b33"
      },
      "execution_count": null,
      "outputs": [
        {
          "output_type": "stream",
          "name": "stdout",
          "text": [
            "0 tf.Tensor(0.6931472, shape=(), dtype=float32)\n",
            "100 tf.Tensor(0.5780855, shape=(), dtype=float32)\n",
            "200 tf.Tensor(0.53520733, shape=(), dtype=float32)\n",
            "300 tf.Tensor(0.50564724, shape=(), dtype=float32)\n",
            "400 tf.Tensor(0.4840239, shape=(), dtype=float32)\n",
            "500 tf.Tensor(0.46728837, shape=(), dtype=float32)\n",
            "600 tf.Tensor(0.45367432, shape=(), dtype=float32)\n",
            "700 tf.Tensor(0.44212702, shape=(), dtype=float32)\n",
            "800 tf.Tensor(0.43199757, shape=(), dtype=float32)\n",
            "900 tf.Tensor(0.42287433, shape=(), dtype=float32)\n",
            "1000 tf.Tensor(0.4144899, shape=(), dtype=float32)\n"
          ]
        }
      ]
    },
    {
      "cell_type": "markdown",
      "source": [
        "softmax classifier"
      ],
      "metadata": {
        "id": "kERDSWFD2tix"
      }
    },
    {
      "cell_type": "code",
      "source": [
        "x_data = [[1, 2, 1, 1],\n",
        "          [2, 1, 3, 2],\n",
        "          [3, 1, 3, 4],\n",
        "          [4, 1, 5, 5],\n",
        "          [1, 7, 5, 5],\n",
        "          [1, 2, 5, 6],\n",
        "          [1, 6, 6, 6],\n",
        "          [1, 7, 7, 7]]\n",
        "y_data = [[0, 0, 1],\n",
        "          [0, 0, 1],\n",
        "          [0, 0, 1],\n",
        "          [0, 1, 0],\n",
        "          [0, 1, 0],\n",
        "          [0, 1, 0],\n",
        "          [1, 0, 0],\n",
        "          [1, 0, 0]]\n",
        "\n",
        "#convert into numpy and float format\n",
        "x_data = np.asarray(x_data, dtype=np.float32)\n",
        "y_data = np.asarray(y_data, dtype=np.float32)"
      ],
      "metadata": {
        "id": "p6EiEqgLPXVn"
      },
      "execution_count": null,
      "outputs": []
    },
    {
      "cell_type": "code",
      "source": [
        "nb_classes = 3 #class의 개수입니다.\n",
        "\n",
        "print(x_data.shape)\n",
        "print(y_data.shape)"
      ],
      "metadata": {
        "colab": {
          "base_uri": "https://localhost:8080/"
        },
        "id": "fh_TUU-I2vWe",
        "outputId": "8fde0381-ba2f-4416-db1a-b5d9802f52b5"
      },
      "execution_count": null,
      "outputs": [
        {
          "output_type": "stream",
          "name": "stdout",
          "text": [
            "(8, 4)\n",
            "(8, 3)\n"
          ]
        }
      ]
    },
    {
      "cell_type": "code",
      "source": [
        "class softmax_classifier(tf.keras.Model):\n",
        "  def __init__(self, nb_classes):\n",
        "    super(softmax_classifier, self).__init__()\n",
        "    self.w = tf.Variable(tf.random.normal((4,nb_classes)), name='weight')\n",
        "    self.b = tf.Variable(tf.random.normal((nb_classes,)), name='bias')\n",
        "\n",
        "  def softmax_regression(self, x):\n",
        "    return tf.nn.softmax(tf.matmul(x,self.w)+self.b)\n",
        "  def cost_fn(self, x,y):\n",
        "    logits = self.softmax_regression(x)\n",
        "    cost = tf.reduce_mean(-tf.reduce_sum(y*tf.math.log(logits), axis=1))\n",
        "    return cost\n",
        "\n",
        "  def grad_fn(self, x,y):\n",
        "    with tf.GradientTape() as tape:\n",
        "      cost = self.cost_fn(x_data, y_data)\n",
        "    return tape.gradient(cost, self.variables)\n",
        "\n",
        "  def fit(self, x,y, epochs=2000, verbose=500):\n",
        "    optimizer = tf.keras.optimizers.SGD(learning_rate=0.1)\n",
        "\n",
        "    for i in range(epochs):\n",
        "      grads = self.grad_fn(x,y)\n",
        "      optimizer.apply_gradients(zip(grads, self.variables))\n",
        "      if (i==0) | ((i+1)%verbose==0):\n",
        "        print(i+1, self.cost_fn(x,y))\n",
        "\n",
        "model = softmax_classifier(nb_classes)\n",
        "model.fit(x_data, y_data)"
      ],
      "metadata": {
        "colab": {
          "base_uri": "https://localhost:8080/"
        },
        "id": "MMxfc8sL2wx-",
        "outputId": "7bc28c75-0ba1-4bbc-f0b9-9275a0db0d21"
      },
      "execution_count": null,
      "outputs": [
        {
          "output_type": "stream",
          "name": "stdout",
          "text": [
            "1 tf.Tensor(1.8885454, shape=(), dtype=float32)\n",
            "500 tf.Tensor(0.4410292, shape=(), dtype=float32)\n",
            "1000 tf.Tensor(0.23945999, shape=(), dtype=float32)\n",
            "1500 tf.Tensor(0.18921222, shape=(), dtype=float32)\n",
            "2000 tf.Tensor(0.1560109, shape=(), dtype=float32)\n"
          ]
        }
      ]
    },
    {
      "cell_type": "markdown",
      "source": [
        "RNN"
      ],
      "metadata": {
        "id": "Qxn8_GUSKLl-"
      }
    },
    {
      "cell_type": "code",
      "source": [
        "import numpy as np\n",
        "import tensorflow as tf\n",
        "\n",
        "h = [1,0,0,0]\n",
        "e = [0,1,0,0]\n",
        "l = [0,0,1,0]\n",
        "o = [0,0,0,1]"
      ],
      "metadata": {
        "id": "Ltt4fNqO5MIP"
      },
      "execution_count": null,
      "outputs": []
    },
    {
      "cell_type": "markdown",
      "source": [
        "#### input이 단어 'h' 한개 일 때"
      ],
      "metadata": {
        "id": "jj4c-LV2xFwu"
      }
    },
    {
      "cell_type": "code",
      "source": [
        "x_data = np.array([[h]], dtype=np.float32)\n",
        "#RNN의 input은 (batch, sequence_length, input_dimension)으로 입력되어야한다.\n",
        "print(x_data.shape)"
      ],
      "metadata": {
        "colab": {
          "base_uri": "https://localhost:8080/"
        },
        "id": "-SsnvCaHvavc",
        "outputId": "7d8a1c69-ac52-474d-be58-6ea5bf57da8e"
      },
      "execution_count": null,
      "outputs": [
        {
          "output_type": "stream",
          "name": "stdout",
          "text": [
            "(1, 1, 4)\n"
          ]
        }
      ]
    },
    {
      "cell_type": "code",
      "source": [
        "hidden_size = 2\n",
        "cell = tf.keras.layers.SimpleRNNCell(units=hidden_size)\n",
        "rnn = tf.keras.layers.RNN(cell, return_sequences=True, return_state=True)\n",
        "# outputs이 hidden layer의 결과고 states는 마지막 hidden layer의 output이다.\n",
        "outputs, states = rnn(x_data)\n",
        "\n",
        "# 1개의 input만 입력되었기 때문에 outputs와 states가 동일하다. \n",
        "print(x_data, x_data.shape)\n",
        "print(outputs, outputs.shape)\n",
        "print(states, states.shape)"
      ],
      "metadata": {
        "colab": {
          "base_uri": "https://localhost:8080/"
        },
        "id": "li3MGGBwviXJ",
        "outputId": "1ec9c9d9-4106-4925-89f1-10a3148fe3ea"
      },
      "execution_count": null,
      "outputs": [
        {
          "output_type": "stream",
          "name": "stdout",
          "text": [
            "[[[1. 0. 0. 0.]]] (1, 1, 4)\n",
            "tf.Tensor([[[-0.29737744 -0.19311395]]], shape=(1, 1, 2), dtype=float32) (1, 1, 2)\n",
            "tf.Tensor([[-0.29737744 -0.19311395]], shape=(1, 2), dtype=float32) (1, 2)\n"
          ]
        }
      ]
    },
    {
      "cell_type": "markdown",
      "source": [
        "#### input이 단어 hello 일 때"
      ],
      "metadata": {
        "id": "CvXjGu7oxLW_"
      }
    },
    {
      "cell_type": "code",
      "source": [
        "x_data = np.array([[h,e,l,l,o]], dtype=np.float32)\n",
        "print(x_data.shape)"
      ],
      "metadata": {
        "colab": {
          "base_uri": "https://localhost:8080/"
        },
        "id": "heGZ1iBvwuHC",
        "outputId": "10a7f5fa-6ff6-4c9d-eb63-f30bb844826e"
      },
      "execution_count": null,
      "outputs": [
        {
          "output_type": "stream",
          "name": "stdout",
          "text": [
            "(1, 5, 4)\n"
          ]
        }
      ]
    },
    {
      "cell_type": "code",
      "source": [
        "hidden_size = 2\n",
        "rnn = tf.keras.layers.SimpleRNN(units=2, return_sequences=True, return_state = True)\n",
        "outputs, states = rnn(x_data)\n",
        "\n",
        "#outputs는 모든 hidden cell의 output을 보여주므로 states는 outputs의 마지막 벡터와 값이 동일하다. \n",
        "print(x_data, x_data.shape)\n",
        "print(outputs, outputs.shape)\n",
        "print(states, states.shape)\n"
      ],
      "metadata": {
        "colab": {
          "base_uri": "https://localhost:8080/"
        },
        "id": "pzp61DytxgNn",
        "outputId": "c0482e9f-9e32-461f-ee8d-a979736a839b"
      },
      "execution_count": null,
      "outputs": [
        {
          "output_type": "stream",
          "name": "stdout",
          "text": [
            "[[[1. 0. 0. 0.]\n",
            "  [0. 1. 0. 0.]\n",
            "  [0. 0. 1. 0.]\n",
            "  [0. 0. 1. 0.]\n",
            "  [0. 0. 0. 1.]]] (1, 5, 4)\n",
            "tf.Tensor(\n",
            "[[[-0.7329436  -0.68579066]\n",
            "  [-0.5497672   0.907627  ]\n",
            "  [ 0.698694    0.696796  ]\n",
            "  [ 0.5870644  -0.37180504]\n",
            "  [ 0.00493922 -0.58213645]]], shape=(1, 5, 2), dtype=float32) (1, 5, 2)\n",
            "tf.Tensor([[ 0.00493922 -0.58213645]], shape=(1, 2), dtype=float32) (1, 2)\n"
          ]
        }
      ]
    },
    {
      "cell_type": "markdown",
      "source": [
        "#### input이 여러개의 단어 일 때"
      ],
      "metadata": {
        "id": "OcTGU1TP0qrV"
      }
    },
    {
      "cell_type": "code",
      "source": [
        "x_data = np.array([[h,e,l,l,o],[e,o,l,l,l],[l,l,e,e,l]], dtype=np.float32)\n",
        "\n",
        "hidden_size = 2\n",
        "rnn = tf.keras.layers.SimpleRNN(units=2, return_sequences=True, return_state=True)\n",
        "outputs, states = rnn(x_data)\n",
        "\n",
        "print(x_data, x_data.shape)\n",
        "print(outputs, outputs.shape)\n",
        "print(states, states.shape)\n",
        "\n"
      ],
      "metadata": {
        "colab": {
          "base_uri": "https://localhost:8080/"
        },
        "id": "o3EfZ5Hl0NFn",
        "outputId": "df135e3d-190f-41aa-bb03-7bf46b41db51"
      },
      "execution_count": null,
      "outputs": [
        {
          "output_type": "stream",
          "name": "stdout",
          "text": [
            "[[[1. 0. 0. 0.]\n",
            "  [0. 1. 0. 0.]\n",
            "  [0. 0. 1. 0.]\n",
            "  [0. 0. 1. 0.]\n",
            "  [0. 0. 0. 1.]]\n",
            "\n",
            " [[0. 1. 0. 0.]\n",
            "  [0. 0. 0. 1.]\n",
            "  [0. 0. 1. 0.]\n",
            "  [0. 0. 1. 0.]\n",
            "  [0. 0. 1. 0.]]\n",
            "\n",
            " [[0. 0. 1. 0.]\n",
            "  [0. 0. 1. 0.]\n",
            "  [0. 1. 0. 0.]\n",
            "  [0. 1. 0. 0.]\n",
            "  [0. 0. 1. 0.]]] (3, 5, 4)\n",
            "tf.Tensor(\n",
            "[[[ 0.36934242 -0.76016134]\n",
            "  [-0.54908    -0.08204686]\n",
            "  [ 0.8251146  -0.41589382]\n",
            "  [ 0.1910082  -0.8982295 ]\n",
            "  [-0.9435516  -0.13493468]]\n",
            "\n",
            " [[ 0.22198638 -0.14394787]\n",
            "  [-0.8120224  -0.49421537]\n",
            "  [ 0.73907834 -0.00825011]\n",
            "  [ 0.5292089  -0.9206789 ]\n",
            "  [-0.09403071 -0.7413489 ]]\n",
            "\n",
            " [[ 0.7476548  -0.7436746 ]\n",
            "  [-0.05102217 -0.84295   ]\n",
            "  [-0.4441389   0.312033  ]\n",
            "  [ 0.6161152   0.08201732]\n",
            "  [ 0.6223813  -0.91085565]]], shape=(3, 5, 2), dtype=float32) (3, 5, 2)\n",
            "tf.Tensor(\n",
            "[[-0.9435516  -0.13493468]\n",
            " [-0.09403071 -0.7413489 ]\n",
            " [ 0.6223813  -0.91085565]], shape=(3, 2), dtype=float32) (3, 2)\n"
          ]
        }
      ]
    },
    {
      "cell_type": "markdown",
      "source": [
        "#### many to one"
      ],
      "metadata": {
        "id": "Srz9cgu51Tso"
      }
    },
    {
      "cell_type": "code",
      "source": [
        "import tensorflow as tf\n",
        "import numpy as np\n",
        "\n",
        "words = ['good','bad','worse','so good']\n",
        "y_data = [1,0,0,1]\n",
        "\n",
        "char_set = ['<pad'] + sorted(list(set(\"\".join(words))))\n",
        "idx2char = {idx : char for idx, char in enumerate(char_set)}\n",
        "char2idx = {char : idx for idx, char in enumerate(char_set)}\n",
        "\n",
        "print(char_set)\n",
        "print(idx2char)\n",
        "print(char2idx)"
      ],
      "metadata": {
        "colab": {
          "base_uri": "https://localhost:8080/"
        },
        "id": "iD1pDB1U1ADO",
        "outputId": "e75117b7-724b-4a31-baf8-199f7906dc7c"
      },
      "execution_count": null,
      "outputs": [
        {
          "output_type": "stream",
          "name": "stdout",
          "text": [
            "['<pad', ' ', 'a', 'b', 'd', 'e', 'g', 'o', 'r', 's', 'w']\n",
            "{0: '<pad', 1: ' ', 2: 'a', 3: 'b', 4: 'd', 5: 'e', 6: 'g', 7: 'o', 8: 'r', 9: 's', 10: 'w'}\n",
            "{'<pad': 0, ' ': 1, 'a': 2, 'b': 3, 'd': 4, 'e': 5, 'g': 6, 'o': 7, 'r': 8, 's': 9, 'w': 10}\n"
          ]
        }
      ]
    },
    {
      "cell_type": "code",
      "source": [
        "\n",
        "x_data = list(map(lambda word: [char2idx.get(char) for char in word], words))\n",
        "x_data_len = list(map(lambda word: len(word), x_data))\n",
        "\n",
        "print(x_data)\n",
        "print(x_data_len)"
      ],
      "metadata": {
        "colab": {
          "base_uri": "https://localhost:8080/"
        },
        "id": "YPv8WZOu2aQm",
        "outputId": "6088b236-5b1a-4d50-c9b5-69a0219b2a20"
      },
      "execution_count": null,
      "outputs": [
        {
          "output_type": "stream",
          "name": "stdout",
          "text": [
            "[[6, 7, 7, 4], [3, 2, 4], [10, 7, 8, 9, 5], [9, 7, 1, 6, 7, 7, 4]]\n",
            "[4, 3, 5, 7]\n"
          ]
        }
      ]
    },
    {
      "cell_type": "code",
      "source": [
        "from tensorflow.keras.preprocessing.sequence import pad_sequences\n",
        "max_sequences = 10\n",
        "\n",
        "x_data = pad_sequences(sequences = x_data, maxlen = max_sequences, padding='post', truncating='post')\n",
        "\n",
        "print(x_data)\n",
        "print(x_data_len)\n",
        "print(y_data)"
      ],
      "metadata": {
        "colab": {
          "base_uri": "https://localhost:8080/"
        },
        "id": "7yamWd7t3PF0",
        "outputId": "acb9569c-55d5-4335-e67f-07ac50bf7520"
      },
      "execution_count": null,
      "outputs": [
        {
          "output_type": "stream",
          "name": "stdout",
          "text": [
            "[[ 6  7  7  4  0  0  0  0  0  0]\n",
            " [ 3  2  4  0  0  0  0  0  0  0]\n",
            " [10  7  8  9  5  0  0  0  0  0]\n",
            " [ 9  7  1  6  7  7  4  0  0  0]]\n",
            "[4, 3, 5, 7]\n",
            "[1, 0, 0, 1]\n"
          ]
        }
      ]
    },
    {
      "cell_type": "code",
      "source": [
        "print(len(char2idx))"
      ],
      "metadata": {
        "colab": {
          "base_uri": "https://localhost:8080/"
        },
        "id": "JbLSgsW05XuP",
        "outputId": "0df97e3f-88f4-49d8-e803-a9046af4db0f"
      },
      "execution_count": null,
      "outputs": [
        {
          "output_type": "stream",
          "name": "stdout",
          "text": [
            "11\n"
          ]
        }
      ]
    },
    {
      "cell_type": "code",
      "source": [
        "\n",
        "class RNNM(tf.keras.Model):\n",
        "  def __init__(self, hidden_size, char2idx):\n",
        "    super(RNNM, self).__init__()\n",
        "    self.embedding =  tf.keras.layers.Embedding(11, 11, trainable=False, mask_zero = True, input_length=max_sequences, embeddings_initializer=tf.keras.initializers.Constant(np.eye(len(char2idx))))\n",
        "    self.RNN1 = tf.keras.layers.SimpleRNN(hidden_size,return_sequences=True, return_state=True)\n",
        "    self.dense1 = tf.keras.layers.Dense(2)\n",
        "\n",
        "  def call(self, x):\n",
        "    x = self.embedding(x)\n",
        "    x, output = self.RNN1(x)\n",
        "    x = self.dense1(output)\n",
        "    return x\n",
        "model = RNNM(10, char2idx)"
      ],
      "metadata": {
        "id": "NZisP1nxS2zQ"
      },
      "execution_count": null,
      "outputs": []
    },
    {
      "cell_type": "code",
      "source": [
        "\n",
        "one_hot = np.eye(len(char2idx))\n",
        "\n",
        "#embedding은 token을 one-hot vector로 표현함. mask_zero는 전처리단계에서 0값으로 패딛처리된 부분을 알아서 연산에서 제외함., trainable 옵션으로 one hot vector를 train하지 않을 수 있음.\n",
        "#mask_zero 시에는 output_dim을 vocab의 길이로 맞춰주어야함.\n",
        "embed = tf.keras.layers.Embedding(11, 11, trainable=False, mask_zero = True, input_length=max_sequences, embeddings_initializer=tf.keras.initializers.Constant(one_hot))\n",
        "RNN = tf.keras.layers.SimpleRNN(hidden_size, return_sequences=True, return_state=True)\n",
        "input = embed(x_data)\n",
        "print(input.shape)\n",
        "output, state = RNN(input)\n",
        "print(output.shape)\n",
        "print(state.shape)\n",
        "dense = tf.keras.layers.Dense(2, activation='sigmoid')(state)\n",
        "print(dense.shape)\n",
        "print(dense)\n",
        "\n",
        "model = tf.keras.Model(embed, dense)\n",
        "\n"
      ],
      "metadata": {
        "id": "2Z-ZuM7i3xi2"
      },
      "execution_count": null,
      "outputs": []
    },
    {
      "cell_type": "code",
      "source": [
        "def loss_fn(model, x, y):\n",
        "  return tf.reduce_mean(tf.keras.losses.sparse_categorical_crossentropy(y_true=y, y_pred=model(x), from_logits = True))\n",
        "\n",
        "lr = 0.01\n",
        "epochs=30\n",
        "batch_size = 2\n",
        "opt = tf.keras.optimizers.Adam(learning_rate=lr)\n"
      ],
      "metadata": {
        "id": "H8a-LaA_42fo"
      },
      "execution_count": null,
      "outputs": []
    },
    {
      "cell_type": "code",
      "source": [
        "tr_dataset = tf.data.Dataset.from_tensor_slices((x_data, y_data))\n",
        "tr_dataset = tr_dataset.shuffle(buffer_size = 4)\n",
        "tr_dataset = tr_dataset.batch(batch_size = batch_size)\n",
        "\n",
        "print(tr_dataset)"
      ],
      "metadata": {
        "colab": {
          "base_uri": "https://localhost:8080/"
        },
        "id": "Z828C14n-QQ8",
        "outputId": "aad50e23-26dc-4e52-a3ce-2127c392a6c2"
      },
      "execution_count": null,
      "outputs": [
        {
          "output_type": "stream",
          "name": "stdout",
          "text": [
            "<BatchDataset shapes: ((None, 10), (None,)), types: (tf.int32, tf.int32)>\n"
          ]
        }
      ]
    },
    {
      "cell_type": "code",
      "source": [
        "tr_loss_hist = []\n",
        "\n",
        "for epoch in range(epochs):\n",
        "  avg_tr_loss = 0\n",
        "  tr_step = 0\n",
        "\n",
        "  for x_mb, y_mb in tr_dataset:\n",
        "    with tf.GradientTape() as tape:\n",
        "      tr_loss = loss_fn(model, x=x_mb, y = y_mb)\n",
        "    grads = tape.gradient(target=tr_loss, sources = model.variables)\n",
        "    opt.apply_gradients(grads_and_vars=zip(grads, model.variables))\n",
        "    avg_tr_loss +=tr_loss\n",
        "    tr_step +=1\n",
        "  \n",
        "  else:\n",
        "    avg_tr_loss /= tr_step\n",
        "    tr_loss_hist.append(avg_tr_loss)\n",
        "\n",
        "  if (epoch+1) % 5 ==0:\n",
        "    print('epoch : {:3}, tr_loss : {:.3f}'.format(epoch + 1, avg_tr_loss.numpy()))\n"
      ],
      "metadata": {
        "colab": {
          "base_uri": "https://localhost:8080/"
        },
        "id": "Efmyro34SSzM",
        "outputId": "3e041a25-91e2-40c2-aeac-d840ff6ca6b0"
      },
      "execution_count": null,
      "outputs": [
        {
          "output_type": "stream",
          "name": "stdout",
          "text": [
            "epoch :   5, tr_loss : 0.071\n",
            "epoch :  10, tr_loss : 0.010\n",
            "epoch :  15, tr_loss : 0.004\n",
            "epoch :  20, tr_loss : 0.002\n",
            "epoch :  25, tr_loss : 0.001\n",
            "epoch :  30, tr_loss : 0.001\n"
          ]
        }
      ]
    },
    {
      "cell_type": "code",
      "source": [
        "yhat = model.predict(x_data)\n",
        "yhat = np.argmax(yhat, axis=-1)\n",
        "print(yhat)\n"
      ],
      "metadata": {
        "colab": {
          "base_uri": "https://localhost:8080/"
        },
        "id": "_vgDE8qEXes3",
        "outputId": "c913cfcb-0b16-4dfe-a61b-a6669489b363"
      },
      "execution_count": null,
      "outputs": [
        {
          "output_type": "stream",
          "name": "stdout",
          "text": [
            "[[-3.1710343  3.6251416]\n",
            " [ 3.671873  -2.805457 ]\n",
            " [ 3.484414  -3.9281816]\n",
            " [-3.033969   3.7172155]]\n"
          ]
        }
      ]
    },
    {
      "cell_type": "code",
      "source": [
        "yhat = np.argmax(yhat, axis=-1)\n",
        "print(yhat)"
      ],
      "metadata": {
        "colab": {
          "base_uri": "https://localhost:8080/"
        },
        "id": "HTWoehrYZIOQ",
        "outputId": "4bdfb468-6d71-43a0-d61d-96ce53a0750b"
      },
      "execution_count": null,
      "outputs": [
        {
          "output_type": "stream",
          "name": "stdout",
          "text": [
            "[1 0 0 1]\n"
          ]
        }
      ]
    },
    {
      "cell_type": "code",
      "source": [
        "print('acc : {:.2%}'.format(np.mean(yhat == y_data)))"
      ],
      "metadata": {
        "colab": {
          "base_uri": "https://localhost:8080/"
        },
        "id": "rYIsM5gnZLT9",
        "outputId": "8f607dea-cf16-495f-9c7c-ff27264a9fe2"
      },
      "execution_count": null,
      "outputs": [
        {
          "output_type": "stream",
          "name": "stdout",
          "text": [
            "acc : 100.00%\n"
          ]
        }
      ]
    },
    {
      "cell_type": "code",
      "source": [
        "import matplotlib.pyplot as plt\n",
        "plt.plot(tr_loss_hist)"
      ],
      "metadata": {
        "colab": {
          "base_uri": "https://localhost:8080/",
          "height": 284
        },
        "id": "ls2zPc3uZSYI",
        "outputId": "1fb994d9-1981-432b-a3bb-2c7185c58b27"
      },
      "execution_count": null,
      "outputs": [
        {
          "output_type": "execute_result",
          "data": {
            "text/plain": [
              "[<matplotlib.lines.Line2D at 0x7f13defb1190>]"
            ]
          },
          "metadata": {},
          "execution_count": 30
        },
        {
          "output_type": "display_data",
          "data": {
            "image/png": "[encoded data removed]",
            "text/plain": [
              "<Figure size 432x288 with 1 Axes>"
            ]
          },
          "metadata": {
            "needs_background": "light"
          }
        }
      ]
    },
    {
      "cell_type": "markdown",
      "source": [
        "#### stacked RNN\n",
        "sentence classification"
      ],
      "metadata": {
        "id": "McGX5i2OZ3Uq"
      }
    },
    {
      "cell_type": "code",
      "source": [
        "# setup\n",
        "import numpy as np\n",
        "import tensorflow as tf\n",
        "import matplotlib.pyplot as plt\n",
        "from tensorflow import keras\n",
        "from tensorflow.keras import layers\n",
        "from tensorflow.keras import Sequential, Model\n",
        "from tensorflow.keras.preprocessing.sequence import pad_sequences\n",
        "from pprint import pprint\n",
        "%matplotlib inline\n",
        "\n",
        "print(tf.__version__)"
      ],
      "metadata": {
        "colab": {
          "base_uri": "https://localhost:8080/"
        },
        "id": "AuozXsV1ZTu5",
        "outputId": "c972e66a-a073-454f-df75-ec17435ff2c0"
      },
      "execution_count": null,
      "outputs": [
        {
          "output_type": "stream",
          "name": "stdout",
          "text": [
            "2.7.0\n"
          ]
        }
      ]
    },
    {
      "cell_type": "code",
      "source": [
        "# example data\n",
        "sentences = ['What I cannot create, I do not understand.',\n",
        "             'Intellecuals solve problems, geniuses prevent them',\n",
        "             'A person who never made a mistake never tied anything new.',\n",
        "             'The same equations have the same solutions.']\n",
        "y_data = [1,0,0,1] # 1: richard feynman, 0: albert einstein"
      ],
      "metadata": {
        "id": "0eCLHvfvaMMi"
      },
      "execution_count": null,
      "outputs": []
    },
    {
      "cell_type": "code",
      "source": [
        "# creating a token dictionary\n",
        "char_set = ['<pad>'] + sorted(list(set(''.join(sentences))))\n",
        "idx2char = {idx : char for idx, char in enumerate(char_set)}\n",
        "char2idx = {char : idx for idx, char in enumerate(char_set)}\n",
        "\n",
        "print(char_set)\n",
        "print(idx2char)\n",
        "print(char2idx)"
      ],
      "metadata": {
        "colab": {
          "base_uri": "https://localhost:8080/"
        },
        "id": "AtSKLwwdaNv-",
        "outputId": "35202f53-f677-4af9-ed4b-1f55bcf33688"
      },
      "execution_count": null,
      "outputs": [
        {
          "output_type": "stream",
          "name": "stdout",
          "text": [
            "['<pad>', ' ', ',', '.', 'A', 'I', 'T', 'W', 'a', 'b', 'c', 'd', 'e', 'g', 'h', 'i', 'k', 'l', 'm', 'n', 'o', 'p', 'q', 'r', 's', 't', 'u', 'v', 'w', 'y']\n",
            "{0: '<pad>', 1: ' ', 2: ',', 3: '.', 4: 'A', 5: 'I', 6: 'T', 7: 'W', 8: 'a', 9: 'b', 10: 'c', 11: 'd', 12: 'e', 13: 'g', 14: 'h', 15: 'i', 16: 'k', 17: 'l', 18: 'm', 19: 'n', 20: 'o', 21: 'p', 22: 'q', 23: 'r', 24: 's', 25: 't', 26: 'u', 27: 'v', 28: 'w', 29: 'y'}\n",
            "{'<pad>': 0, ' ': 1, ',': 2, '.': 3, 'A': 4, 'I': 5, 'T': 6, 'W': 7, 'a': 8, 'b': 9, 'c': 10, 'd': 11, 'e': 12, 'g': 13, 'h': 14, 'i': 15, 'k': 16, 'l': 17, 'm': 18, 'n': 19, 'o': 20, 'p': 21, 'q': 22, 'r': 23, 's': 24, 't': 25, 'u': 26, 'v': 27, 'w': 28, 'y': 29}\n"
          ]
        }
      ]
    },
    {
      "cell_type": "code",
      "source": [
        "# converting sequence of tokens to sequence of indices\n",
        "x_data = list(map(lambda sentence : [char2idx.get(char) for char in sentence], sentences))\n",
        "x_data_len = list(map(lambda sentence : len(sentence), sentences))\n",
        "\n",
        "print(x_data)\n",
        "print(x_data_len)\n",
        "print(y_data)"
      ],
      "metadata": {
        "colab": {
          "base_uri": "https://localhost:8080/"
        },
        "id": "nIboJnhFaOt5",
        "outputId": "9ed50627-aa43-4858-9c36-8128d6f4194a"
      },
      "execution_count": null,
      "outputs": [
        {
          "output_type": "stream",
          "name": "stdout",
          "text": [
            "[[7, 14, 8, 25, 1, 5, 1, 10, 8, 19, 19, 20, 25, 1, 10, 23, 12, 8, 25, 12, 2, 1, 5, 1, 11, 20, 1, 19, 20, 25, 1, 26, 19, 11, 12, 23, 24, 25, 8, 19, 11, 3], [5, 19, 25, 12, 17, 17, 12, 10, 26, 8, 17, 24, 1, 24, 20, 17, 27, 12, 1, 21, 23, 20, 9, 17, 12, 18, 24, 2, 1, 13, 12, 19, 15, 26, 24, 12, 24, 1, 21, 23, 12, 27, 12, 19, 25, 1, 25, 14, 12, 18], [4, 1, 21, 12, 23, 24, 20, 19, 1, 28, 14, 20, 1, 19, 12, 27, 12, 23, 1, 18, 8, 11, 12, 1, 8, 1, 18, 15, 24, 25, 8, 16, 12, 1, 19, 12, 27, 12, 23, 1, 25, 15, 12, 11, 1, 8, 19, 29, 25, 14, 15, 19, 13, 1, 19, 12, 28, 3], [6, 14, 12, 1, 24, 8, 18, 12, 1, 12, 22, 26, 8, 25, 15, 20, 19, 24, 1, 14, 8, 27, 12, 1, 25, 14, 12, 1, 24, 8, 18, 12, 1, 24, 20, 17, 26, 25, 15, 20, 19, 24, 3]]\n",
            "[42, 50, 58, 43]\n",
            "[1, 0, 0, 1]\n"
          ]
        }
      ]
    },
    {
      "cell_type": "code",
      "source": [
        "# padding the sequence of indices\n",
        "max_sequence = 55\n",
        "x_data = pad_sequences(sequences = x_data, maxlen = max_sequence,\n",
        "                       padding = 'post', truncating = 'post')\n",
        "\n",
        "# checking data\n",
        "print(x_data)\n",
        "print(x_data_len)\n",
        "print(y_data)"
      ],
      "metadata": {
        "colab": {
          "base_uri": "https://localhost:8080/"
        },
        "id": "vhd8_y_zaRQp",
        "outputId": "3654f9db-0b00-4ef1-9335-822fde62aca4"
      },
      "execution_count": null,
      "outputs": [
        {
          "output_type": "stream",
          "name": "stdout",
          "text": [
            "[[ 7 14  8 25  1  5  1 10  8 19 19 20 25  1 10 23 12  8 25 12  2  1  5  1\n",
            "  11 20  1 19 20 25  1 26 19 11 12 23 24 25  8 19 11  3  0  0  0  0  0  0\n",
            "   0  0  0  0  0  0  0]\n",
            " [ 5 19 25 12 17 17 12 10 26  8 17 24  1 24 20 17 27 12  1 21 23 20  9 17\n",
            "  12 18 24  2  1 13 12 19 15 26 24 12 24  1 21 23 12 27 12 19 25  1 25 14\n",
            "  12 18  0  0  0  0  0]\n",
            " [ 4  1 21 12 23 24 20 19  1 28 14 20  1 19 12 27 12 23  1 18  8 11 12  1\n",
            "   8  1 18 15 24 25  8 16 12  1 19 12 27 12 23  1 25 15 12 11  1  8 19 29\n",
            "  25 14 15 19 13  1 19]\n",
            " [ 6 14 12  1 24  8 18 12  1 12 22 26  8 25 15 20 19 24  1 14  8 27 12  1\n",
            "  25 14 12  1 24  8 18 12  1 24 20 17 26 25 15 20 19 24  3  0  0  0  0  0\n",
            "   0  0  0  0  0  0  0]]\n",
            "[42, 50, 58, 43]\n",
            "[1, 0, 0, 1]\n"
          ]
        }
      ]
    },
    {
      "cell_type": "code",
      "source": [
        ""
      ],
      "metadata": {
        "id": "AQwTuWDFguOd"
      },
      "execution_count": null,
      "outputs": []
    },
    {
      "cell_type": "code",
      "source": [
        "for x_mb, y_mb in tr_dataset:\n",
        "  x = tf.keras.layers.Embedding(30, 30, trainable=False, mask_zero = True, input_length=max_sequence, embeddings_initializer=tf.keras.initializers.Constant(one_hot))(x_mb)\n",
        "  x = tf.keras.layers.SimpleRNN(10, return_sequences=True)(x)\n",
        "  x = tf.keras.layers.TimeDistributed(tf.keras.layers.Dropout(0.2))(x)\n",
        "  x = tf.keras.layers.SimpleRNN(10)(x)\n",
        "  x = tf.keras.layers.Dropout(0.2)(x)\n",
        "  x = tf.keras.layers.Dense(2)(x)\n",
        "  print(x.shape)\n",
        "  "
      ],
      "metadata": {
        "colab": {
          "base_uri": "https://localhost:8080/"
        },
        "id": "Q5Ui-QeSg7va",
        "outputId": "67c2168d-4ba0-48f3-be79-452ffb0e68b8"
      },
      "execution_count": null,
      "outputs": [
        {
          "output_type": "stream",
          "name": "stdout",
          "text": [
            "(2, 2)\n",
            "(2, 2)\n"
          ]
        }
      ]
    },
    {
      "cell_type": "code",
      "source": [
        "num_classes = 2\n",
        "hidden_dims = [10,10]\n",
        "\n",
        "input_dim = len(char2idx)\n",
        "output_dim = len(char2idx)\n",
        "one_hot = np.eye(len(char2idx))\n",
        "\n",
        "class MRNN1(tf.keras.Model):\n",
        "  def __init__(self, char2idx):\n",
        "    super(MRNN1, self).__init__()\n",
        "    self.embedding = tf.keras.layers.Embedding(30, 30, trainable=False, mask_zero = True, input_length=max_sequence, embeddings_initializer=tf.keras.initializers.Constant(np.eye(len(char2idx))))\n",
        "    self.RNN1 = tf.keras.layers.SimpleRNN(10, return_sequences=True)\n",
        "    self.drop1 = tf.keras.layers.TimeDistributed(tf.keras.layers.Dropout(0.2))\n",
        "    self.RNN2 = tf.keras.layers.SimpleRNN(10)\n",
        "    self.drop2 = tf.keras.layers.Dropout(0.2)\n",
        "    self.dense1 = tf.keras.layers.Dense(2)\n",
        "\n",
        "  def call(self, x):\n",
        "    x = self.embedding(x)\n",
        "    x = self.RNN1(x)\n",
        "    x = self.drop1(x)\n",
        "    x = self.RNN2(x)\n",
        "    x = self.drop2(x)\n",
        "    x = self.dense1(x)\n",
        "    return x\n",
        "\n",
        "model = MRNN1(char2idx)"
      ],
      "metadata": {
        "id": "_umtHYkmaTXY"
      },
      "execution_count": null,
      "outputs": []
    },
    {
      "cell_type": "code",
      "source": [
        "def loss_fn(model, x,y,training):\n",
        "  return tf.reduce_mean(tf.keras.losses.sparse_categorical_crossentropy(y_true=y, y_pred = model(x), from_logits=True))\n",
        "\n",
        "lr = .01\n",
        "epochs = 30\n",
        "batch_size = 2\n",
        "opt = tf.keras.optimizers.Adam(learning_rate = lr)"
      ],
      "metadata": {
        "id": "VX1KK8f0eYVp"
      },
      "execution_count": null,
      "outputs": []
    },
    {
      "cell_type": "code",
      "source": [
        "# generating data pipeline\n",
        "tr_dataset = tf.data.Dataset.from_tensor_slices((x_data, y_data))\n",
        "tr_dataset = tr_dataset.shuffle(buffer_size=4)\n",
        "tr_dataset = tr_dataset.batch(batch_size=batch_size)\n",
        "\n",
        "print(tr_dataset)"
      ],
      "metadata": {
        "colab": {
          "base_uri": "https://localhost:8080/"
        },
        "id": "zXpkqmtIezbH",
        "outputId": "46ee7eac-8809-4d88-aaeb-5072e498f1ca"
      },
      "execution_count": null,
      "outputs": [
        {
          "output_type": "stream",
          "name": "stdout",
          "text": [
            "<BatchDataset shapes: ((None, 55), (None,)), types: (tf.int32, tf.int32)>\n"
          ]
        }
      ]
    },
    {
      "cell_type": "code",
      "source": [
        ""
      ],
      "metadata": {
        "id": "KFEuP-o4hf_8"
      },
      "execution_count": null,
      "outputs": []
    },
    {
      "cell_type": "code",
      "source": [
        "# training\n",
        "tr_loss_hist = []\n",
        "\n",
        "for epoch in range(epochs):\n",
        "  avg_tr_loss = 0\n",
        "  tr_step=0\n",
        "  for x_mb, y_mb in tr_dataset:\n",
        "    with tf.GradientTape() as tape:\n",
        "      tr_loss = loss_fn(model, x=x_mb, y=y_mb, training=True)\n",
        "    grads = tape.gradient(target=tr_loss, sources = model.variables)\n",
        "    opt.apply_gradients(grads_and_vars=zip(grads, model.variables))\n",
        "    avg_tr_loss +=tr_loss\n",
        "    tr_step +=1\n",
        "  else:\n",
        "    avg_tr_loss /=tr_step\n",
        "    tr_loss_hist.append(avg_tr_loss)\n",
        "  if (epoch + 1) % 5 ==0:\n",
        "        print('epoch : {:3}, tr_loss : {:.3f}'.format(epoch + 1, avg_tr_loss.numpy()))"
      ],
      "metadata": {
        "colab": {
          "base_uri": "https://localhost:8080/"
        },
        "id": "KoIXQKZ8e0zp",
        "outputId": "3d1494c1-080f-452e-8fae-1cd9daa058ec"
      },
      "execution_count": null,
      "outputs": [
        {
          "output_type": "stream",
          "name": "stdout",
          "text": [
            "epoch :   5, tr_loss : 0.000\n",
            "epoch :  10, tr_loss : 0.000\n",
            "epoch :  15, tr_loss : 0.000\n",
            "epoch :  20, tr_loss : 0.000\n",
            "epoch :  25, tr_loss : 0.000\n",
            "epoch :  30, tr_loss : 0.000\n"
          ]
        }
      ]
    },
    {
      "cell_type": "code",
      "source": [
        "yhat = model.predict(x_data)\n",
        "yhat = np.argmax(yhat, axis=-1)\n",
        "print('accuracy : {:.2%}'.format(np.mean(yhat == y_data)))"
      ],
      "metadata": {
        "colab": {
          "base_uri": "https://localhost:8080/"
        },
        "id": "3Mt2P4SlfdCv",
        "outputId": "d593e386-490a-48fa-d071-d9ba31e7daa9"
      },
      "execution_count": null,
      "outputs": [
        {
          "output_type": "stream",
          "name": "stdout",
          "text": [
            "accuracy : 100.00%\n"
          ]
        }
      ]
    },
    {
      "cell_type": "code",
      "source": [
        "plt.plot(tr_loss_hist)"
      ],
      "metadata": {
        "colab": {
          "base_uri": "https://localhost:8080/",
          "height": 284
        },
        "id": "IcTOb-2kledF",
        "outputId": "37159023-7f00-4920-dd84-0495511c3e58"
      },
      "execution_count": null,
      "outputs": [
        {
          "output_type": "execute_result",
          "data": {
            "text/plain": [
              "[<matplotlib.lines.Line2D at 0x7f13dd614c90>]"
            ]
          },
          "metadata": {},
          "execution_count": 104
        },
        {
          "output_type": "display_data",
          "data": {
            "image/png": "[encoded data removed]",
            "text/plain": [
              "<Figure size 432x288 with 1 Axes>"
            ]
          },
          "metadata": {
            "needs_background": "light"
          }
        }
      ]
    },
    {
      "cell_type": "markdown",
      "source": [
        "#### many to many\n",
        "ex)\n",
        "part of speech tagging\n"
      ],
      "metadata": {
        "id": "RnFZSibVmf-l"
      }
    },
    {
      "cell_type": "code",
      "source": [
        "import numpy as np\n",
        "import tensorflow as tf\n",
        "import matplotlib.pyplot as plt\n",
        "from tensorflow import keras\n",
        "from tensorflow.keras import layers\n",
        "from tensorflow.keras import Sequential, Model\n",
        "from tensorflow.keras.preprocessing.sequence import pad_sequences\n",
        "from pprint import pprint\n",
        "%matplotlib inline\n",
        "\n",
        "print(tf.__version__)"
      ],
      "metadata": {
        "colab": {
          "base_uri": "https://localhost:8080/"
        },
        "id": "0VJz27mQlfwu",
        "outputId": "a64ecfec-cba7-40bc-fcb9-17c4d0fd59d8"
      },
      "execution_count": null,
      "outputs": [
        {
          "output_type": "stream",
          "name": "stdout",
          "text": [
            "2.7.0\n"
          ]
        }
      ]
    },
    {
      "cell_type": "code",
      "source": [
        "sentences = [['I', 'feel', 'hungry'],\n",
        "     ['tensorflow', 'is', 'very', 'difficult'],\n",
        "     ['tensorflow', 'is', 'a', 'framework', 'for', 'deep', 'learning'],\n",
        "     ['tensorflow', 'is', 'very', 'fast', 'changing']]\n",
        "pos = [['pronoun', 'verb', 'adjective'],\n",
        "     ['noun', 'verb', 'adverb', 'adjective'],\n",
        "     ['noun', 'verb', 'determiner', 'noun', 'preposition', 'adjective', 'noun'],\n",
        "     ['noun', 'verb', 'adverb', 'adjective', 'verb']]"
      ],
      "metadata": {
        "id": "PgInyF_apR4C"
      },
      "execution_count": null,
      "outputs": []
    },
    {
      "cell_type": "code",
      "source": [
        "# creating a token dictionary for word\n",
        "word_list = sum(sentences, [])\n",
        "word_list = sorted(set(word_list))\n",
        "word_list = ['<pad>'] + word_list\n",
        "word2idx = {word : idx for idx, word in enumerate(word_list)}\n",
        "idx2word = {idx : word for idx, word in enumerate(word_list)}\n",
        "\n",
        "print(word2idx)\n",
        "print(idx2word)\n",
        "print(len(idx2word))"
      ],
      "metadata": {
        "colab": {
          "base_uri": "https://localhost:8080/"
        },
        "id": "xNNKd67KpUOb",
        "outputId": "9fc6e6cb-6b2b-4193-aec1-291fc3b6021b"
      },
      "execution_count": null,
      "outputs": [
        {
          "output_type": "stream",
          "name": "stdout",
          "text": [
            "{'<pad>': 0, 'I': 1, 'a': 2, 'changing': 3, 'deep': 4, 'difficult': 5, 'fast': 6, 'feel': 7, 'for': 8, 'framework': 9, 'hungry': 10, 'is': 11, 'learning': 12, 'tensorflow': 13, 'very': 14}\n",
            "{0: '<pad>', 1: 'I', 2: 'a', 3: 'changing', 4: 'deep', 5: 'difficult', 6: 'fast', 7: 'feel', 8: 'for', 9: 'framework', 10: 'hungry', 11: 'is', 12: 'learning', 13: 'tensorflow', 14: 'very'}\n",
            "15\n"
          ]
        }
      ]
    },
    {
      "cell_type": "code",
      "source": [
        "pos_list = sum(pos, [])\n",
        "pos_list = sorted(set(pos_list))\n",
        "pos_list = ['<pad>'] + pos_list\n",
        "pos2idx = {pos : idx for idx, pos in enumerate(pos_list)}\n",
        "idx2pos = {idx : pos for idx, pos in enumerate(pos_list)}\n",
        "\n",
        "print(pos2idx)\n",
        "print(idx2pos)\n",
        "print(len(pos2idx))"
      ],
      "metadata": {
        "colab": {
          "base_uri": "https://localhost:8080/"
        },
        "id": "DmSd0Ve1p3uX",
        "outputId": "781b2ba7-a0c9-4396-f2cf-d5140f5f498c"
      },
      "execution_count": null,
      "outputs": [
        {
          "output_type": "stream",
          "name": "stdout",
          "text": [
            "{'<pad>': 0, 'adjective': 1, 'adverb': 2, 'determiner': 3, 'noun': 4, 'preposition': 5, 'pronoun': 6, 'verb': 7}\n",
            "{0: '<pad>', 1: 'adjective', 2: 'adverb', 3: 'determiner', 4: 'noun', 5: 'preposition', 6: 'pronoun', 7: 'verb'}\n",
            "8\n"
          ]
        }
      ]
    },
    {
      "cell_type": "code",
      "source": [
        "# converting sequence of tokens to sequence of indices\n",
        "max_sequence = 10\n",
        "x_data = list(map(lambda sentence : [word2idx.get(token) for token in sentence], sentences))\n",
        "y_data = list(map(lambda sentence : [pos2idx.get(token) for token in sentence], pos))\n",
        "\n",
        "# padding the sequence of indices\n",
        "x_data = pad_sequences(sequences = x_data, maxlen = max_sequence, padding='post')\n",
        "x_data_mask = ((x_data != 0) * 1).astype(np.float32)\n",
        "x_data_len = list(map(lambda sentence : len(sentence), sentences))\n",
        "\n",
        "y_data = pad_sequences(sequences = y_data, maxlen = max_sequence, padding='post')\n",
        "\n",
        "# checking data\n",
        "print(x_data, x_data_len)\n",
        "print(x_data_mask)\n",
        "print(y_data)"
      ],
      "metadata": {
        "colab": {
          "base_uri": "https://localhost:8080/"
        },
        "id": "DrNfKGpUp6Fv",
        "outputId": "9a4511f3-60c9-4bfe-ac94-e74dac8ae0c2"
      },
      "execution_count": null,
      "outputs": [
        {
          "output_type": "stream",
          "name": "stdout",
          "text": [
            "[[ 1  7 10  0  0  0  0  0  0  0]\n",
            " [13 11 14  5  0  0  0  0  0  0]\n",
            " [13 11  2  9  8  4 12  0  0  0]\n",
            " [13 11 14  6  3  0  0  0  0  0]] [3, 4, 7, 5]\n",
            "[[1. 1. 1. 0. 0. 0. 0. 0. 0. 0.]\n",
            " [1. 1. 1. 1. 0. 0. 0. 0. 0. 0.]\n",
            " [1. 1. 1. 1. 1. 1. 1. 0. 0. 0.]\n",
            " [1. 1. 1. 1. 1. 0. 0. 0. 0. 0.]]\n",
            "[[6 7 1 0 0 0 0 0 0 0]\n",
            " [4 7 2 1 0 0 0 0 0 0]\n",
            " [4 7 3 4 5 1 4 0 0 0]\n",
            " [4 7 2 1 7 0 0 0 0 0]]\n"
          ]
        }
      ]
    },
    {
      "cell_type": "code",
      "source": [
        "print(x_data.shape)\n",
        "print(y_data.shape)"
      ],
      "metadata": {
        "colab": {
          "base_uri": "https://localhost:8080/"
        },
        "id": "_otyleXasOov",
        "outputId": "12fce8ab-6553-46d8-ef49-4c55f9d4beb6"
      },
      "execution_count": null,
      "outputs": [
        {
          "output_type": "stream",
          "name": "stdout",
          "text": [
            "(4, 10)\n",
            "(4, 10)\n"
          ]
        }
      ]
    },
    {
      "cell_type": "code",
      "source": [
        "num_classes = len(pos2idx)\n",
        "hidden_dim = 10\n",
        "\n",
        "input_dim = len(word2idx)\n",
        "output_dim = len(word2idx)\n",
        "one_hot = np.eye(len(word2idx))\n",
        "\n",
        "model = Sequential()\n",
        "model.add(layers.Embedding(input_dim=input_dim, output_dim=output_dim, mask_zero=True,\n",
        "                           trainable=False, input_length=max_sequence,\n",
        "                           embeddings_initializer=keras.initializers.Constant(one_hot)))\n",
        "model.add(layers.SimpleRNN(units=hidden_dim, return_sequences=True))\n",
        "model.add(layers.TimeDistributed(layers.Dense(units=num_classes)))"
      ],
      "metadata": {
        "id": "UZFS4Gh8qGX_"
      },
      "execution_count": null,
      "outputs": []
    },
    {
      "cell_type": "code",
      "source": [
        "y=y_data\n",
        "x = x_data\n",
        "x_len = x_data_len\n",
        "mask = tf.math.logical_not(tf.math.equal(y,0))\n",
        "print(mask)\n",
        "print(x_len)"
      ],
      "metadata": {
        "colab": {
          "base_uri": "https://localhost:8080/"
        },
        "id": "xtWUpyTgssjV",
        "outputId": "28a7aa9e-8727-4c5e-840b-29a454d4a052"
      },
      "execution_count": null,
      "outputs": [
        {
          "output_type": "stream",
          "name": "stdout",
          "text": [
            "tf.Tensor(\n",
            "[[ True  True  True False False False False False False False]\n",
            " [ True  True  True  True False False False False False False]\n",
            " [ True  True  True  True  True  True  True False False False]\n",
            " [ True  True  True  True  True False False False False False]], shape=(4, 10), dtype=bool)\n",
            "[3, 4, 7, 5]\n"
          ]
        }
      ]
    },
    {
      "cell_type": "code",
      "source": [
        "x = tf.keras.layers.Embedding(15,15,mask_zero=True, trainable=False)(x)\n",
        "print(x.shape)\n",
        "x = tf.keras.layers.SimpleRNN(10, return_sequences=True)(x)\n",
        "print(x.shape)\n",
        "x = tf.keras.layers.TimeDistributed(tf.keras.layers.Dense(8))(x)\n",
        "print(x.shape)"
      ],
      "metadata": {
        "colab": {
          "base_uri": "https://localhost:8080/"
        },
        "id": "uluvjm7vwZXI",
        "outputId": "80d747e9-efdd-4f23-fc8e-b10a0f9c9b60"
      },
      "execution_count": null,
      "outputs": [
        {
          "output_type": "stream",
          "name": "stdout",
          "text": [
            "(4, 10, 15)\n",
            "(4, 10, 10)\n",
            "(4, 10, 8)\n"
          ]
        }
      ]
    },
    {
      "cell_type": "code",
      "source": [
        "masking = tf.sequence_mask(x_len, maxlen=max_sequence, dtype=tf.float32)\n",
        "print(masking)\n",
        "valid_time_step = tf.cast(x_len,dtype=tf.float32)  \n",
        "print(valid_time_step)\n",
        "sequence_loss = tf.keras.losses.sparse_categorical_crossentropy(\n",
        "        y_true=y, y_pred=x, from_logits=True) * masking\n",
        "print(sequence_loss)\n",
        "sequence_loss = tf.reduce_sum(sequence_loss, axis=-1) / valid_time_step\n",
        "print(sequence_loss)\n",
        "sequence_loss = tf.reduce_mean(sequence_loss)   \n",
        "print(sequence_loss)"
      ],
      "metadata": {
        "colab": {
          "base_uri": "https://localhost:8080/"
        },
        "id": "XhKhEg6tu3ye",
        "outputId": "e5492724-5a89-41be-e121-09d984e5e97b"
      },
      "execution_count": null,
      "outputs": [
        {
          "output_type": "stream",
          "name": "stdout",
          "text": [
            "tf.Tensor(\n",
            "[[1. 1. 1. 0. 0. 0. 0. 0. 0. 0.]\n",
            " [1. 1. 1. 1. 0. 0. 0. 0. 0. 0.]\n",
            " [1. 1. 1. 1. 1. 1. 1. 0. 0. 0.]\n",
            " [1. 1. 1. 1. 1. 0. 0. 0. 0. 0.]], shape=(4, 10), dtype=float32)\n",
            "tf.Tensor([3. 4. 7. 5.], shape=(4,), dtype=float32)\n",
            "tf.Tensor(\n",
            "[[2.0642595 2.0189373 2.0714786 0.        0.        0.        0.\n",
            "  0.        0.        0.       ]\n",
            " [2.0670097 2.0860069 2.0984862 2.1167724 0.        0.        0.\n",
            "  0.        0.        0.       ]\n",
            " [2.0670097 2.0860069 2.0431268 2.0229917 2.0060794 2.1613464 2.1207635\n",
            "  0.        0.        0.       ]\n",
            " [2.0670097 2.0860069 2.0984862 2.1252062 2.1109402 0.        0.\n",
            "  0.        0.        0.       ]], shape=(4, 10), dtype=float32)\n",
            "tf.Tensor([2.0515585 2.0920687 2.072475  2.09753  ], shape=(4,), dtype=float32)\n",
            "tf.Tensor(2.078408, shape=(), dtype=float32)\n"
          ]
        }
      ]
    },
    {
      "cell_type": "code",
      "source": [
        "from keras_preprocessing import sequence\n",
        "\n",
        "mask = tf.math.logical_not(tf.math.equal(y,0))\n",
        "mask = tf.cast(mask, dtype=tf.float32)\n",
        "sequence_loss = tf.keras.losses.sparse_categorical_crossentropy(y_true=y, y_pred=x, from_logits=True) * mask\n",
        "print(sequence_loss)\n",
        "seq = tf.reduce_mean(sequence_loss, axis=-1)\n",
        "print(seq)"
      ],
      "metadata": {
        "colab": {
          "base_uri": "https://localhost:8080/"
        },
        "id": "sUdozaJ5rwye",
        "outputId": "588b4ad0-d5ec-4dbf-a711-d0411a9f9b8d"
      },
      "execution_count": null,
      "outputs": [
        {
          "output_type": "stream",
          "name": "stdout",
          "text": [
            "tf.Tensor(\n",
            "[[2.047162  2.050177  2.078169  0.        0.        0.        0.\n",
            "  0.        0.        0.       ]\n",
            " [2.0873485 2.1472924 2.0571752 2.1049104 0.        0.        0.\n",
            "  0.        0.        0.       ]\n",
            " [2.0873485 2.1472924 2.1580122 2.093558  2.0671055 2.0299263 2.0849862\n",
            "  0.        0.        0.       ]\n",
            " [2.0873485 2.1472924 2.0571752 2.1352708 2.0861099 0.        0.\n",
            "  0.        0.        0.       ]], shape=(4, 10), dtype=float32)\n",
            "tf.Tensor([0.61755085 0.8396727  1.466823   1.0513197 ], shape=(4,), dtype=float32)\n"
          ]
        }
      ]
    },
    {
      "cell_type": "code",
      "source": [
        "# creating loss function\n",
        "def loss_fn(model, x, y, x_len, max_sequence):\n",
        "    masking = tf.sequence_mask(x_len, maxlen=max_sequence, dtype=tf.float32)\n",
        "    valid_time_step = tf.cast(x_len,dtype=tf.float32)    \n",
        "    sequence_loss = tf.keras.losses.sparse_categorical_crossentropy(\n",
        "        y_true=y, y_pred=model(x), from_logits=True) * masking    \n",
        "    sequence_loss = tf.reduce_sum(sequence_loss, axis=-1) / valid_time_step    \n",
        "    sequence_loss = tf.reduce_mean(sequence_loss)    \n",
        "    return sequence_loss\n",
        "\n",
        "# creating and optimizer\n",
        "lr = 0.1\n",
        "epochs = 30\n",
        "batch_size = 2 \n",
        "opt = tf.keras.optimizers.Adam(learning_rate = lr)"
      ],
      "metadata": {
        "id": "RdbHJ-Nx4VpJ"
      },
      "execution_count": null,
      "outputs": []
    },
    {
      "cell_type": "code",
      "source": [
        "# generating data pipeline\n",
        "tr_dataset = tf.data.Dataset.from_tensor_slices((x_data, y_data, x_data_len))\n",
        "tr_dataset = tr_dataset.shuffle(buffer_size=4)\n",
        "tr_dataset = tr_dataset.batch(batch_size = 2)\n",
        "\n",
        "print(tr_dataset)"
      ],
      "metadata": {
        "colab": {
          "base_uri": "https://localhost:8080/"
        },
        "id": "DNrqJCqc4Vk2",
        "outputId": "b3f2f49d-abbc-4e0f-a348-d29c69b34f61"
      },
      "execution_count": null,
      "outputs": [
        {
          "output_type": "stream",
          "name": "stdout",
          "text": [
            "<BatchDataset shapes: ((None, 10), (None, 10), (None,)), types: (tf.int32, tf.int32, tf.int32)>\n"
          ]
        }
      ]
    },
    {
      "cell_type": "code",
      "source": [
        "# training\n",
        "tr_loss_hist = []\n",
        "\n",
        "for epoch in range(epochs):\n",
        "    avg_tr_loss = 0\n",
        "    tr_step = 0\n",
        "    \n",
        "    for x_mb, y_mb, x_mb_len in tr_dataset:\n",
        "        with tf.GradientTape() as tape:\n",
        "            tr_loss = loss_fn(model, x=x_mb, y=y_mb, x_len=x_mb_len, max_sequence=max_sequence)\n",
        "        grads = tape.gradient(target=tr_loss, sources=model.variables)\n",
        "        opt.apply_gradients(grads_and_vars=zip(grads, model.variables))\n",
        "        avg_tr_loss += tr_loss\n",
        "        tr_step += 1\n",
        "    else:\n",
        "        avg_tr_loss /= tr_step\n",
        "        tr_loss_hist.append(avg_tr_loss)\n",
        "    \n",
        "    if (epoch + 1) % 5 == 0:\n",
        "        print('epoch : {:3}, tr_loss : {:.3f}'.format(epoch + 1, avg_tr_loss))"
      ],
      "metadata": {
        "colab": {
          "base_uri": "https://localhost:8080/"
        },
        "id": "Fqsd5sZ41_UO",
        "outputId": "19c3f7fd-52ae-49fd-85c9-378ac625c43c"
      },
      "execution_count": null,
      "outputs": [
        {
          "output_type": "stream",
          "name": "stdout",
          "text": [
            "epoch :   5, tr_loss : 0.067\n",
            "epoch :  10, tr_loss : 0.004\n",
            "epoch :  15, tr_loss : 0.001\n",
            "epoch :  20, tr_loss : 0.001\n",
            "epoch :  25, tr_loss : 0.000\n",
            "epoch :  30, tr_loss : 0.000\n"
          ]
        }
      ]
    },
    {
      "cell_type": "markdown",
      "source": [
        "#### many to many bidirectional"
      ],
      "metadata": {
        "id": "Ftt2hEen4mtM"
      }
    },
    {
      "cell_type": "code",
      "source": [
        "# Bidirectional 하는 부분만 다름.\n",
        "num_classes = len(pos2idx)\n",
        "hidden_dim = 10\n",
        "\n",
        "input_dim = len(word2idx)\n",
        "output_dim = len(word2idx)\n",
        "one_hot = np.eye(len(word2idx))\n",
        "\n",
        "model = Sequential()\n",
        "model.add(layers.InputLayer(input_shape=(max_sequence,)))\n",
        "model.add(layers.Embedding(input_dim=input_dim, output_dim=output_dim, mask_zero=True,\n",
        "                                 trainable=False, input_length=max_sequence,\n",
        "                                 embeddings_initializer=keras.initializers.Constant(one_hot)))\n",
        "model.add(layers.Bidirectional(keras.layers.SimpleRNN(units=hidden_dim, return_sequences=True)))\n",
        "model.add(layers.TimeDistributed(keras.layers.Dense(units=num_classes)))"
      ],
      "metadata": {
        "id": "X6mJjyI44TiJ"
      },
      "execution_count": null,
      "outputs": []
    }
  ]
}