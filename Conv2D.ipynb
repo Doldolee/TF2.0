{
  "nbformat": 4,
  "nbformat_minor": 0,
  "metadata": {
    "colab": {
      "name": "Conv2D.ipynb",
      "provenance": [],
      "authorship_tag": "ABX9TyMuWUSLDukbSDsiyook7b5r",
      "include_colab_link": true
    },
    "kernelspec": {
      "name": "python3",
      "display_name": "Python 3"
    },
    "language_info": {
      "name": "python"
    },
    "accelerator": "GPU"
  },
  "cells": [
    {
      "cell_type": "markdown",
      "metadata": {
        "id": "view-in-github",
        "colab_type": "text"
      },
      "source": [
        "<a href=\"https://colab.research.google.com/github/dolDolSee/TF2.0/blob/main/Conv2D.ipynb\" target=\"_parent\"><img src=\"https://colab.research.google.com/assets/colab-badge.svg\" alt=\"Open In Colab\"/></a>"
      ]
    },
    {
      "cell_type": "code",
      "metadata": {
        "id": "as6A3pqZkEVF"
      },
      "source": [
        "import tensorflow as tf\n",
        "\n",
        "class Conv(tf.keras.Model):\n",
        "  def __init__(self):\n",
        "    super(Conv, self).__init__()\n",
        "\n",
        "    self.conv2D1 = tf.keras.layers.Conv2D(filters=32, kernel_size=3, strides=1, padding='same', activation='relu')\n",
        "    self.conv2D2 = tf.keras.layers.Conv2D(filters=64, kernel_size=3, activation='relu')\n",
        "    self.MaxPool = tf.keras.layers.MaxPooling2D(2)\n",
        "    self.Flatten = tf.keras.layers.Flatten()\n",
        "    self.Dense = tf.keras.layers.Dense(100, activation='relu')\n",
        "    self.OutPut = tf.keras.layers.Dense(10, activation='softmax')\n",
        "\n",
        "  def call(self,x):\n",
        "    # print(x)\n",
        "    inPut = tf.reshape(x,[-1, 28,28,1])\n",
        "    # print(input)\n",
        "    x = self.conv2D1(inPut)\n",
        "    x = self.conv2D2(x)\n",
        "    x = self.MaxPool(x)\n",
        "    x = self.Flatten(x)\n",
        "    x = self.Dense(x)\n",
        "    x = self.OutPut(x)\n",
        "    return x\n",
        "\n",
        "model = Conv()"
      ],
      "execution_count": 44,
      "outputs": []
    },
    {
      "cell_type": "code",
      "metadata": {
        "colab": {
          "base_uri": "https://localhost:8080/"
        },
        "id": "4QpZnXwU45KO",
        "outputId": "73f614d1-7270-45be-a8bf-606c74227448"
      },
      "source": [
        "tf.reshape(tr_images,[-1, 28,28,1]).shape\n",
        "tr_images.shape"
      ],
      "execution_count": 60,
      "outputs": [
        {
          "output_type": "execute_result",
          "data": {
            "text/plain": [
              "(51000, 28, 28)"
            ]
          },
          "metadata": {},
          "execution_count": 60
        }
      ]
    },
    {
      "cell_type": "code",
      "metadata": {
        "id": "25GG-SCFp8pn"
      },
      "source": [
        "from tensorflow.keras.datasets import fashion_mnist\n",
        "import numpy as np\n",
        "from tensorflow.keras.utils import to_categorical\n",
        "from sklearn.model_selection import train_test_split\n",
        "\n",
        "(train_images, train_labels),(test_images, test_labels) = fashion_mnist.load_data()\n",
        "\n",
        "def get_preprocessed_data(images, labels):\n",
        "  images = np.array(images/255.0, dtype=np.float32)\n",
        "  labels = np.array(labels, dtype=np.float32)\n",
        "  return images, labels\n",
        "\n",
        "def get_preprocessed_ohe(images, labels):\n",
        "  images, labels = get_preprocessed_data(images, labels)\n",
        "  oh_labels = to_categorical(labels)\n",
        "  return images, oh_labels\n",
        "\n",
        "def get_train_valid_test_set(train_images, train_labels, test_images, test_labels, valid_size=0.15, random_state = 2021):\n",
        "  train_images, train_oh_labels = get_preprocessed_ohe(train_images, train_labels)\n",
        "  test_images, test_oh_labels = get_preprocessed_ohe(test_images, test_labels)\n",
        "  tr_images, val_images, tr_oh_labels, val_oh_labels = train_test_split(train_images, train_oh_labels, test_size=valid_size, random_state=random_state)\n",
        "  return (tr_images, tr_oh_labels),(val_images, val_oh_labels),(test_images, test_oh_labels)"
      ],
      "execution_count": 45,
      "outputs": []
    },
    {
      "cell_type": "code",
      "metadata": {
        "id": "OONibC1ZuYfh"
      },
      "source": [
        "(tr_images, tr_oh_labels),(val_images, val_oh_labels),(test_images, test_oh_labels) = get_train_valid_test_set(train_images, train_labels, test_images, test_labels, valid_size=0.15, random_state = 2021)"
      ],
      "execution_count": 46,
      "outputs": []
    },
    {
      "cell_type": "code",
      "metadata": {
        "id": "ogyb_mmUt8WG"
      },
      "source": [
        "from tensorflow.keras.utils import to_categorical\n",
        "from tensorflow.keras.optimizers import Adam\n",
        "from tensorflow.keras.losses import categorical_crossentropy\n",
        "from tensorflow.keras.metrics import Accuracy\n",
        "\n",
        "model.compile(optimizer = Adam(0.001),loss='categorical_crossentropy',metrics=['Accuracy'])"
      ],
      "execution_count": 47,
      "outputs": []
    },
    {
      "cell_type": "code",
      "metadata": {
        "id": "y_4somM7t-JJ"
      },
      "source": [
        "history = model.fit(x=tr_images, y=tr_oh_labels, batch_size=128, epochs=30, validation_data=(val_images, val_oh_labels))"
      ],
      "execution_count": null,
      "outputs": []
    },
    {
      "cell_type": "code",
      "metadata": {
        "colab": {
          "base_uri": "https://localhost:8080/",
          "height": 265
        },
        "id": "4vNddhPjuCze",
        "outputId": "e12f21ac-4002-4678-ce3a-32c4eab08ff9"
      },
      "source": [
        "import matplotlib.pyplot as plt\n",
        "%matplotlib inline\n",
        "\n",
        "def show_history(history):\n",
        "  plt.plot(history.history['Accuracy'],label='train')\n",
        "  plt.plot(history.history['val_Accuracy'],label='valid')\n",
        "  plt.legend()\n",
        "show_history(history)"
      ],
      "execution_count": 52,
      "outputs": [
        {
          "output_type": "display_data",
          "data": {
            "image/png": "[encoded data removed]",
            "text/plain": [
              "<Figure size 432x288 with 1 Axes>"
            ]
          },
          "metadata": {
            "needs_background": "light"
          }
        }
      ]
    },
    {
      "cell_type": "code",
      "metadata": {
        "colab": {
          "base_uri": "https://localhost:8080/"
        },
        "id": "lLPDzZAuuT0F",
        "outputId": "7603de93-fccb-482d-9be4-1b01c921a0d1"
      },
      "source": [
        "model.evaluate(test_images, test_oh_labels, batch_size=256, verbose=1)"
      ],
      "execution_count": 53,
      "outputs": [
        {
          "output_type": "stream",
          "name": "stdout",
          "text": [
            "40/40 [==============================] - 1s 11ms/step - loss: 0.6226 - Accuracy: 0.9179\n"
          ]
        },
        {
          "output_type": "execute_result",
          "data": {
            "text/plain": [
              "[0.622579038143158, 0.917900025844574]"
            ]
          },
          "metadata": {},
          "execution_count": 53
        }
      ]
    },
    {
      "cell_type": "code",
      "metadata": {
        "colab": {
          "base_uri": "https://localhost:8080/"
        },
        "id": "09f5mAMi3bSu",
        "outputId": "8027aeaa-7e2c-40aa-a0d0-90250af7bb8c"
      },
      "source": [
        "model.summary()"
      ],
      "execution_count": 54,
      "outputs": [
        {
          "output_type": "stream",
          "name": "stdout",
          "text": [
            "Model: \"conv_7\"\n",
            "_________________________________________________________________\n",
            "Layer (type)                 Output Shape              Param #   \n",
            "=================================================================\n",
            "conv2d_13 (Conv2D)           multiple                  320       \n",
            "_________________________________________________________________\n",
            "conv2d_14 (Conv2D)           multiple                  18496     \n",
            "_________________________________________________________________\n",
            "max_pooling2d_6 (MaxPooling2 multiple                  0         \n",
            "_________________________________________________________________\n",
            "flatten_6 (Flatten)          multiple                  0         \n",
            "_________________________________________________________________\n",
            "dense_11 (Dense)             multiple                  1081700   \n",
            "_________________________________________________________________\n",
            "dense_12 (Dense)             multiple                  1010      \n",
            "=================================================================\n",
            "Total params: 1,101,526\n",
            "Trainable params: 1,101,526\n",
            "Non-trainable params: 0\n",
            "_________________________________________________________________\n"
          ]
        }
      ]
    },
    {
      "cell_type": "code",
      "metadata": {
        "id": "mj1_FupfugWK"
      },
      "source": [
        "class Conv(tf.keras.Model):\n",
        "  def __init__(self):\n",
        "    super(Conv, self).__init__()\n",
        "\n",
        "    self.conv2D1 = tf.keras.layers.Conv2D(filters=32, kernel_size=3, strides=1, padding='same', activation='relu')\n",
        "    self.conv2D2 = tf.keras.layers.Conv2D(filters=64, kernel_size=3, activation='relu')\n",
        "    self.MaxPool = tf.keras.layers.MaxPooling2D(2)\n",
        "    self.Flatten = tf.keras.layers.Flatten()\n",
        "    self.dropout = tf.keras.layers.Dropout(0.5)\n",
        "    self.Dense = tf.keras.layers.Dense(100, activation='relu')\n",
        "    self.OutPut = tf.keras.layers.Dense(10, activation='softmax')\n",
        "\n",
        "  def call(self,x):\n",
        "    # print(x)\n",
        "    inPut = tf.reshape(x,[-1, 28,28,1])\n",
        "    # print(input)\n",
        "    x = self.conv2D1(inPut)\n",
        "    x = self.conv2D2(x)\n",
        "    x = self.MaxPool(x)\n",
        "    x = self.Flatten(x)\n",
        "    x = self.dropout(x)\n",
        "    x = self.Dense(x)\n",
        "    x = self.OutPut(x)\n",
        "    return x\n",
        "\n",
        "model = Conv()"
      ],
      "execution_count": 55,
      "outputs": []
    },
    {
      "cell_type": "code",
      "metadata": {
        "colab": {
          "base_uri": "https://localhost:8080/"
        },
        "id": "ClpHxY323thA",
        "outputId": "da384b30-5afa-48ac-eb47-a1ea5eca3575"
      },
      "source": [
        "model.compile(optimizer = Adam(0.001),loss='categorical_crossentropy',metrics=['Accuracy'])\n",
        "history = model.fit(tr_images, tr_oh_labels, batch_size=128, epochs=30, validation_data=(val_images, val_oh_labels))"
      ],
      "execution_count": 57,
      "outputs": [
        {
          "output_type": "stream",
          "name": "stdout",
          "text": [
            "Epoch 1/30\n",
            "399/399 [==============================] - 7s 16ms/step - loss: 0.4477 - Accuracy: 0.8388 - val_loss: 0.3187 - val_Accuracy: 0.8840\n",
            "Epoch 2/30\n",
            "399/399 [==============================] - 6s 15ms/step - loss: 0.2971 - Accuracy: 0.8929 - val_loss: 0.2736 - val_Accuracy: 0.9010\n",
            "Epoch 3/30\n",
            "399/399 [==============================] - 6s 15ms/step - loss: 0.2511 - Accuracy: 0.9088 - val_loss: 0.2540 - val_Accuracy: 0.9064\n",
            "Epoch 4/30\n",
            "399/399 [==============================] - 6s 16ms/step - loss: 0.2155 - Accuracy: 0.9201 - val_loss: 0.2259 - val_Accuracy: 0.9163\n",
            "Epoch 5/30\n",
            "399/399 [==============================] - 6s 15ms/step - loss: 0.1885 - Accuracy: 0.9295 - val_loss: 0.2201 - val_Accuracy: 0.9186\n",
            "Epoch 6/30\n",
            "399/399 [==============================] - 6s 15ms/step - loss: 0.1694 - Accuracy: 0.9366 - val_loss: 0.2168 - val_Accuracy: 0.9218\n",
            "Epoch 7/30\n",
            "399/399 [==============================] - 6s 15ms/step - loss: 0.1527 - Accuracy: 0.9425 - val_loss: 0.2095 - val_Accuracy: 0.9260\n",
            "Epoch 8/30\n",
            "399/399 [==============================] - 6s 15ms/step - loss: 0.1360 - Accuracy: 0.9481 - val_loss: 0.2013 - val_Accuracy: 0.9283\n",
            "Epoch 9/30\n",
            "399/399 [==============================] - 6s 15ms/step - loss: 0.1220 - Accuracy: 0.9531 - val_loss: 0.1975 - val_Accuracy: 0.9313\n",
            "Epoch 10/30\n",
            "399/399 [==============================] - 6s 15ms/step - loss: 0.1101 - Accuracy: 0.9580 - val_loss: 0.2070 - val_Accuracy: 0.9284\n",
            "Epoch 11/30\n",
            "399/399 [==============================] - 6s 15ms/step - loss: 0.0970 - Accuracy: 0.9636 - val_loss: 0.2153 - val_Accuracy: 0.9280\n",
            "Epoch 12/30\n",
            "399/399 [==============================] - 6s 15ms/step - loss: 0.0890 - Accuracy: 0.9664 - val_loss: 0.2216 - val_Accuracy: 0.9286\n",
            "Epoch 13/30\n",
            "399/399 [==============================] - 6s 15ms/step - loss: 0.0808 - Accuracy: 0.9696 - val_loss: 0.2338 - val_Accuracy: 0.9298\n",
            "Epoch 14/30\n",
            "399/399 [==============================] - 6s 15ms/step - loss: 0.0736 - Accuracy: 0.9725 - val_loss: 0.2381 - val_Accuracy: 0.9278\n",
            "Epoch 15/30\n",
            "399/399 [==============================] - 6s 15ms/step - loss: 0.0672 - Accuracy: 0.9749 - val_loss: 0.2436 - val_Accuracy: 0.9286\n",
            "Epoch 16/30\n",
            "399/399 [==============================] - 6s 15ms/step - loss: 0.0623 - Accuracy: 0.9765 - val_loss: 0.2363 - val_Accuracy: 0.9320\n",
            "Epoch 17/30\n",
            "399/399 [==============================] - 6s 15ms/step - loss: 0.0558 - Accuracy: 0.9795 - val_loss: 0.2418 - val_Accuracy: 0.9340\n",
            "Epoch 18/30\n",
            "399/399 [==============================] - 6s 15ms/step - loss: 0.0512 - Accuracy: 0.9808 - val_loss: 0.2494 - val_Accuracy: 0.9323\n",
            "Epoch 19/30\n",
            "399/399 [==============================] - 6s 15ms/step - loss: 0.0496 - Accuracy: 0.9813 - val_loss: 0.2446 - val_Accuracy: 0.9312\n",
            "Epoch 20/30\n",
            "399/399 [==============================] - 6s 15ms/step - loss: 0.0444 - Accuracy: 0.9837 - val_loss: 0.2818 - val_Accuracy: 0.9269\n",
            "Epoch 21/30\n",
            "399/399 [==============================] - 6s 15ms/step - loss: 0.0439 - Accuracy: 0.9842 - val_loss: 0.2850 - val_Accuracy: 0.9308\n",
            "Epoch 22/30\n",
            "399/399 [==============================] - 6s 15ms/step - loss: 0.0402 - Accuracy: 0.9852 - val_loss: 0.2842 - val_Accuracy: 0.9304\n",
            "Epoch 23/30\n",
            "399/399 [==============================] - 6s 15ms/step - loss: 0.0378 - Accuracy: 0.9861 - val_loss: 0.2999 - val_Accuracy: 0.9276\n",
            "Epoch 24/30\n",
            "399/399 [==============================] - 6s 15ms/step - loss: 0.0368 - Accuracy: 0.9863 - val_loss: 0.3124 - val_Accuracy: 0.9281\n",
            "Epoch 25/30\n",
            "399/399 [==============================] - 6s 15ms/step - loss: 0.0348 - Accuracy: 0.9875 - val_loss: 0.3161 - val_Accuracy: 0.9308\n",
            "Epoch 26/30\n",
            "399/399 [==============================] - 6s 15ms/step - loss: 0.0316 - Accuracy: 0.9881 - val_loss: 0.3133 - val_Accuracy: 0.9290\n",
            "Epoch 27/30\n",
            "399/399 [==============================] - 6s 15ms/step - loss: 0.0341 - Accuracy: 0.9880 - val_loss: 0.3100 - val_Accuracy: 0.9277\n",
            "Epoch 28/30\n",
            "399/399 [==============================] - 6s 15ms/step - loss: 0.0310 - Accuracy: 0.9892 - val_loss: 0.3063 - val_Accuracy: 0.9304\n",
            "Epoch 29/30\n",
            "399/399 [==============================] - 6s 15ms/step - loss: 0.0294 - Accuracy: 0.9893 - val_loss: 0.3023 - val_Accuracy: 0.9317\n",
            "Epoch 30/30\n",
            "399/399 [==============================] - 6s 15ms/step - loss: 0.0277 - Accuracy: 0.9903 - val_loss: 0.3379 - val_Accuracy: 0.9284\n"
          ]
        }
      ]
    },
    {
      "cell_type": "code",
      "metadata": {
        "id": "DwHc5uXy3u6g"
      },
      "source": [
        ""
      ],
      "execution_count": null,
      "outputs": []
    }
  ]
}