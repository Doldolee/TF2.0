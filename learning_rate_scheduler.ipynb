{
  "metadata": {
    "kernelspec": {
      "language": "python",
      "display_name": "Python 3",
      "name": "python3"
    },
    "language_info": {
      "name": "python",
      "version": "3.7.12",
      "mimetype": "text/x-python",
      "codemirror_mode": {
        "name": "ipython",
        "version": 3
      },
      "pygments_lexer": "ipython3",
      "nbconvert_exporter": "python",
      "file_extension": ".py"
    },
    "colab": {
      "name": "learning-rate-scheduler.ipynb",
      "provenance": [],
      "include_colab_link": true
    }
  },
  "nbformat_minor": 0,
  "nbformat": 4,
  "cells": [
    {
      "cell_type": "markdown",
      "metadata": {
        "id": "view-in-github",
        "colab_type": "text"
      },
      "source": [
        "<a href=\"https://colab.research.google.com/github/dolDolSee/TF2.0/blob/main/learning_rate_scheduler.ipynb\" target=\"_parent\"><img src=\"https://colab.research.google.com/assets/colab-badge.svg\" alt=\"Open In Colab\"/></a>"
      ]
    },
    {
      "cell_type": "code",
      "source": [
        "# This Python 3 environment comes with many helpful analytics libraries installed\n",
        "# It is defined by the kaggle/python Docker image: https://github.com/kaggle/docker-python\n",
        "# For example, here's several helpful packages to load\n",
        "\n",
        "import numpy as np # linear algebra\n",
        "import pandas as pd # data processing, CSV file I/O (e.g. pd.read_csv)\n",
        "\n",
        "# Input data files are available in the read-only \"../input/\" directory\n",
        "# For example, running this (by clicking run or pressing Shift+Enter) will list all files under the input directory\n",
        "\n",
        "import os\n",
        "for dirname, _, filenames in os.walk('/kaggle/input'):\n",
        "    for filename in filenames:\n",
        "        print(os.path.join(dirname, filename))\n",
        "\n",
        "# You can write up to 20GB to the current directory (/kaggle/working/) that gets preserved as output when you create a version using \"Save & Run All\" \n",
        "# You can also write temporary files to /kaggle/temp/, but they won't be saved outside of the current session"
      ],
      "metadata": {
        "_uuid": "8f2839f25d086af736a60e9eeb907d3b93b6e0e5",
        "_cell_guid": "b1076dfc-b9ad-4769-8c92-a6c4dae69d19",
        "execution": {
          "iopub.status.busy": "2021-12-16T08:00:37.661628Z",
          "iopub.execute_input": "2021-12-16T08:00:37.662206Z",
          "iopub.status.idle": "2021-12-16T08:00:37.689519Z",
          "shell.execute_reply.started": "2021-12-16T08:00:37.662116Z",
          "shell.execute_reply": "2021-12-16T08:00:37.688575Z"
        },
        "trusted": true,
        "id": "bWXQAU7KXOr3"
      },
      "execution_count": null,
      "outputs": []
    },
    {
      "cell_type": "code",
      "source": [
        "import tensorflow as tf\n",
        "import numpy as np\n",
        "\n",
        "#  자동으로 초기 lr값 받아옴\n",
        "def scheduler_exp(epoch,lr):\n",
        "    if epoch <1:\n",
        "        return lr\n",
        "    else:\n",
        "        return lr*np.exp(-1.0)\n",
        "    \n",
        "    "
      ],
      "metadata": {
        "execution": {
          "iopub.status.busy": "2021-12-16T08:01:16.326486Z",
          "iopub.execute_input": "2021-12-16T08:01:16.327163Z",
          "iopub.status.idle": "2021-12-16T08:01:21.531288Z",
          "shell.execute_reply.started": "2021-12-16T08:01:16.327120Z",
          "shell.execute_reply": "2021-12-16T08:01:21.530405Z"
        },
        "trusted": true,
        "id": "_zXp9jupXOr7"
      },
      "execution_count": null,
      "outputs": []
    },
    {
      "cell_type": "code",
      "source": [
        "from tensorflow.keras.models import Sequential\n",
        "from tensorflow.keras.layers import Dense\n",
        "from tensorflow.keras.optimizers import SGD\n",
        "\n",
        "from tensorflow.keras.callbacks import LearningRateScheduler\n",
        "\n",
        "\n",
        "def scheduler_exp(epoch, lr):\n",
        "    if epoch < 1:\n",
        "        return lr\n",
        "    else:\n",
        "        return lr * np.exp(-1.0)\n",
        "    \n",
        "# 테스트용 모델\n",
        "model = Sequential([Dense(10)])\n",
        "model.compile(optimizer=SGD(), loss='mse')\n",
        "print('최초 learning rated:', round(model.optimizer.lr.numpy(), 5))\n",
        "\n",
        "# LearningRateScheduler 객체에 인자로 scheduler_exp 함수 등록 \n",
        "lr_scheduler = LearningRateScheduler(scheduler_exp, verbose=1)\n",
        "\n",
        "history = model.fit(np.arange(100).reshape(5, 20), np.zeros(5),\n",
        "                    epochs=15, callbacks=[lr_scheduler], verbose=1)"
      ],
      "metadata": {
        "execution": {
          "iopub.status.busy": "2021-12-16T08:02:04.898059Z",
          "iopub.execute_input": "2021-12-16T08:02:04.898338Z",
          "iopub.status.idle": "2021-12-16T08:02:07.142392Z",
          "shell.execute_reply.started": "2021-12-16T08:02:04.898310Z",
          "shell.execute_reply": "2021-12-16T08:02:07.141344Z"
        },
        "trusted": true,
        "id": "RlPZa_jiXOr8"
      },
      "execution_count": null,
      "outputs": []
    },
    {
      "cell_type": "code",
      "source": [
        "#직접 initial 값을 할당해줌\n",
        "def scheduler_exp(epoch):\n",
        "    initial_lr = 0.01\n",
        "    if epoch < 1:\n",
        "        return initial_lr\n",
        "    else:\n",
        "        return initial_lr * np.exp(-1.0)**epoch\n",
        "\n",
        "    \n",
        "model = Sequential([Dense(10)])\n",
        "model.compile(optimizer=SGD(), loss='mse')\n",
        "print('최초 learning rated:', round(model.optimizer.lr.numpy(), 5))\n",
        "\n",
        "# LearningRateScheduler 객체에 인자로 scheduler_exp 함수 등록 \n",
        "lr_scheduler = LearningRateScheduler(scheduler_exp, verbose=1)\n",
        "history = model.fit(np.arange(100).reshape(5, 20), np.zeros(5),\n",
        "                    epochs=15, callbacks=[lr_scheduler], verbose=1)"
      ],
      "metadata": {
        "execution": {
          "iopub.status.busy": "2021-12-16T08:02:45.359988Z",
          "iopub.execute_input": "2021-12-16T08:02:45.360522Z",
          "iopub.status.idle": "2021-12-16T08:02:45.828996Z",
          "shell.execute_reply.started": "2021-12-16T08:02:45.360473Z",
          "shell.execute_reply": "2021-12-16T08:02:45.828046Z"
        },
        "trusted": true,
        "id": "gekOqSXNXOr9"
      },
      "execution_count": null,
      "outputs": []
    },
    {
      "cell_type": "code",
      "source": [
        "import matplotlib.pyplot as plt\n",
        "%matplotlib inline\n",
        "\n",
        "def plot_scheduler(epochs_list, lr_list, title=None):\n",
        "    plt.figure(figsize=(6,4))\n",
        "    plt.plot(epochs_list, lr_list)\n",
        "    plt.xlabel('epochs')\n",
        "    plt.ylabel('learning rate')\n",
        "    plt.title(title)"
      ],
      "metadata": {
        "execution": {
          "iopub.status.busy": "2021-12-16T08:02:49.183446Z",
          "iopub.execute_input": "2021-12-16T08:02:49.184069Z",
          "iopub.status.idle": "2021-12-16T08:02:49.195573Z",
          "shell.execute_reply.started": "2021-12-16T08:02:49.184000Z",
          "shell.execute_reply": "2021-12-16T08:02:49.194825Z"
        },
        "trusted": true,
        "id": "dxiP3lSnXOr9"
      },
      "execution_count": null,
      "outputs": []
    },
    {
      "cell_type": "code",
      "source": [
        "epochs_list = range(30)\n",
        "lr_list = [ scheduler_exp(epoch) for epoch in epochs_list]"
      ],
      "metadata": {
        "execution": {
          "iopub.status.busy": "2021-12-16T08:03:09.567654Z",
          "iopub.execute_input": "2021-12-16T08:03:09.568084Z",
          "iopub.status.idle": "2021-12-16T08:03:09.573081Z",
          "shell.execute_reply.started": "2021-12-16T08:03:09.568046Z",
          "shell.execute_reply": "2021-12-16T08:03:09.572256Z"
        },
        "trusted": true,
        "id": "yGnqj1zHXOr-"
      },
      "execution_count": null,
      "outputs": []
    },
    {
      "cell_type": "code",
      "source": [
        "plot_scheduler(epochs_list, lr_list, 'exponentially decay')"
      ],
      "metadata": {
        "execution": {
          "iopub.status.busy": "2021-12-16T08:03:09.856200Z",
          "iopub.execute_input": "2021-12-16T08:03:09.856500Z",
          "iopub.status.idle": "2021-12-16T08:03:10.107583Z",
          "shell.execute_reply.started": "2021-12-16T08:03:09.856472Z",
          "shell.execute_reply": "2021-12-16T08:03:10.107011Z"
        },
        "trusted": true,
        "id": "wi-pgq0qXOr_"
      },
      "execution_count": null,
      "outputs": []
    },
    {
      "cell_type": "code",
      "source": [
        "import tensorflow as tf\n",
        "\n",
        "def step_decay(epoch):\n",
        "    initial_lr = 0.1\n",
        "    drop = 0.5\n",
        "    epochs_drop = 5.0\n",
        "    lr = initial_lr * (drop ** np.floor((epoch)/epochs_drop))\n",
        "    print('epoch:',epoch,'lr:', lr)\n",
        "    return lr\n",
        "\n",
        "lr_list = [step_decay(epoch) for epoch  in epochs_list]\n",
        "plot_scheduler(epochs_list, lr_list, title='Step Decay')"
      ],
      "metadata": {
        "execution": {
          "iopub.status.busy": "2021-12-16T08:03:39.661666Z",
          "iopub.execute_input": "2021-12-16T08:03:39.662202Z",
          "iopub.status.idle": "2021-12-16T08:03:39.898767Z",
          "shell.execute_reply.started": "2021-12-16T08:03:39.662139Z",
          "shell.execute_reply": "2021-12-16T08:03:39.897870Z"
        },
        "trusted": true,
        "id": "8XBNkzI3XOr_"
      },
      "execution_count": null,
      "outputs": []
    },
    {
      "cell_type": "code",
      "source": [
        "model = Sequential([Dense(10)])\n",
        "model.compile(optimizer=SGD(), loss='mse')\n",
        "print('최초 learning rated:', round(model.optimizer.lr.numpy(), 5))\n",
        "\n",
        "lr_scheduler = LearningRateScheduler(step_decay, verbose=1)\n",
        "history = model.fit(np.arange(100).reshape(5, 20), np.zeros(5),\n",
        "                    epochs=15, callbacks=[lr_scheduler], verbose=1)"
      ],
      "metadata": {
        "execution": {
          "iopub.status.busy": "2021-12-16T08:03:44.559855Z",
          "iopub.execute_input": "2021-12-16T08:03:44.560213Z",
          "iopub.status.idle": "2021-12-16T08:03:45.003391Z",
          "shell.execute_reply.started": "2021-12-16T08:03:44.560175Z",
          "shell.execute_reply": "2021-12-16T08:03:45.002558Z"
        },
        "trusted": true,
        "id": "_FO_gaZRXOsA"
      },
      "execution_count": null,
      "outputs": []
    },
    {
      "cell_type": "code",
      "source": [
        "cos_decay = tf.keras.experimental.CosineDecay(initial_learning_rate=1e-2, decay_steps=30, alpha=1e-2)"
      ],
      "metadata": {
        "execution": {
          "iopub.status.busy": "2021-12-16T08:20:44.063711Z",
          "iopub.execute_input": "2021-12-16T08:20:44.065962Z",
          "iopub.status.idle": "2021-12-16T08:20:44.079900Z",
          "shell.execute_reply.started": "2021-12-16T08:20:44.065866Z",
          "shell.execute_reply": "2021-12-16T08:20:44.079095Z"
        },
        "trusted": true,
        "id": "aCAbMbL0XOsB"
      },
      "execution_count": null,
      "outputs": []
    },
    {
      "cell_type": "code",
      "source": [
        "model = tf.keras.models.Sequential([tf.keras.layers.Dense(10)])\n",
        "# CosineDecay는 learning_rate 인자로 입력되어야 함. \n",
        "model.compile(tf.keras.optimizers.Adam(learning_rate=cos_decay), loss='mse')\n",
        "\n",
        "history = model.fit(np.arange(100).reshape(5, 20), np.zeros(5),\n",
        "                    epochs=15, verbose=1)"
      ],
      "metadata": {
        "id": "flvhd8GWXOsB"
      },
      "execution_count": null,
      "outputs": []
    },
    {
      "cell_type": "code",
      "source": [
        "from tensorflow.keras.experimental import CosineDecayRestarts\n",
        "\n",
        "cos_decay_restarts = CosineDecayRestarts(initial_learning_rate=0.01, first_decay_steps=10, t_mul=1, m_mul=0.9, alpha=0)\n",
        "steps_list = range(0, 120)\n",
        "lr_list = cos_decay_restarts(steps_list)\n",
        "\n",
        "plot_scheduler(steps_list, lr_list, 'Cosine Decay Restarts')"
      ],
      "metadata": {
        "execution": {
          "iopub.status.busy": "2021-12-16T08:21:44.584841Z",
          "iopub.execute_input": "2021-12-16T08:21:44.585546Z",
          "iopub.status.idle": "2021-12-16T08:21:44.856056Z",
          "shell.execute_reply.started": "2021-12-16T08:21:44.585497Z",
          "shell.execute_reply": "2021-12-16T08:21:44.855175Z"
        },
        "trusted": true,
        "id": "0aaVuOr_XOsC"
      },
      "execution_count": null,
      "outputs": []
    },
    {
      "cell_type": "code",
      "source": [
        "model = tf.keras.models.Sequential([tf.keras.layers.Dense(10)])\n",
        "# CosineDecay 객체는 optimizer의 learning_rate 인자로 입력되어야 함. \n",
        "model.compile(tf.keras.optimizers.Adam(learning_rate=cos_decay_restarts), loss='mse')\n",
        "\n",
        "history = model.fit(np.arange(100).reshape(5, 20), np.zeros(5),\n",
        "                    epochs=15, verbose=1)"
      ],
      "metadata": {
        "execution": {
          "iopub.status.busy": "2021-12-16T08:21:54.846705Z",
          "iopub.execute_input": "2021-12-16T08:21:54.847162Z",
          "iopub.status.idle": "2021-12-16T08:21:55.405587Z",
          "shell.execute_reply.started": "2021-12-16T08:21:54.847117Z",
          "shell.execute_reply": "2021-12-16T08:21:55.404813Z"
        },
        "trusted": true,
        "id": "A0Dbm1kJXOsC"
      },
      "execution_count": null,
      "outputs": []
    },
    {
      "cell_type": "markdown",
      "source": [
        ""
      ],
      "metadata": {
        "id": "z7phDEghXOsD"
      }
    },
    {
      "cell_type": "markdown",
      "source": [
        "### Ramp Up and Step Down Decay\n",
        "* Ramp up으로 warm up 수행 후 Step 형식으로 Decay 하는 방식. \n",
        "* Kaggle의 Chris Deotte 가 제안하여 사용됨. "
      ],
      "metadata": {
        "id": "zXUM38epXOsF"
      }
    },
    {
      "cell_type": "code",
      "source": [
        "def lrfn(epoch):\n",
        "    LR_START = 1e-5\n",
        "    LR_MAX = 1e-2\n",
        "    LR_RAMPUP_EPOCHS = 3\n",
        "    LR_SUSTAIN_EPOCHS = 3\n",
        "    LR_STEP_DECAY = 0.75\n",
        "    \n",
        "    def calc_fn(epoch):\n",
        "        if epoch < LR_RAMPUP_EPOCHS:\n",
        "            lr = ((LR_MAX - LR_START) / LR_RAMPUP_EPOCHS) * epoch + LR_START\n",
        "        elif epoch < LR_RAMPUP_EPOCHS + LR_SUSTAIN_EPOCHS:\n",
        "            lr = LR_MAX\n",
        "        else:\n",
        "            lr = LR_MAX * LR_STEP_DECAY**((epoch - LR_RAMPUP_EPOCHS - LR_SUSTAIN_EPOCHS)//2)\n",
        "        \n",
        "        print('epoch:', epoch, 'lr:', lr)\n",
        "        \n",
        "        return lr\n",
        "    \n",
        "    # 반드시 내포 함수인 calc_fn(epoch)를 호출해야함. \n",
        "    return calc_fn(epoch)"
      ],
      "metadata": {
        "execution": {
          "iopub.status.busy": "2021-12-16T08:28:16.737636Z",
          "iopub.execute_input": "2021-12-16T08:28:16.737940Z",
          "iopub.status.idle": "2021-12-16T08:28:16.746649Z",
          "shell.execute_reply.started": "2021-12-16T08:28:16.737909Z",
          "shell.execute_reply": "2021-12-16T08:28:16.745646Z"
        },
        "trusted": true,
        "id": "PKyCDF3sXOsF"
      },
      "execution_count": null,
      "outputs": []
    },
    {
      "cell_type": "code",
      "source": [
        "import tensorflow as tf\n",
        "import numpy as np\n",
        "\n",
        "\n",
        "model = tf.keras.models.Sequential([tf.keras.layers.Dense(10)])\n",
        "model.compile(tf.keras.optimizers.SGD(), loss='mse')\n",
        "\n",
        "lr_scheduler = tf.keras.callbacks.LearningRateScheduler(lrfn)\n",
        "history = model.fit(np.arange(100).reshape(5, 20), np.zeros(5),\n",
        "                    epochs=30, callbacks=[lr_scheduler], verbose=1)"
      ],
      "metadata": {
        "execution": {
          "iopub.status.busy": "2021-12-16T08:28:27.335608Z",
          "iopub.execute_input": "2021-12-16T08:28:27.336514Z",
          "iopub.status.idle": "2021-12-16T08:28:27.857273Z",
          "shell.execute_reply.started": "2021-12-16T08:28:27.336474Z",
          "shell.execute_reply": "2021-12-16T08:28:27.856531Z"
        },
        "trusted": true,
        "id": "foSGAk3dXOsG"
      },
      "execution_count": null,
      "outputs": []
    },
    {
      "cell_type": "code",
      "source": [
        ""
      ],
      "metadata": {
        "id": "ljD3gF5cXOsG"
      },
      "execution_count": null,
      "outputs": []
    }
  ]
}